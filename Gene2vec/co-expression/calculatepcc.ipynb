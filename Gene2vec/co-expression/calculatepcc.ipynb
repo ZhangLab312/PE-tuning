{
 "cells": [
  {
   "cell_type": "code",
   "execution_count": 7,
   "metadata": {
    "collapsed": true,
    "ExecuteTime": {
     "end_time": "2023-07-18T13:43:41.800621800Z",
     "start_time": "2023-07-18T13:43:41.796057100Z"
    }
   },
   "outputs": [],
   "source": [
    "import numpy as np\n",
    "\n",
    "# 创建两个简单的数组\n",
    "x = np.array([1, 2, 3, 3, 4])\n",
    "y = np.array([4, 5, 6, 3, 1])"
   ]
  },
  {
   "cell_type": "code",
   "execution_count": 8,
   "outputs": [],
   "source": [
    "# 计算皮尔逊相关系数\n",
    "r = np.corrcoef(x, y)[0, 1]\n"
   ],
   "metadata": {
    "collapsed": false,
    "ExecuteTime": {
     "end_time": "2023-07-18T13:43:42.327739700Z",
     "start_time": "2023-07-18T13:43:42.309736Z"
    }
   }
  },
  {
   "cell_type": "code",
   "execution_count": 9,
   "outputs": [
    {
     "data": {
      "text/plain": "-0.5015568278463085"
     },
     "execution_count": 9,
     "metadata": {},
     "output_type": "execute_result"
    }
   ],
   "source": [
    "# 显示结果\n",
    "r"
   ],
   "metadata": {
    "collapsed": false,
    "ExecuteTime": {
     "end_time": "2023-07-18T13:43:42.847844500Z",
     "start_time": "2023-07-18T13:43:42.835841400Z"
    }
   }
  },
  {
   "cell_type": "code",
   "execution_count": 10,
   "outputs": [
    {
     "data": {
      "text/plain": "array([[ 1.        , -0.50155683],\n       [-0.50155683,  1.        ]])"
     },
     "execution_count": 10,
     "metadata": {},
     "output_type": "execute_result"
    }
   ],
   "source": [
    "m = np.corrcoef(x, y)\n",
    "m"
   ],
   "metadata": {
    "collapsed": false,
    "ExecuteTime": {
     "end_time": "2023-07-18T13:43:43.469088100Z",
     "start_time": "2023-07-18T13:43:43.459085800Z"
    }
   }
  },
  {
   "cell_type": "code",
   "execution_count": 20,
   "outputs": [
    {
     "name": "stdout",
     "output_type": "stream",
     "text": [
      "0.9847762934788714\n"
     ]
    }
   ],
   "source": [
    "import pandas as pd\n",
    "\n",
    "# 创建一个简单的 DataFrame\n",
    "data = {'A': [1.1, 22.6, 3, 3, 4], 'B': [4, 50.2, 6, 3, 1]}\n",
    "df = pd.DataFrame(data)\n",
    "\n",
    "# 计算 'A' 列和 'B' 列之间的皮尔逊相关系数\n",
    "r = df['A'].corr(df['B'])\n",
    "\n",
    "# 显示结果\n",
    "print(r)"
   ],
   "metadata": {
    "collapsed": false,
    "ExecuteTime": {
     "end_time": "2023-07-18T14:01:30.198217100Z",
     "start_time": "2023-07-18T14:01:30.181212300Z"
    }
   }
  },
  {
   "cell_type": "markdown",
   "source": [
    "# 下面才是计算我们需要的数据"
   ],
   "metadata": {
    "collapsed": false
   }
  },
  {
   "cell_type": "code",
   "execution_count": 1,
   "outputs": [],
   "source": [
    "import anndata\n",
    "import pandas as pd"
   ],
   "metadata": {
    "collapsed": false,
    "ExecuteTime": {
     "end_time": "2023-07-25T07:14:50.059551300Z",
     "start_time": "2023-07-25T07:14:47.480496500Z"
    }
   }
  },
  {
   "cell_type": "code",
   "execution_count": 2,
   "outputs": [
    {
     "data": {
      "text/plain": "AnnData object with n_obs × n_vars = 1749 × 10391\n    obs: 'Sample', 'doublet', 'n_genes_by_counts', 'total_counts', 'total_counts_mt', 'pct_counts_mt', 'total_counts_ribo', 'pct_counts_ribo', 'cell_label', '_scvi_batch', '_scvi_labels', 'tsne_0', 'tsne_1', 'leiden', '_scvi_raw_norm_scaling'\n    var: 'n_cells'\n    uns: 'Sample_colors', '_scvi_manager_uuid', '_scvi_uuid', 'cell_label_colors', 'leiden', 'leiden_colors', 'log1p', 'markers', 'markers_scvi', 'neighbors', 'rank_genes_groups', 'tsne'\n    obsm: 'X_pca', 'X_scVI', 'X_tsne', '_scvi_extra_categorical_covs', '_scvi_extra_continuous_covs'\n    layers: 'counts', 'scvi_normalized'\n    obsp: 'connectivities', 'distances'"
     },
     "execution_count": 2,
     "metadata": {},
     "output_type": "execute_result"
    }
   ],
   "source": [
    "adata = anndata.read_h5ad('data-processing/integrated-no-filtration-mouse.h5ad')\n",
    "adata"
   ],
   "metadata": {
    "collapsed": false,
    "ExecuteTime": {
     "end_time": "2023-07-25T07:16:51.409019600Z",
     "start_time": "2023-07-25T07:16:50.905325200Z"
    }
   }
  },
  {
   "cell_type": "code",
   "execution_count": 10,
   "outputs": [
    {
     "data": {
      "text/plain": "array([[0.        , 0.        , 0.7046421 , ..., 0.7046421 , 0.        ,\n        1.1139097 ],\n       [0.8410236 , 0.8410236 , 0.        , ..., 0.8410236 , 0.8410236 ,\n        0.        ],\n       [0.        , 0.        , 0.74593014, ..., 0.        , 0.        ,\n        0.        ],\n       ...,\n       [0.        , 0.        , 0.        , ..., 0.        , 0.        ,\n        0.        ],\n       [0.        , 0.        , 0.        , ..., 0.        , 0.        ,\n        0.        ],\n       [0.        , 0.        , 0.        , ..., 0.        , 0.        ,\n        0.        ]], dtype=float32)"
     },
     "execution_count": 10,
     "metadata": {},
     "output_type": "execute_result"
    }
   ],
   "source": [
    "adata.X.toarray()"
   ],
   "metadata": {
    "collapsed": false,
    "ExecuteTime": {
     "end_time": "2023-07-25T07:24:53.519294400Z",
     "start_time": "2023-07-25T07:24:53.476285800Z"
    }
   }
  },
  {
   "cell_type": "code",
   "execution_count": 13,
   "outputs": [
    {
     "data": {
      "text/plain": "array([[0., 0., 1., ..., 1., 0., 2.],\n       [1., 1., 0., ..., 1., 1., 0.],\n       [0., 0., 1., ..., 0., 0., 0.],\n       ...,\n       [0., 0., 0., ..., 0., 0., 0.],\n       [0., 0., 0., ..., 0., 0., 0.],\n       [0., 0., 0., ..., 0., 0., 0.]], dtype=float32)"
     },
     "execution_count": 13,
     "metadata": {},
     "output_type": "execute_result"
    }
   ],
   "source": [
    "adata.layers['counts'].toarray()"
   ],
   "metadata": {
    "collapsed": false,
    "ExecuteTime": {
     "end_time": "2023-07-25T07:25:30.094118Z",
     "start_time": "2023-07-25T07:25:30.046107300Z"
    }
   }
  },
  {
   "cell_type": "code",
   "execution_count": 16,
   "outputs": [
    {
     "data": {
      "text/plain": "array([[0.06973211, 0.15309328, 0.51507634, ..., 0.47246483, 0.46111214,\n        0.68825686],\n       [0.20074664, 0.27079445, 0.24380021, ..., 0.84877264, 0.5825992 ,\n        1.1420248 ],\n       [0.2998766 , 0.6604389 , 0.33520782, ..., 0.27335444, 0.8291221 ,\n        0.17239672],\n       ...,\n       [0.80821776, 0.33082455, 0.03574816, ..., 0.4729761 , 1.0744681 ,\n        0.9628242 ],\n       [0.24510114, 0.2111673 , 0.03739965, ..., 0.62621516, 0.41151962,\n        2.8850958 ],\n       [0.57671577, 0.1786939 , 0.01946945, ..., 0.45297557, 0.3057082 ,\n        0.8801038 ]], dtype=float32)"
     },
     "execution_count": 16,
     "metadata": {},
     "output_type": "execute_result"
    }
   ],
   "source": [
    "adata.layers['scvi_normalized']"
   ],
   "metadata": {
    "collapsed": false,
    "ExecuteTime": {
     "end_time": "2023-07-25T07:26:00.795781600Z",
     "start_time": "2023-07-25T07:26:00.767775200Z"
    }
   }
  },
  {
   "cell_type": "code",
   "execution_count": 17,
   "outputs": [
    {
     "data": {
      "text/plain": "Index(['0610007P14Rik', '0610009B22Rik', '0610009E02Rik', '0610009L18Rik',\n       '0610009O20Rik', '0610010F05Rik', '0610010K14Rik', '0610011F06Rik',\n       '0610012G03Rik', '0610030E20Rik',\n       ...\n       'Zufsp', 'Zw10', 'Zwint', 'Zxdb', 'Zxdc', 'Zyg11b', 'Zyx', 'Zzef1',\n       'Zzz3', 'l7Rn6'],\n      dtype='object', length=10391)"
     },
     "execution_count": 17,
     "metadata": {},
     "output_type": "execute_result"
    }
   ],
   "source": [
    "gene_var_label = adata.var.index\n",
    "gene_var_label"
   ],
   "metadata": {
    "collapsed": false,
    "ExecuteTime": {
     "end_time": "2023-07-25T07:26:11.758419400Z",
     "start_time": "2023-07-25T07:26:11.744416100Z"
    }
   }
  },
  {
   "cell_type": "code",
   "execution_count": 18,
   "outputs": [
    {
     "data": {
      "text/plain": "['0610007P14Rik',\n '0610009B22Rik',\n '0610009E02Rik',\n '0610009L18Rik',\n '0610009O20Rik',\n '0610010F05Rik',\n '0610010K14Rik',\n '0610011F06Rik',\n '0610012G03Rik',\n '0610030E20Rik',\n '0610037L13Rik',\n '0610040J01Rik',\n '1110001J03Rik',\n '1110002L01Rik',\n '1110004E09Rik',\n '1110004F10Rik',\n '1110008F13Rik',\n '1110008L16Rik',\n '1110008P14Rik',\n '1110012L19Rik',\n '1110020A21Rik',\n '1110032A03Rik',\n '1110034G24Rik',\n '1110037F02Rik',\n '1110038B12Rik',\n '1110038F14Rik',\n '1110051M20Rik',\n '1110059E24Rik',\n '1110059G10Rik',\n '1110065P20Rik',\n '1190002N15Rik',\n '1190007I07Rik',\n '1300002E11Rik',\n '1500009L16Rik',\n '1500011B03Rik',\n '1500011K16Rik',\n '1500026H17Rik',\n '1520401A03Rik',\n '1600002H07Rik',\n '1600002K03Rik',\n '1600012H06Rik',\n '1600014C10Rik',\n '1600020E01Rik',\n '1700017B05Rik',\n '1700019D03Rik',\n '1700020I14Rik',\n '1700021F05Rik',\n '1700023F06Rik',\n '1700025G04Rik',\n '1700029J07Rik',\n '1700030K09Rik',\n '1700037C18Rik',\n '1700037H04Rik',\n '1700047I17Rik2',\n '1700049G17Rik',\n '1700073E17Rik',\n '1700086L19Rik',\n '1700088E04Rik',\n '1700110K17Rik',\n '1700113A16Rik',\n '1700123O20Rik',\n '1810009A15Rik',\n '1810010H24Rik',\n '1810011O10Rik',\n '1810013L24Rik',\n '1810022K09Rik',\n '1810024B03Rik',\n '1810026B05Rik',\n '1810026J23Rik',\n '1810030O07Rik',\n '1810032O08Rik',\n '1810037I17Rik',\n '1810041L15Rik',\n '1810043G02Rik',\n '1810043H04Rik',\n '1810044D09Rik',\n '1810055G02Rik',\n '1810058I24Rik',\n '1810059H22Rik',\n '2010107E04Rik',\n '2010107G23Rik',\n '2010111I01Rik',\n '2010300C02Rik',\n '2010315B03Rik',\n '2200002D01Rik',\n '2210010C04Rik',\n '2210013O21Rik',\n '2210016F16Rik',\n '2210016L21Rik',\n '2210019I11Rik',\n '2210408F21Rik',\n '2300009A05Rik',\n '2310001H17Rik',\n '2310009A05Rik',\n '2310009B15Rik',\n '2310010J17Rik',\n '2310011J03Rik',\n '2310022A10Rik',\n '2310022B05Rik',\n '2310030G06Rik',\n '2310033P09Rik',\n '2310035C23Rik',\n '2310036O22Rik',\n '2310039H08Rik',\n '2310057M21Rik',\n '2310061I04Rik',\n '2410002F23Rik',\n '2410004B18Rik',\n '2410006H16Rik',\n '2410015M20Rik',\n '2410016O06Rik',\n '2410018L13Rik',\n '2410089E03Rik',\n '2410131K14Rik',\n '2510002D24Rik',\n '2510009E07Rik',\n '2510039O18Rik',\n '2610001J05Rik',\n '2610002M06Rik',\n '2610005L07Rik',\n '2610021A01Rik',\n '2610035D17Rik',\n '2610044O15Rik8',\n '2610301B20Rik',\n '2610507B11Rik',\n '2610528J11Rik',\n '2700029M09Rik',\n '2700046G09Rik',\n '2700049A03Rik',\n '2700060E02Rik',\n '2700062C07Rik',\n '2700094K13Rik',\n '2700097O09Rik',\n '2810004N23Rik',\n '2810021J22Rik',\n '2810025M15Rik',\n '2810403A07Rik',\n '2810417H13Rik',\n '2810428I15Rik',\n '2810474O19Rik',\n '2900026A02Rik',\n '2900052L18Rik',\n '2900076A07Rik',\n '3000002C10Rik',\n '3010003L21Rik',\n '3110002H16Rik',\n '3110009E18Rik',\n '3110040N11Rik',\n '3110043O21Rik',\n '3110062M04Rik',\n '3110082I17Rik',\n '3830406C13Rik',\n '4632404H12Rik',\n '4632427E13Rik',\n '4833420G17Rik',\n '4833439L19Rik',\n '4921524J17Rik',\n '4930402H24Rik',\n '4930453N24Rik',\n '4930523C07Rik',\n '4930539E08Rik',\n '4930581F22Rik',\n '4931406C07Rik',\n '4931406P16Rik',\n '4931414P19Rik',\n '4931428F04Rik',\n '4931440F15Rik',\n '4932438A13Rik',\n '4933404O12Rik',\n '4933421O10Rik',\n '4933427D14Rik',\n '4933434E20Rik',\n '4933439C10Rik',\n '5031439G07Rik',\n '5033430I15Rik',\n '5330417C22Rik',\n '5330434G04Rik',\n '5430405H02Rik',\n '5430416N02Rik',\n '5530601H04Rik',\n '5730409E04Rik',\n '5730455P16Rik',\n '5730508B09Rik',\n '5730559C18Rik',\n '5930430L01Rik',\n '6030458C11Rik',\n '6330408A02Rik',\n '6330416G13Rik',\n '6430503K07Rik',\n '6430548M08Rik',\n '6430573F11Rik',\n '6820431F20Rik',\n '8430408G22Rik',\n '9030624J02Rik',\n '9130008F23Rik',\n '9130023H24Rik',\n '9130221H12Rik',\n '9130401M01Rik',\n '9330020H09Rik',\n '9330151L19Rik',\n '9330159F19Rik',\n '9330162012Rik',\n '9330182L06Rik',\n '9430016H08Rik',\n '9430038I01Rik',\n '9530068E07Rik',\n '9530077C05Rik',\n '9930104L06Rik',\n 'A130010J15Rik',\n 'A230050P20Rik',\n 'A330017A19Rik',\n 'A330023F24Rik',\n 'A330050F15Rik',\n 'A430005L14Rik',\n 'A430033K04Rik',\n 'A530020G20Rik',\n 'A530058N18Rik',\n 'A830010M20Rik',\n 'A830080D01Rik',\n 'A930005H10Rik',\n 'A930011G23Rik',\n 'AA465934',\n 'AA467197',\n 'AI314180',\n 'AI413582',\n 'AI467606',\n 'AI480526',\n 'AI597479',\n 'AI606181',\n 'AI661453',\n 'AI837181',\n 'AI846148',\n 'AI987944',\n 'AK010878',\n 'AU019823',\n 'AU022252',\n 'AU040320',\n 'AW112010',\n 'AW146154',\n 'AW209491',\n 'AW549877',\n 'AW551984',\n 'Aaas',\n 'Aacs',\n 'Aaed1',\n 'Aagab',\n 'Aak1',\n 'Aamdc',\n 'Aamp',\n 'Aar2',\n 'Aars',\n 'Aars2',\n 'Aarsd1',\n 'Aasdh',\n 'Aasdhppt',\n 'Aatf',\n 'Aatk',\n 'Abat',\n 'Abca1',\n 'Abca2',\n 'Abca3',\n 'Abca5',\n 'Abca7',\n 'Abcb10',\n 'Abcb1a',\n 'Abcb4',\n 'Abcb6',\n 'Abcb7',\n 'Abcb8',\n 'Abcb9',\n 'Abcc1',\n 'Abcc10',\n 'Abcc3',\n 'Abcc4',\n 'Abcc5',\n 'Abcc8',\n 'Abcc9',\n 'Abcd1',\n 'Abcd3',\n 'Abcd4',\n 'Abce1',\n 'Abcf1',\n 'Abcf2',\n 'Abcf3',\n 'Abcg1',\n 'Abcg2',\n 'Abhd10',\n 'Abhd11',\n 'Abhd12',\n 'Abhd13',\n 'Abhd14a',\n 'Abhd14b',\n 'Abhd16a',\n 'Abhd17a',\n 'Abhd17c',\n 'Abhd18',\n 'Abhd2',\n 'Abhd3',\n 'Abhd4',\n 'Abhd5',\n 'Abhd6',\n 'Abhd8',\n 'Abi1',\n 'Abi2',\n 'Abi3',\n 'Abl1',\n 'Abl2',\n 'Abr',\n 'Abracl',\n 'Abt1',\n 'Abtb1',\n 'Abtb2',\n 'Acaa1a',\n 'Acaa2',\n 'Acaca',\n 'Acad8',\n 'Acad9',\n 'Acadl',\n 'Acadm',\n 'Acads',\n 'Acadsb',\n 'Acadvl',\n 'Acap2',\n 'Acap3',\n 'Acat1',\n 'Acat2',\n 'Acbd3',\n 'Acbd4',\n 'Acbd5',\n 'Acbd6',\n 'Acd',\n 'Ace',\n 'Ace2',\n 'Acer2',\n 'Acer3',\n 'Ache',\n 'Acin1',\n 'Ackr3',\n 'Acly',\n 'Aco1',\n 'Aco2',\n 'Acot1',\n 'Acot11',\n 'Acot13',\n 'Acot2',\n 'Acot6',\n 'Acot7',\n 'Acot8',\n 'Acot9',\n 'Acox1',\n 'Acox3',\n 'Acp1',\n 'Acp2',\n 'Acp5',\n 'Acp6',\n 'Acrbp',\n 'Acsf2',\n 'Acsl1',\n 'Acsl3',\n 'Acsl4',\n 'Acsl5',\n 'Acsl6',\n 'Acss2',\n 'Acta1',\n 'Actb',\n 'Actg1',\n 'Actl6a',\n 'Actl6b',\n 'Actn1',\n 'Actn4',\n 'Actr10',\n 'Actr1a',\n 'Actr1b',\n 'Actr2',\n 'Actr3',\n 'Actr3b',\n 'Actr5',\n 'Actr6',\n 'Actr8',\n 'Acvr1',\n 'Acvr1b',\n 'Acvr2a',\n 'Acvr2b',\n 'Acvrl1',\n 'Acyp1',\n 'Acyp2',\n 'Adam10',\n 'Adam15',\n 'Adam17',\n 'Adam22',\n 'Adam8',\n 'Adam9',\n 'Adamts1',\n 'Adamtsl4',\n 'Adar',\n 'Adarb1',\n 'Adck1',\n 'Adck2',\n 'Adck4',\n 'Adck5',\n 'Adcy1',\n 'Adcy3',\n 'Adcy4',\n 'Adcy6',\n 'Adcy9',\n 'Add1',\n 'Add3',\n 'Adgra3',\n 'Adgrb3',\n 'Adgre5',\n 'Adgrg1',\n 'Adgrg6',\n 'Adgrl1',\n 'Adgrl2',\n 'Adgrl3',\n 'Adgrl4',\n 'Adgrv1',\n 'Adh1',\n 'Adh5',\n 'Adi1',\n 'Adipor1',\n 'Adipor2',\n 'Adk',\n 'Adm',\n 'Adm2',\n 'Adnp',\n 'Adnp2',\n 'Ado',\n 'Adora1',\n 'Adora2b',\n 'Adpgk',\n 'Adprh',\n 'Adprhl2',\n 'Adprm',\n 'Adra2a',\n 'Adrbk1',\n 'Adrbk2',\n 'Adrm1',\n 'Adsl',\n 'Adss',\n 'Adssl1',\n 'Aebp1',\n 'Aebp2',\n 'Aen',\n 'Aes',\n 'Afap1',\n 'Afap1l1',\n 'Aff1',\n 'Aff2',\n 'Aff4',\n 'Afg3l1',\n 'Afg3l2',\n 'Aftph',\n 'Aga',\n 'Agap1',\n 'Agap3',\n 'Agbl3',\n 'Agbl5',\n 'Agfg1',\n 'Agfg2',\n 'Aggf1',\n 'Agk',\n 'Agl',\n 'Ago1',\n 'Ago2',\n 'Ago3',\n 'Ago4',\n 'Agpat1',\n 'Agpat2',\n 'Agpat3',\n 'Agpat4',\n 'Agpat5',\n 'Agps',\n 'Agrn',\n 'Agt',\n 'Agtpbp1',\n 'Agtrap',\n 'Ahctf1',\n 'Ahcy',\n 'Ahcyl1',\n 'Ahcyl2',\n 'Ahdc1',\n 'Ahi1',\n 'Ahnak',\n 'Ahnak2',\n 'Ahr',\n 'Ahsa1',\n 'Ahsa2',\n 'Aida',\n 'Aifm1',\n 'Aifm2',\n 'Aig1',\n 'Aimp1',\n 'Aimp2',\n 'Aip',\n 'Airn',\n 'Ajuba',\n 'Ak1',\n 'Ak2',\n 'Ak3',\n 'Ak4',\n 'Ak6',\n 'Akap1',\n 'Akap10',\n 'Akap12',\n 'Akap7',\n 'Akap8',\n 'Akap8l',\n 'Akap9',\n 'Akip1',\n 'Akirin1',\n 'Akirin2',\n 'Akr1a1',\n 'Akr1b10',\n 'Akr1b3',\n 'Akr1b8',\n 'Akr1c12',\n 'Akr1c13',\n 'Akr1c19',\n 'Akr1e1',\n 'Akr7a5',\n 'Akt1',\n 'Akt1s1',\n 'Akt2',\n 'Akt3',\n 'Aktip',\n 'Alad',\n 'Alas1',\n 'Alcam',\n 'Aldh16a1',\n 'Aldh18a1',\n 'Aldh1l2',\n 'Aldh2',\n 'Aldh3a2',\n 'Aldh3b1',\n 'Aldh4a1',\n 'Aldh5a1',\n 'Aldh6a1',\n 'Aldh7a1',\n 'Aldh9a1',\n 'Aldoa',\n 'Aldoc',\n 'Alg1',\n 'Alg11',\n 'Alg12',\n 'Alg14',\n 'Alg2',\n 'Alg3',\n 'Alg5',\n 'Alg6',\n 'Alg8',\n 'Alg9',\n 'Alkbh1',\n 'Alkbh2',\n 'Alkbh3',\n 'Alkbh4',\n 'Alkbh5',\n 'Alkbh6',\n 'Alkbh7',\n 'Alkbh8',\n 'Alox5ap',\n 'Als2',\n 'Als2cl',\n 'Alyref',\n 'Alyref2',\n 'Amacr',\n 'Ambp',\n 'Ambra1',\n 'Amd1',\n 'Amd2',\n 'Amdhd2',\n 'Amer2',\n 'Amfr',\n 'Amigo1',\n 'Amigo2',\n 'Amigo3',\n 'Ammecr1',\n 'Ammecr1l',\n 'Amn1',\n 'Amotl1',\n 'Amotl2',\n 'Ampd2',\n 'Ampd3',\n 'Amph',\n 'Amt',\n 'Amy1',\n 'Amz2',\n 'Anapc1',\n 'Anapc10',\n 'Anapc11',\n 'Anapc13',\n 'Anapc15',\n 'Anapc16',\n 'Anapc2',\n 'Anapc4',\n 'Anapc5',\n 'Anapc7',\n 'Ang',\n 'Angel1',\n 'Angel2',\n 'Angpt2',\n 'Angptl2',\n 'Angptl4',\n 'Angptl6',\n 'Angptl7',\n 'Ank',\n 'Ank2',\n 'Ank3',\n 'Ankfy1',\n 'Ankib1',\n 'Ankle2',\n 'Ankmy2',\n 'Ankra2',\n 'Ankrd1',\n 'Ankrd10',\n 'Ankrd11',\n 'Ankrd12',\n 'Ankrd13a',\n 'Ankrd13b',\n 'Ankrd13c',\n 'Ankrd13d',\n 'Ankrd16',\n 'Ankrd17',\n 'Ankrd24',\n 'Ankrd27',\n 'Ankrd28',\n 'Ankrd33b',\n 'Ankrd37',\n 'Ankrd39',\n 'Ankrd40',\n 'Ankrd44',\n 'Ankrd46',\n 'Ankrd49',\n 'Ankrd50',\n 'Ankrd54',\n 'Anks1',\n 'Anks3',\n 'Anks4b',\n 'Anks6',\n 'Ankzf1',\n 'Ano1',\n 'Ano10',\n 'Ano6',\n 'Ano8',\n 'Anp32a',\n 'Anp32b',\n 'Anp32e',\n 'Anpep',\n 'Antxr2',\n 'Anxa1',\n 'Anxa11',\n 'Anxa2',\n 'Anxa3',\n 'Anxa4',\n 'Anxa5',\n 'Anxa6',\n 'Anxa7',\n 'Aox1',\n 'Ap1ar',\n 'Ap1b1',\n 'Ap1g1',\n 'Ap1g2',\n 'Ap1m1',\n 'Ap1m2',\n 'Ap1s1',\n 'Ap1s2',\n 'Ap1s3',\n 'Ap2a1',\n 'Ap2a2',\n 'Ap2b1',\n 'Ap2m1',\n 'Ap2s1',\n 'Ap3b1',\n 'Ap3b2',\n 'Ap3d1',\n 'Ap3m1',\n 'Ap3m2',\n 'Ap3s1',\n 'Ap3s2',\n 'Ap4b1',\n 'Ap4e1',\n 'Ap4m1',\n 'Ap4s1',\n 'Ap5m1',\n 'Ap5s1',\n 'Ap5z1',\n 'Apaf1',\n 'Apba1',\n 'Apba3',\n 'Apbb1',\n 'Apbb2',\n 'Apc',\n 'Apeh',\n 'Apex1',\n 'Apex2',\n 'Aph1a',\n 'Api5',\n 'Apip',\n 'Apitd1',\n 'Aplp1',\n 'Aplp2',\n 'Apmap',\n 'Apoa1bp',\n 'Apoa2',\n 'Apobec1',\n 'Apobec3',\n 'Apoe',\n 'Apold1',\n 'Apoo',\n 'Apool',\n 'Apopt1',\n 'App',\n 'Appbp2',\n 'Appl1',\n 'Appl2',\n 'Aprt',\n 'Aptx',\n 'Aqp11',\n 'Aqr',\n 'Araf',\n 'Arap1',\n 'Arap2',\n 'Arap3',\n 'Arc',\n 'Arcn1',\n 'Areg',\n 'Arel1',\n 'Arf1',\n 'Arf2',\n 'Arf3',\n 'Arf4',\n 'Arf5',\n 'Arf6',\n 'Arfgap1',\n 'Arfgap2',\n 'Arfgap3',\n 'Arfgef1',\n 'Arfgef2',\n 'Arfgef3',\n 'Arfip1',\n 'Arfip2',\n 'Arfrp1',\n 'Arg1',\n 'Arglu1',\n 'Arhgap1',\n 'Arhgap10',\n 'Arhgap12',\n 'Arhgap17',\n 'Arhgap18',\n 'Arhgap21',\n 'Arhgap23',\n 'Arhgap24',\n 'Arhgap26',\n 'Arhgap27',\n 'Arhgap29',\n 'Arhgap31',\n 'Arhgap32',\n 'Arhgap33',\n 'Arhgap35',\n 'Arhgap36',\n 'Arhgap39',\n 'Arhgap44',\n 'Arhgap5',\n 'Arhgap6',\n 'Arhgap8',\n 'Arhgdia',\n 'Arhgdib',\n 'Arhgdig',\n 'Arhgef1',\n 'Arhgef10',\n 'Arhgef10l',\n 'Arhgef11',\n 'Arhgef12',\n 'Arhgef16',\n 'Arhgef18',\n 'Arhgef19',\n 'Arhgef2',\n 'Arhgef25',\n 'Arhgef28',\n 'Arhgef3',\n 'Arhgef40',\n 'Arhgef5',\n 'Arhgef7',\n 'Arhgef9',\n 'Arid1a',\n 'Arid3a',\n 'Arid3b',\n 'Arid4a',\n 'Arid4b',\n 'Arid5a',\n 'Arid5b',\n 'Arih1',\n 'Arih2',\n 'Arl1',\n 'Arl13b',\n 'Arl14ep',\n 'Arl15',\n 'Arl16',\n 'Arl2',\n 'Arl2bp',\n 'Arl3',\n 'Arl4a',\n 'Arl4c',\n 'Arl4d',\n 'Arl5a',\n 'Arl5b',\n 'Arl6',\n 'Arl6ip1',\n 'Arl6ip4',\n 'Arl6ip5',\n 'Arl6ip6',\n 'Arl8a',\n 'Arl8b',\n 'Armc1',\n 'Armc10',\n 'Armc5',\n 'Armc7',\n 'Armc8',\n 'Armc9',\n 'Armcx1',\n 'Armcx2',\n 'Armcx3',\n 'Armcx4',\n 'Armcx5',\n 'Armcx6',\n 'Armt1',\n 'Arnt',\n 'Arnt2',\n 'Arntl',\n 'Arpc1a',\n 'Arpc1b',\n 'Arpc2',\n 'Arpc3',\n 'Arpc4',\n 'Arpc5',\n 'Arpc5l',\n 'Arpin',\n 'Arpp19',\n 'Arrb1',\n 'Arrb2',\n 'Arrdc1',\n 'Arrdc3',\n 'Arrdc4',\n 'Arsa',\n 'Arsb',\n 'Arsk',\n 'Arv1',\n 'Arvcf',\n 'Arx',\n 'Arxes1',\n 'Arxes2',\n 'As3mt',\n 'Asah1',\n 'Asah2',\n 'Asap1',\n 'Asap2',\n 'Asb1',\n 'Asb13',\n 'Asb3',\n 'Asb4',\n 'Asb6',\n 'Asb7',\n 'Asb8',\n 'Ascc1',\n 'Ascc2',\n 'Asf1a',\n 'Ash2l',\n 'Asic1',\n 'Asl',\n 'Asna1',\n 'Asns',\n 'Asnsd1',\n 'Asph',\n 'Asphd1',\n 'Aspscr1',\n 'Asrgl1',\n 'Ass1',\n 'Aste1',\n 'Asun',\n 'Asxl2',\n 'Atad1',\n 'Atad3a',\n 'Atat1',\n 'Ate1',\n 'Atf1',\n 'Atf2',\n 'Atf3',\n 'Atf4',\n 'Atf5',\n 'Atf6',\n 'Atf6b',\n 'Atf7',\n 'Atf7ip',\n 'Atg10',\n 'Atg101',\n 'Atg12',\n 'Atg13',\n 'Atg14',\n 'Atg16l1',\n 'Atg16l2',\n 'Atg2a',\n 'Atg2b',\n 'Atg3',\n 'Atg4b',\n 'Atg4c',\n 'Atg4d',\n 'Atg5',\n 'Atg7',\n 'Atg9a',\n 'Athl1',\n 'Atic',\n 'Atl2',\n 'Atl3',\n 'Atmin',\n 'Atn1',\n 'Atoh8',\n 'Atox1',\n 'Atp10a',\n 'Atp11a',\n 'Atp11b',\n 'Atp11c',\n 'Atp13a1',\n 'Atp13a2',\n 'Atp1a1',\n 'Atp1b1',\n 'Atp1b2',\n 'Atp1b3',\n 'Atp2a2',\n 'Atp2a3',\n 'Atp2b2',\n 'Atp2b4',\n 'Atp2c1',\n 'Atp5a1',\n 'Atp5b',\n 'Atp5c1',\n 'Atp5d',\n 'Atp5e',\n 'Atp5f1',\n 'Atp5g1',\n 'Atp5g2',\n 'Atp5g3',\n 'Atp5h',\n 'Atp5j',\n 'Atp5j2',\n 'Atp5k',\n 'Atp5l',\n 'Atp5o',\n 'Atp5s',\n 'Atp5sl',\n 'Atp6ap1',\n 'Atp6ap2',\n 'Atp6v0a1',\n 'Atp6v0a2',\n 'Atp6v0b',\n 'Atp6v0c',\n 'Atp6v0d1',\n 'Atp6v0e',\n 'Atp6v0e2',\n 'Atp6v1a',\n 'Atp6v1b2',\n 'Atp6v1c1',\n 'Atp6v1d',\n 'Atp6v1e1',\n 'Atp6v1f',\n 'Atp6v1g1',\n 'Atp6v1h',\n 'Atp7a',\n 'Atp8a1',\n 'Atp8b1',\n 'Atp8b2',\n 'Atp9a',\n 'Atpaf1',\n 'Atpaf2',\n 'Atpif1',\n 'Atr',\n 'Atraid',\n 'Atrip',\n 'Atrn',\n 'Atrnl1',\n 'Atrx',\n 'Atxn1',\n 'Atxn10',\n 'Atxn1l',\n 'Atxn2',\n 'Atxn2l',\n 'Atxn3',\n 'Atxn7',\n 'Atxn7l1',\n 'Atxn7l2',\n 'Atxn7l3',\n 'Atxn7l3b',\n 'Auh',\n 'Aup1',\n 'Aurkaip1',\n 'Auts2',\n 'Aven',\n 'Avl9',\n 'Avpi1',\n 'Axin1',\n 'Axl',\n ...]"
     },
     "execution_count": 18,
     "metadata": {},
     "output_type": "execute_result"
    }
   ],
   "source": [
    "gene_var_label_list = gene_var_label.tolist()\n",
    "gene_var_label_list"
   ],
   "metadata": {
    "collapsed": false,
    "ExecuteTime": {
     "end_time": "2023-07-25T07:26:19.447510500Z",
     "start_time": "2023-07-25T07:26:19.414504200Z"
    }
   }
  },
  {
   "cell_type": "code",
   "execution_count": 26,
   "outputs": [
    {
     "data": {
      "text/plain": "              0610007P14Rik 0610009B22Rik 0610009E02Rik 0610009L18Rik  \\\n0610007P14Rik           NaN           NaN           NaN           NaN   \n0610009B22Rik           NaN           NaN           NaN           NaN   \n0610009E02Rik           NaN           NaN           NaN           NaN   \n0610009L18Rik           NaN           NaN           NaN           NaN   \n0610009O20Rik           NaN           NaN           NaN           NaN   \n...                     ...           ...           ...           ...   \nZyg11b                  NaN           NaN           NaN           NaN   \nZyx                     NaN           NaN           NaN           NaN   \nZzef1                   NaN           NaN           NaN           NaN   \nZzz3                    NaN           NaN           NaN           NaN   \nl7Rn6                   NaN           NaN           NaN           NaN   \n\n              0610009O20Rik 0610010F05Rik 0610010K14Rik 0610011F06Rik  \\\n0610007P14Rik           NaN           NaN           NaN           NaN   \n0610009B22Rik           NaN           NaN           NaN           NaN   \n0610009E02Rik           NaN           NaN           NaN           NaN   \n0610009L18Rik           NaN           NaN           NaN           NaN   \n0610009O20Rik           NaN           NaN           NaN           NaN   \n...                     ...           ...           ...           ...   \nZyg11b                  NaN           NaN           NaN           NaN   \nZyx                     NaN           NaN           NaN           NaN   \nZzef1                   NaN           NaN           NaN           NaN   \nZzz3                    NaN           NaN           NaN           NaN   \nl7Rn6                   NaN           NaN           NaN           NaN   \n\n              0610012G03Rik 0610030E20Rik  ... Zufsp Zw10 Zwint Zxdb Zxdc  \\\n0610007P14Rik           NaN           NaN  ...   NaN  NaN   NaN  NaN  NaN   \n0610009B22Rik           NaN           NaN  ...   NaN  NaN   NaN  NaN  NaN   \n0610009E02Rik           NaN           NaN  ...   NaN  NaN   NaN  NaN  NaN   \n0610009L18Rik           NaN           NaN  ...   NaN  NaN   NaN  NaN  NaN   \n0610009O20Rik           NaN           NaN  ...   NaN  NaN   NaN  NaN  NaN   \n...                     ...           ...  ...   ...  ...   ...  ...  ...   \nZyg11b                  NaN           NaN  ...   NaN  NaN   NaN  NaN  NaN   \nZyx                     NaN           NaN  ...   NaN  NaN   NaN  NaN  NaN   \nZzef1                   NaN           NaN  ...   NaN  NaN   NaN  NaN  NaN   \nZzz3                    NaN           NaN  ...   NaN  NaN   NaN  NaN  NaN   \nl7Rn6                   NaN           NaN  ...   NaN  NaN   NaN  NaN  NaN   \n\n              Zyg11b  Zyx Zzef1 Zzz3 l7Rn6  \n0610007P14Rik    NaN  NaN   NaN  NaN   NaN  \n0610009B22Rik    NaN  NaN   NaN  NaN   NaN  \n0610009E02Rik    NaN  NaN   NaN  NaN   NaN  \n0610009L18Rik    NaN  NaN   NaN  NaN   NaN  \n0610009O20Rik    NaN  NaN   NaN  NaN   NaN  \n...              ...  ...   ...  ...   ...  \nZyg11b           NaN  NaN   NaN  NaN   NaN  \nZyx              NaN  NaN   NaN  NaN   NaN  \nZzef1            NaN  NaN   NaN  NaN   NaN  \nZzz3             NaN  NaN   NaN  NaN   NaN  \nl7Rn6            NaN  NaN   NaN  NaN   NaN  \n\n[10391 rows x 10391 columns]",
      "text/html": "<div>\n<style scoped>\n    .dataframe tbody tr th:only-of-type {\n        vertical-align: middle;\n    }\n\n    .dataframe tbody tr th {\n        vertical-align: top;\n    }\n\n    .dataframe thead th {\n        text-align: right;\n    }\n</style>\n<table border=\"1\" class=\"dataframe\">\n  <thead>\n    <tr style=\"text-align: right;\">\n      <th></th>\n      <th>0610007P14Rik</th>\n      <th>0610009B22Rik</th>\n      <th>0610009E02Rik</th>\n      <th>0610009L18Rik</th>\n      <th>0610009O20Rik</th>\n      <th>0610010F05Rik</th>\n      <th>0610010K14Rik</th>\n      <th>0610011F06Rik</th>\n      <th>0610012G03Rik</th>\n      <th>0610030E20Rik</th>\n      <th>...</th>\n      <th>Zufsp</th>\n      <th>Zw10</th>\n      <th>Zwint</th>\n      <th>Zxdb</th>\n      <th>Zxdc</th>\n      <th>Zyg11b</th>\n      <th>Zyx</th>\n      <th>Zzef1</th>\n      <th>Zzz3</th>\n      <th>l7Rn6</th>\n    </tr>\n  </thead>\n  <tbody>\n    <tr>\n      <th>0610007P14Rik</th>\n      <td>NaN</td>\n      <td>NaN</td>\n      <td>NaN</td>\n      <td>NaN</td>\n      <td>NaN</td>\n      <td>NaN</td>\n      <td>NaN</td>\n      <td>NaN</td>\n      <td>NaN</td>\n      <td>NaN</td>\n      <td>...</td>\n      <td>NaN</td>\n      <td>NaN</td>\n      <td>NaN</td>\n      <td>NaN</td>\n      <td>NaN</td>\n      <td>NaN</td>\n      <td>NaN</td>\n      <td>NaN</td>\n      <td>NaN</td>\n      <td>NaN</td>\n    </tr>\n    <tr>\n      <th>0610009B22Rik</th>\n      <td>NaN</td>\n      <td>NaN</td>\n      <td>NaN</td>\n      <td>NaN</td>\n      <td>NaN</td>\n      <td>NaN</td>\n      <td>NaN</td>\n      <td>NaN</td>\n      <td>NaN</td>\n      <td>NaN</td>\n      <td>...</td>\n      <td>NaN</td>\n      <td>NaN</td>\n      <td>NaN</td>\n      <td>NaN</td>\n      <td>NaN</td>\n      <td>NaN</td>\n      <td>NaN</td>\n      <td>NaN</td>\n      <td>NaN</td>\n      <td>NaN</td>\n    </tr>\n    <tr>\n      <th>0610009E02Rik</th>\n      <td>NaN</td>\n      <td>NaN</td>\n      <td>NaN</td>\n      <td>NaN</td>\n      <td>NaN</td>\n      <td>NaN</td>\n      <td>NaN</td>\n      <td>NaN</td>\n      <td>NaN</td>\n      <td>NaN</td>\n      <td>...</td>\n      <td>NaN</td>\n      <td>NaN</td>\n      <td>NaN</td>\n      <td>NaN</td>\n      <td>NaN</td>\n      <td>NaN</td>\n      <td>NaN</td>\n      <td>NaN</td>\n      <td>NaN</td>\n      <td>NaN</td>\n    </tr>\n    <tr>\n      <th>0610009L18Rik</th>\n      <td>NaN</td>\n      <td>NaN</td>\n      <td>NaN</td>\n      <td>NaN</td>\n      <td>NaN</td>\n      <td>NaN</td>\n      <td>NaN</td>\n      <td>NaN</td>\n      <td>NaN</td>\n      <td>NaN</td>\n      <td>...</td>\n      <td>NaN</td>\n      <td>NaN</td>\n      <td>NaN</td>\n      <td>NaN</td>\n      <td>NaN</td>\n      <td>NaN</td>\n      <td>NaN</td>\n      <td>NaN</td>\n      <td>NaN</td>\n      <td>NaN</td>\n    </tr>\n    <tr>\n      <th>0610009O20Rik</th>\n      <td>NaN</td>\n      <td>NaN</td>\n      <td>NaN</td>\n      <td>NaN</td>\n      <td>NaN</td>\n      <td>NaN</td>\n      <td>NaN</td>\n      <td>NaN</td>\n      <td>NaN</td>\n      <td>NaN</td>\n      <td>...</td>\n      <td>NaN</td>\n      <td>NaN</td>\n      <td>NaN</td>\n      <td>NaN</td>\n      <td>NaN</td>\n      <td>NaN</td>\n      <td>NaN</td>\n      <td>NaN</td>\n      <td>NaN</td>\n      <td>NaN</td>\n    </tr>\n    <tr>\n      <th>...</th>\n      <td>...</td>\n      <td>...</td>\n      <td>...</td>\n      <td>...</td>\n      <td>...</td>\n      <td>...</td>\n      <td>...</td>\n      <td>...</td>\n      <td>...</td>\n      <td>...</td>\n      <td>...</td>\n      <td>...</td>\n      <td>...</td>\n      <td>...</td>\n      <td>...</td>\n      <td>...</td>\n      <td>...</td>\n      <td>...</td>\n      <td>...</td>\n      <td>...</td>\n      <td>...</td>\n    </tr>\n    <tr>\n      <th>Zyg11b</th>\n      <td>NaN</td>\n      <td>NaN</td>\n      <td>NaN</td>\n      <td>NaN</td>\n      <td>NaN</td>\n      <td>NaN</td>\n      <td>NaN</td>\n      <td>NaN</td>\n      <td>NaN</td>\n      <td>NaN</td>\n      <td>...</td>\n      <td>NaN</td>\n      <td>NaN</td>\n      <td>NaN</td>\n      <td>NaN</td>\n      <td>NaN</td>\n      <td>NaN</td>\n      <td>NaN</td>\n      <td>NaN</td>\n      <td>NaN</td>\n      <td>NaN</td>\n    </tr>\n    <tr>\n      <th>Zyx</th>\n      <td>NaN</td>\n      <td>NaN</td>\n      <td>NaN</td>\n      <td>NaN</td>\n      <td>NaN</td>\n      <td>NaN</td>\n      <td>NaN</td>\n      <td>NaN</td>\n      <td>NaN</td>\n      <td>NaN</td>\n      <td>...</td>\n      <td>NaN</td>\n      <td>NaN</td>\n      <td>NaN</td>\n      <td>NaN</td>\n      <td>NaN</td>\n      <td>NaN</td>\n      <td>NaN</td>\n      <td>NaN</td>\n      <td>NaN</td>\n      <td>NaN</td>\n    </tr>\n    <tr>\n      <th>Zzef1</th>\n      <td>NaN</td>\n      <td>NaN</td>\n      <td>NaN</td>\n      <td>NaN</td>\n      <td>NaN</td>\n      <td>NaN</td>\n      <td>NaN</td>\n      <td>NaN</td>\n      <td>NaN</td>\n      <td>NaN</td>\n      <td>...</td>\n      <td>NaN</td>\n      <td>NaN</td>\n      <td>NaN</td>\n      <td>NaN</td>\n      <td>NaN</td>\n      <td>NaN</td>\n      <td>NaN</td>\n      <td>NaN</td>\n      <td>NaN</td>\n      <td>NaN</td>\n    </tr>\n    <tr>\n      <th>Zzz3</th>\n      <td>NaN</td>\n      <td>NaN</td>\n      <td>NaN</td>\n      <td>NaN</td>\n      <td>NaN</td>\n      <td>NaN</td>\n      <td>NaN</td>\n      <td>NaN</td>\n      <td>NaN</td>\n      <td>NaN</td>\n      <td>...</td>\n      <td>NaN</td>\n      <td>NaN</td>\n      <td>NaN</td>\n      <td>NaN</td>\n      <td>NaN</td>\n      <td>NaN</td>\n      <td>NaN</td>\n      <td>NaN</td>\n      <td>NaN</td>\n      <td>NaN</td>\n    </tr>\n    <tr>\n      <th>l7Rn6</th>\n      <td>NaN</td>\n      <td>NaN</td>\n      <td>NaN</td>\n      <td>NaN</td>\n      <td>NaN</td>\n      <td>NaN</td>\n      <td>NaN</td>\n      <td>NaN</td>\n      <td>NaN</td>\n      <td>NaN</td>\n      <td>...</td>\n      <td>NaN</td>\n      <td>NaN</td>\n      <td>NaN</td>\n      <td>NaN</td>\n      <td>NaN</td>\n      <td>NaN</td>\n      <td>NaN</td>\n      <td>NaN</td>\n      <td>NaN</td>\n      <td>NaN</td>\n    </tr>\n  </tbody>\n</table>\n<p>10391 rows × 10391 columns</p>\n</div>"
     },
     "execution_count": 26,
     "metadata": {},
     "output_type": "execute_result"
    }
   ],
   "source": [
    "# 上一步中获得了基因名称的list，现在将这个基因的list转换成索引和列名的DataFrame\n",
    "cpp_result_matrix = pd.DataFrame(index=gene_var_label_list, columns=gene_var_label_list)\n",
    "cpp_result_matrix"
   ],
   "metadata": {
    "collapsed": false,
    "ExecuteTime": {
     "end_time": "2023-07-25T07:41:59.901794400Z",
     "start_time": "2023-07-25T07:41:58.082230Z"
    }
   }
  },
  {
   "cell_type": "code",
   "execution_count": 20,
   "outputs": [],
   "source": [
    "import pandas as pd"
   ],
   "metadata": {
    "collapsed": false,
    "ExecuteTime": {
     "end_time": "2023-07-25T07:29:43.044136Z",
     "start_time": "2023-07-25T07:29:43.022131Z"
    }
   }
  },
  {
   "cell_type": "code",
   "execution_count": 24,
   "outputs": [
    {
     "data": {
      "text/plain": "         0         1         2      3      4      5      6         7      \\\n0     0.000000  0.000000  0.704642    0.0    0.0    0.0    0.0  0.704642   \n1     0.841024  0.841024  0.000000    0.0    0.0    0.0    0.0  0.000000   \n2     0.000000  0.000000  0.745930    0.0    0.0    0.0    0.0  0.000000   \n3     0.653543  0.000000  0.653543    0.0    0.0    0.0    0.0  0.000000   \n4     0.000000  0.000000  0.000000    0.0    0.0    0.0    0.0  0.000000   \n...        ...       ...       ...    ...    ...    ...    ...       ...   \n1744  0.000000  0.000000  0.000000    0.0    0.0    0.0    0.0  0.000000   \n1745  0.000000  0.000000  0.000000    0.0    0.0    0.0    0.0  0.000000   \n1746  0.000000  0.000000  0.000000    0.0    0.0    0.0    0.0  0.000000   \n1747  0.000000  0.000000  0.000000    0.0    0.0    0.0    0.0  0.000000   \n1748  0.000000  0.000000  0.000000    0.0    0.0    0.0    0.0  0.000000   \n\n         8      9      ...     10381  10382     10383  10384     10385  10386  \\\n0     1.113910    0.0  ...  0.000000    0.0  0.000000    0.0  0.704642    0.0   \n1     0.841024    0.0  ...  0.000000    0.0  0.841024    0.0  0.000000    0.0   \n2     0.000000    0.0  ...  0.000000    0.0  1.168388    0.0  0.000000    0.0   \n3     0.653543    0.0  ...  0.653543    0.0  0.653543    0.0  0.000000    0.0   \n4     0.000000    0.0  ...  0.000000    0.0  0.000000    0.0  0.000000    0.0   \n...        ...    ...  ...       ...    ...       ...    ...       ...    ...   \n1744  0.000000    0.0  ...  0.000000    0.0  0.000000    0.0  0.000000    0.0   \n1745  0.000000    0.0  ...  0.000000    0.0  2.464574    0.0  0.000000    0.0   \n1746  0.000000    0.0  ...  0.000000    0.0  1.939084    0.0  0.000000    0.0   \n1747  0.000000    0.0  ...  0.000000    0.0  0.000000    0.0  0.000000    0.0   \n1748  0.000000    0.0  ...  0.000000    0.0  1.995690    0.0  0.000000    0.0   \n\n         10387     10388     10389     10390  \n0     0.000000  0.704642  0.000000  1.113910  \n1     0.000000  0.841024  0.841024  0.000000  \n2     0.000000  0.000000  0.000000  0.000000  \n3     0.000000  0.000000  0.000000  0.653543  \n4     0.000000  0.000000  0.000000  0.000000  \n...        ...       ...       ...       ...  \n1744  0.000000  0.000000  0.000000  0.000000  \n1745  0.000000  0.000000  2.464574  0.000000  \n1746  0.000000  0.000000  0.000000  0.000000  \n1747  2.054472  0.000000  0.000000  0.000000  \n1748  0.000000  0.000000  0.000000  0.000000  \n\n[1749 rows x 10391 columns]",
      "text/html": "<div>\n<style scoped>\n    .dataframe tbody tr th:only-of-type {\n        vertical-align: middle;\n    }\n\n    .dataframe tbody tr th {\n        vertical-align: top;\n    }\n\n    .dataframe thead th {\n        text-align: right;\n    }\n</style>\n<table border=\"1\" class=\"dataframe\">\n  <thead>\n    <tr style=\"text-align: right;\">\n      <th></th>\n      <th>0</th>\n      <th>1</th>\n      <th>2</th>\n      <th>3</th>\n      <th>4</th>\n      <th>5</th>\n      <th>6</th>\n      <th>7</th>\n      <th>8</th>\n      <th>9</th>\n      <th>...</th>\n      <th>10381</th>\n      <th>10382</th>\n      <th>10383</th>\n      <th>10384</th>\n      <th>10385</th>\n      <th>10386</th>\n      <th>10387</th>\n      <th>10388</th>\n      <th>10389</th>\n      <th>10390</th>\n    </tr>\n  </thead>\n  <tbody>\n    <tr>\n      <th>0</th>\n      <td>0.000000</td>\n      <td>0.000000</td>\n      <td>0.704642</td>\n      <td>0.0</td>\n      <td>0.0</td>\n      <td>0.0</td>\n      <td>0.0</td>\n      <td>0.704642</td>\n      <td>1.113910</td>\n      <td>0.0</td>\n      <td>...</td>\n      <td>0.000000</td>\n      <td>0.0</td>\n      <td>0.000000</td>\n      <td>0.0</td>\n      <td>0.704642</td>\n      <td>0.0</td>\n      <td>0.000000</td>\n      <td>0.704642</td>\n      <td>0.000000</td>\n      <td>1.113910</td>\n    </tr>\n    <tr>\n      <th>1</th>\n      <td>0.841024</td>\n      <td>0.841024</td>\n      <td>0.000000</td>\n      <td>0.0</td>\n      <td>0.0</td>\n      <td>0.0</td>\n      <td>0.0</td>\n      <td>0.000000</td>\n      <td>0.841024</td>\n      <td>0.0</td>\n      <td>...</td>\n      <td>0.000000</td>\n      <td>0.0</td>\n      <td>0.841024</td>\n      <td>0.0</td>\n      <td>0.000000</td>\n      <td>0.0</td>\n      <td>0.000000</td>\n      <td>0.841024</td>\n      <td>0.841024</td>\n      <td>0.000000</td>\n    </tr>\n    <tr>\n      <th>2</th>\n      <td>0.000000</td>\n      <td>0.000000</td>\n      <td>0.745930</td>\n      <td>0.0</td>\n      <td>0.0</td>\n      <td>0.0</td>\n      <td>0.0</td>\n      <td>0.000000</td>\n      <td>0.000000</td>\n      <td>0.0</td>\n      <td>...</td>\n      <td>0.000000</td>\n      <td>0.0</td>\n      <td>1.168388</td>\n      <td>0.0</td>\n      <td>0.000000</td>\n      <td>0.0</td>\n      <td>0.000000</td>\n      <td>0.000000</td>\n      <td>0.000000</td>\n      <td>0.000000</td>\n    </tr>\n    <tr>\n      <th>3</th>\n      <td>0.653543</td>\n      <td>0.000000</td>\n      <td>0.653543</td>\n      <td>0.0</td>\n      <td>0.0</td>\n      <td>0.0</td>\n      <td>0.0</td>\n      <td>0.000000</td>\n      <td>0.653543</td>\n      <td>0.0</td>\n      <td>...</td>\n      <td>0.653543</td>\n      <td>0.0</td>\n      <td>0.653543</td>\n      <td>0.0</td>\n      <td>0.000000</td>\n      <td>0.0</td>\n      <td>0.000000</td>\n      <td>0.000000</td>\n      <td>0.000000</td>\n      <td>0.653543</td>\n    </tr>\n    <tr>\n      <th>4</th>\n      <td>0.000000</td>\n      <td>0.000000</td>\n      <td>0.000000</td>\n      <td>0.0</td>\n      <td>0.0</td>\n      <td>0.0</td>\n      <td>0.0</td>\n      <td>0.000000</td>\n      <td>0.000000</td>\n      <td>0.0</td>\n      <td>...</td>\n      <td>0.000000</td>\n      <td>0.0</td>\n      <td>0.000000</td>\n      <td>0.0</td>\n      <td>0.000000</td>\n      <td>0.0</td>\n      <td>0.000000</td>\n      <td>0.000000</td>\n      <td>0.000000</td>\n      <td>0.000000</td>\n    </tr>\n    <tr>\n      <th>...</th>\n      <td>...</td>\n      <td>...</td>\n      <td>...</td>\n      <td>...</td>\n      <td>...</td>\n      <td>...</td>\n      <td>...</td>\n      <td>...</td>\n      <td>...</td>\n      <td>...</td>\n      <td>...</td>\n      <td>...</td>\n      <td>...</td>\n      <td>...</td>\n      <td>...</td>\n      <td>...</td>\n      <td>...</td>\n      <td>...</td>\n      <td>...</td>\n      <td>...</td>\n      <td>...</td>\n    </tr>\n    <tr>\n      <th>1744</th>\n      <td>0.000000</td>\n      <td>0.000000</td>\n      <td>0.000000</td>\n      <td>0.0</td>\n      <td>0.0</td>\n      <td>0.0</td>\n      <td>0.0</td>\n      <td>0.000000</td>\n      <td>0.000000</td>\n      <td>0.0</td>\n      <td>...</td>\n      <td>0.000000</td>\n      <td>0.0</td>\n      <td>0.000000</td>\n      <td>0.0</td>\n      <td>0.000000</td>\n      <td>0.0</td>\n      <td>0.000000</td>\n      <td>0.000000</td>\n      <td>0.000000</td>\n      <td>0.000000</td>\n    </tr>\n    <tr>\n      <th>1745</th>\n      <td>0.000000</td>\n      <td>0.000000</td>\n      <td>0.000000</td>\n      <td>0.0</td>\n      <td>0.0</td>\n      <td>0.0</td>\n      <td>0.0</td>\n      <td>0.000000</td>\n      <td>0.000000</td>\n      <td>0.0</td>\n      <td>...</td>\n      <td>0.000000</td>\n      <td>0.0</td>\n      <td>2.464574</td>\n      <td>0.0</td>\n      <td>0.000000</td>\n      <td>0.0</td>\n      <td>0.000000</td>\n      <td>0.000000</td>\n      <td>2.464574</td>\n      <td>0.000000</td>\n    </tr>\n    <tr>\n      <th>1746</th>\n      <td>0.000000</td>\n      <td>0.000000</td>\n      <td>0.000000</td>\n      <td>0.0</td>\n      <td>0.0</td>\n      <td>0.0</td>\n      <td>0.0</td>\n      <td>0.000000</td>\n      <td>0.000000</td>\n      <td>0.0</td>\n      <td>...</td>\n      <td>0.000000</td>\n      <td>0.0</td>\n      <td>1.939084</td>\n      <td>0.0</td>\n      <td>0.000000</td>\n      <td>0.0</td>\n      <td>0.000000</td>\n      <td>0.000000</td>\n      <td>0.000000</td>\n      <td>0.000000</td>\n    </tr>\n    <tr>\n      <th>1747</th>\n      <td>0.000000</td>\n      <td>0.000000</td>\n      <td>0.000000</td>\n      <td>0.0</td>\n      <td>0.0</td>\n      <td>0.0</td>\n      <td>0.0</td>\n      <td>0.000000</td>\n      <td>0.000000</td>\n      <td>0.0</td>\n      <td>...</td>\n      <td>0.000000</td>\n      <td>0.0</td>\n      <td>0.000000</td>\n      <td>0.0</td>\n      <td>0.000000</td>\n      <td>0.0</td>\n      <td>2.054472</td>\n      <td>0.000000</td>\n      <td>0.000000</td>\n      <td>0.000000</td>\n    </tr>\n    <tr>\n      <th>1748</th>\n      <td>0.000000</td>\n      <td>0.000000</td>\n      <td>0.000000</td>\n      <td>0.0</td>\n      <td>0.0</td>\n      <td>0.0</td>\n      <td>0.0</td>\n      <td>0.000000</td>\n      <td>0.000000</td>\n      <td>0.0</td>\n      <td>...</td>\n      <td>0.000000</td>\n      <td>0.0</td>\n      <td>1.995690</td>\n      <td>0.0</td>\n      <td>0.000000</td>\n      <td>0.0</td>\n      <td>0.000000</td>\n      <td>0.000000</td>\n      <td>0.000000</td>\n      <td>0.000000</td>\n    </tr>\n  </tbody>\n</table>\n<p>1749 rows × 10391 columns</p>\n</div>"
     },
     "execution_count": 24,
     "metadata": {},
     "output_type": "execute_result"
    }
   ],
   "source": [
    "# cell_gene_X = pd.DataFrame(adata.layers['counts'].toarray())\n",
    "cell_gene_X = pd.DataFrame(adata.X.toarray())\n",
    "cell_gene_X"
   ],
   "metadata": {
    "collapsed": false,
    "ExecuteTime": {
     "end_time": "2023-07-25T07:36:03.845674300Z",
     "start_time": "2023-07-25T07:36:03.779658900Z"
    }
   }
  },
  {
   "cell_type": "code",
   "execution_count": 25,
   "outputs": [
    {
     "ename": "KeyboardInterrupt",
     "evalue": "",
     "output_type": "error",
     "traceback": [
      "\u001B[1;31m---------------------------------------------------------------------------\u001B[0m",
      "\u001B[1;31mKeyboardInterrupt\u001B[0m                         Traceback (most recent call last)",
      "Cell \u001B[1;32mIn[25], line 1\u001B[0m\n\u001B[1;32m----> 1\u001B[0m corr_result \u001B[38;5;241m=\u001B[39m \u001B[43mcell_gene_X\u001B[49m\u001B[38;5;241;43m.\u001B[39;49m\u001B[43mcorr\u001B[49m\u001B[43m(\u001B[49m\u001B[43m)\u001B[49m\n\u001B[0;32m      2\u001B[0m corr_result\n",
      "File \u001B[1;32m~\\anaconda3\\envs\\scVI\\lib\\site-packages\\pandas\\core\\frame.py:10057\u001B[0m, in \u001B[0;36mDataFrame.corr\u001B[1;34m(self, method, min_periods, numeric_only)\u001B[0m\n\u001B[0;32m  10054\u001B[0m mat \u001B[38;5;241m=\u001B[39m data\u001B[38;5;241m.\u001B[39mto_numpy(dtype\u001B[38;5;241m=\u001B[39m\u001B[38;5;28mfloat\u001B[39m, na_value\u001B[38;5;241m=\u001B[39mnp\u001B[38;5;241m.\u001B[39mnan, copy\u001B[38;5;241m=\u001B[39m\u001B[38;5;28;01mFalse\u001B[39;00m)\n\u001B[0;32m  10056\u001B[0m \u001B[38;5;28;01mif\u001B[39;00m method \u001B[38;5;241m==\u001B[39m \u001B[38;5;124m\"\u001B[39m\u001B[38;5;124mpearson\u001B[39m\u001B[38;5;124m\"\u001B[39m:\n\u001B[1;32m> 10057\u001B[0m     correl \u001B[38;5;241m=\u001B[39m \u001B[43mlibalgos\u001B[49m\u001B[38;5;241;43m.\u001B[39;49m\u001B[43mnancorr\u001B[49m\u001B[43m(\u001B[49m\u001B[43mmat\u001B[49m\u001B[43m,\u001B[49m\u001B[43m \u001B[49m\u001B[43mminp\u001B[49m\u001B[38;5;241;43m=\u001B[39;49m\u001B[43mmin_periods\u001B[49m\u001B[43m)\u001B[49m\n\u001B[0;32m  10058\u001B[0m \u001B[38;5;28;01melif\u001B[39;00m method \u001B[38;5;241m==\u001B[39m \u001B[38;5;124m\"\u001B[39m\u001B[38;5;124mspearman\u001B[39m\u001B[38;5;124m\"\u001B[39m:\n\u001B[0;32m  10059\u001B[0m     correl \u001B[38;5;241m=\u001B[39m libalgos\u001B[38;5;241m.\u001B[39mnancorr_spearman(mat, minp\u001B[38;5;241m=\u001B[39mmin_periods)\n",
      "\u001B[1;31mKeyboardInterrupt\u001B[0m: "
     ]
    }
   ],
   "source": [
    "corr_result = cell_gene_X.corr()\n",
    "corr_result"
   ],
   "metadata": {
    "collapsed": false,
    "ExecuteTime": {
     "end_time": "2023-07-25T07:40:56.346584900Z",
     "start_time": "2023-07-25T07:36:20.123240Z"
    }
   }
  },
  {
   "cell_type": "code",
   "execution_count": 72,
   "outputs": [],
   "source": [
    "b = corr_result[corr_result > 0.9]"
   ],
   "metadata": {
    "collapsed": false,
    "ExecuteTime": {
     "end_time": "2023-07-19T02:37:00.590562400Z",
     "start_time": "2023-07-19T02:36:56.991573900Z"
    }
   }
  },
  {
   "cell_type": "code",
   "execution_count": 73,
   "outputs": [
    {
     "data": {
      "text/plain": "0        1.0\n1        1.0\n2        1.0\n3        1.0\n4        1.0\n        ... \n13546    1.0\n13547    1.0\n13548    1.0\n13549    1.0\n13550    1.0\nLength: 13551, dtype: float64"
     },
     "execution_count": 73,
     "metadata": {},
     "output_type": "execute_result"
    }
   ],
   "source": [
    "b.sum(axis=0)"
   ],
   "metadata": {
    "collapsed": false,
    "ExecuteTime": {
     "end_time": "2023-07-19T02:37:12.013396700Z",
     "start_time": "2023-07-19T02:37:08.262242800Z"
    }
   }
  },
  {
   "cell_type": "code",
   "execution_count": 29,
   "outputs": [
    {
     "data": {
      "text/plain": "         0         1         2         3         4         5         6      \\\n0     0.069732  0.153093  0.515076  0.049392  0.476986  0.389082  0.060317   \n1     0.200747  0.270794  0.243800  0.085502  0.458941  0.533871  0.045120   \n2     0.299877  0.660439  0.335208  0.073299  0.120608  0.466143  0.269413   \n3     0.102097  0.516949  0.693050  0.012044  0.297955  0.165848  0.077809   \n4     0.276601  0.845343  0.040151  0.033707  0.773441  0.024128  0.097982   \n...        ...       ...       ...       ...       ...       ...       ...   \n1744  0.121323  0.588136  0.449547  0.049985  0.105681  0.475687  0.580270   \n1745  0.090385  0.531650  0.393714  0.055427  0.138092  0.764761  0.789061   \n1746  0.808218  0.330825  0.035748  0.052865  0.559054  0.999626  0.491436   \n1747  0.245101  0.211167  0.037400  0.006365  0.203482  0.596077  0.586518   \n1748  0.576716  0.178694  0.019469  0.023422  0.125960  0.379730  0.441616   \n\n         7         8         9      ...     10381     10382     10383  \\\n0     0.907990  0.290609  0.071577  ...  0.034442  0.917246  0.655143   \n1     0.699856  0.407266  0.130871  ...  0.044981  0.483097  0.587575   \n2     0.409467  0.220384  0.519334  ...  0.186336  0.145861  0.975991   \n3     0.773591  0.332129  0.206533  ...  0.087363  0.815621  1.606236   \n4     0.792943  0.618983  0.347271  ...  0.023665  0.116187  1.016101   \n...        ...       ...       ...  ...       ...       ...       ...   \n1744  0.448002  0.357790  0.023218  ...  0.005469  1.644867  1.783308   \n1745  0.704292  0.444463  0.036753  ...  0.006395  1.766172  1.624953   \n1746  0.452542  1.264179  0.294028  ...  0.029626  0.255300  1.788890   \n1747  0.167588  0.580223  0.092189  ...  0.088158  0.271914  4.240451   \n1748  0.038645  1.454984  0.060209  ...  0.008105  0.170067  3.686076   \n\n         10384     10385     10386     10387     10388     10389     10390  \n0     0.037520  0.136236  0.189807  0.644773  0.472465  0.461112  0.688257  \n1     0.065559  0.466772  0.363481  0.765396  0.848773  0.582599  1.142025  \n2     0.076761  0.289051  1.461041  0.278816  0.273354  0.829122  0.172397  \n3     0.076482  0.125218  0.400721  0.404820  0.143503  0.968766  0.516628  \n4     0.251681  0.237220  0.457873  0.975447  0.204224  0.902102  0.997966  \n...        ...       ...       ...       ...       ...       ...       ...  \n1744  0.042859  0.704189  0.464537  0.508399  0.342687  0.715842  1.236295  \n1745  0.060939  0.642285  0.432808  0.709543  0.384342  0.617884  1.615472  \n1746  0.192083  0.899434  0.417456  0.861601  0.472976  1.074468  0.962824  \n1747  0.366887  0.712416  0.995104  2.351725  0.626215  0.411520  2.885096  \n1748  0.142367  0.321083  1.402668  1.147189  0.452976  0.305708  0.880104  \n\n[1749 rows x 10391 columns]",
      "text/html": "<div>\n<style scoped>\n    .dataframe tbody tr th:only-of-type {\n        vertical-align: middle;\n    }\n\n    .dataframe tbody tr th {\n        vertical-align: top;\n    }\n\n    .dataframe thead th {\n        text-align: right;\n    }\n</style>\n<table border=\"1\" class=\"dataframe\">\n  <thead>\n    <tr style=\"text-align: right;\">\n      <th></th>\n      <th>0</th>\n      <th>1</th>\n      <th>2</th>\n      <th>3</th>\n      <th>4</th>\n      <th>5</th>\n      <th>6</th>\n      <th>7</th>\n      <th>8</th>\n      <th>9</th>\n      <th>...</th>\n      <th>10381</th>\n      <th>10382</th>\n      <th>10383</th>\n      <th>10384</th>\n      <th>10385</th>\n      <th>10386</th>\n      <th>10387</th>\n      <th>10388</th>\n      <th>10389</th>\n      <th>10390</th>\n    </tr>\n  </thead>\n  <tbody>\n    <tr>\n      <th>0</th>\n      <td>0.069732</td>\n      <td>0.153093</td>\n      <td>0.515076</td>\n      <td>0.049392</td>\n      <td>0.476986</td>\n      <td>0.389082</td>\n      <td>0.060317</td>\n      <td>0.907990</td>\n      <td>0.290609</td>\n      <td>0.071577</td>\n      <td>...</td>\n      <td>0.034442</td>\n      <td>0.917246</td>\n      <td>0.655143</td>\n      <td>0.037520</td>\n      <td>0.136236</td>\n      <td>0.189807</td>\n      <td>0.644773</td>\n      <td>0.472465</td>\n      <td>0.461112</td>\n      <td>0.688257</td>\n    </tr>\n    <tr>\n      <th>1</th>\n      <td>0.200747</td>\n      <td>0.270794</td>\n      <td>0.243800</td>\n      <td>0.085502</td>\n      <td>0.458941</td>\n      <td>0.533871</td>\n      <td>0.045120</td>\n      <td>0.699856</td>\n      <td>0.407266</td>\n      <td>0.130871</td>\n      <td>...</td>\n      <td>0.044981</td>\n      <td>0.483097</td>\n      <td>0.587575</td>\n      <td>0.065559</td>\n      <td>0.466772</td>\n      <td>0.363481</td>\n      <td>0.765396</td>\n      <td>0.848773</td>\n      <td>0.582599</td>\n      <td>1.142025</td>\n    </tr>\n    <tr>\n      <th>2</th>\n      <td>0.299877</td>\n      <td>0.660439</td>\n      <td>0.335208</td>\n      <td>0.073299</td>\n      <td>0.120608</td>\n      <td>0.466143</td>\n      <td>0.269413</td>\n      <td>0.409467</td>\n      <td>0.220384</td>\n      <td>0.519334</td>\n      <td>...</td>\n      <td>0.186336</td>\n      <td>0.145861</td>\n      <td>0.975991</td>\n      <td>0.076761</td>\n      <td>0.289051</td>\n      <td>1.461041</td>\n      <td>0.278816</td>\n      <td>0.273354</td>\n      <td>0.829122</td>\n      <td>0.172397</td>\n    </tr>\n    <tr>\n      <th>3</th>\n      <td>0.102097</td>\n      <td>0.516949</td>\n      <td>0.693050</td>\n      <td>0.012044</td>\n      <td>0.297955</td>\n      <td>0.165848</td>\n      <td>0.077809</td>\n      <td>0.773591</td>\n      <td>0.332129</td>\n      <td>0.206533</td>\n      <td>...</td>\n      <td>0.087363</td>\n      <td>0.815621</td>\n      <td>1.606236</td>\n      <td>0.076482</td>\n      <td>0.125218</td>\n      <td>0.400721</td>\n      <td>0.404820</td>\n      <td>0.143503</td>\n      <td>0.968766</td>\n      <td>0.516628</td>\n    </tr>\n    <tr>\n      <th>4</th>\n      <td>0.276601</td>\n      <td>0.845343</td>\n      <td>0.040151</td>\n      <td>0.033707</td>\n      <td>0.773441</td>\n      <td>0.024128</td>\n      <td>0.097982</td>\n      <td>0.792943</td>\n      <td>0.618983</td>\n      <td>0.347271</td>\n      <td>...</td>\n      <td>0.023665</td>\n      <td>0.116187</td>\n      <td>1.016101</td>\n      <td>0.251681</td>\n      <td>0.237220</td>\n      <td>0.457873</td>\n      <td>0.975447</td>\n      <td>0.204224</td>\n      <td>0.902102</td>\n      <td>0.997966</td>\n    </tr>\n    <tr>\n      <th>...</th>\n      <td>...</td>\n      <td>...</td>\n      <td>...</td>\n      <td>...</td>\n      <td>...</td>\n      <td>...</td>\n      <td>...</td>\n      <td>...</td>\n      <td>...</td>\n      <td>...</td>\n      <td>...</td>\n      <td>...</td>\n      <td>...</td>\n      <td>...</td>\n      <td>...</td>\n      <td>...</td>\n      <td>...</td>\n      <td>...</td>\n      <td>...</td>\n      <td>...</td>\n      <td>...</td>\n    </tr>\n    <tr>\n      <th>1744</th>\n      <td>0.121323</td>\n      <td>0.588136</td>\n      <td>0.449547</td>\n      <td>0.049985</td>\n      <td>0.105681</td>\n      <td>0.475687</td>\n      <td>0.580270</td>\n      <td>0.448002</td>\n      <td>0.357790</td>\n      <td>0.023218</td>\n      <td>...</td>\n      <td>0.005469</td>\n      <td>1.644867</td>\n      <td>1.783308</td>\n      <td>0.042859</td>\n      <td>0.704189</td>\n      <td>0.464537</td>\n      <td>0.508399</td>\n      <td>0.342687</td>\n      <td>0.715842</td>\n      <td>1.236295</td>\n    </tr>\n    <tr>\n      <th>1745</th>\n      <td>0.090385</td>\n      <td>0.531650</td>\n      <td>0.393714</td>\n      <td>0.055427</td>\n      <td>0.138092</td>\n      <td>0.764761</td>\n      <td>0.789061</td>\n      <td>0.704292</td>\n      <td>0.444463</td>\n      <td>0.036753</td>\n      <td>...</td>\n      <td>0.006395</td>\n      <td>1.766172</td>\n      <td>1.624953</td>\n      <td>0.060939</td>\n      <td>0.642285</td>\n      <td>0.432808</td>\n      <td>0.709543</td>\n      <td>0.384342</td>\n      <td>0.617884</td>\n      <td>1.615472</td>\n    </tr>\n    <tr>\n      <th>1746</th>\n      <td>0.808218</td>\n      <td>0.330825</td>\n      <td>0.035748</td>\n      <td>0.052865</td>\n      <td>0.559054</td>\n      <td>0.999626</td>\n      <td>0.491436</td>\n      <td>0.452542</td>\n      <td>1.264179</td>\n      <td>0.294028</td>\n      <td>...</td>\n      <td>0.029626</td>\n      <td>0.255300</td>\n      <td>1.788890</td>\n      <td>0.192083</td>\n      <td>0.899434</td>\n      <td>0.417456</td>\n      <td>0.861601</td>\n      <td>0.472976</td>\n      <td>1.074468</td>\n      <td>0.962824</td>\n    </tr>\n    <tr>\n      <th>1747</th>\n      <td>0.245101</td>\n      <td>0.211167</td>\n      <td>0.037400</td>\n      <td>0.006365</td>\n      <td>0.203482</td>\n      <td>0.596077</td>\n      <td>0.586518</td>\n      <td>0.167588</td>\n      <td>0.580223</td>\n      <td>0.092189</td>\n      <td>...</td>\n      <td>0.088158</td>\n      <td>0.271914</td>\n      <td>4.240451</td>\n      <td>0.366887</td>\n      <td>0.712416</td>\n      <td>0.995104</td>\n      <td>2.351725</td>\n      <td>0.626215</td>\n      <td>0.411520</td>\n      <td>2.885096</td>\n    </tr>\n    <tr>\n      <th>1748</th>\n      <td>0.576716</td>\n      <td>0.178694</td>\n      <td>0.019469</td>\n      <td>0.023422</td>\n      <td>0.125960</td>\n      <td>0.379730</td>\n      <td>0.441616</td>\n      <td>0.038645</td>\n      <td>1.454984</td>\n      <td>0.060209</td>\n      <td>...</td>\n      <td>0.008105</td>\n      <td>0.170067</td>\n      <td>3.686076</td>\n      <td>0.142367</td>\n      <td>0.321083</td>\n      <td>1.402668</td>\n      <td>1.147189</td>\n      <td>0.452976</td>\n      <td>0.305708</td>\n      <td>0.880104</td>\n    </tr>\n  </tbody>\n</table>\n<p>1749 rows × 10391 columns</p>\n</div>"
     },
     "execution_count": 29,
     "metadata": {},
     "output_type": "execute_result"
    }
   ],
   "source": [
    "# 下面跑正则化版本\n",
    "cell_gene_X_norm = pd.DataFrame(adata.layers['scvi_normalized'])\n",
    "cell_gene_X_norm"
   ],
   "metadata": {
    "collapsed": false,
    "ExecuteTime": {
     "end_time": "2023-07-25T07:42:46.677748800Z",
     "start_time": "2023-07-25T07:42:46.656744100Z"
    }
   }
  },
  {
   "cell_type": "code",
   "execution_count": 30,
   "outputs": [
    {
     "data": {
      "text/plain": "          0         1         2         3         4         5         6      \\\n0      1.000000  0.163351 -0.183443 -0.039735 -0.090042 -0.133749  0.041896   \n1      0.163351  1.000000  0.153439  0.280461 -0.061584  0.062891 -0.088999   \n2     -0.183443  0.153439  1.000000  0.338401 -0.212104  0.158121  0.054817   \n3     -0.039735  0.280461  0.338401  1.000000  0.065609  0.069211  0.039512   \n4     -0.090042 -0.061584 -0.212104  0.065609  1.000000  0.067106 -0.137877   \n...         ...       ...       ...       ...       ...       ...       ...   \n10386  0.094013  0.225214 -0.028234 -0.059064  0.049963  0.086546 -0.015287   \n10387  0.326305 -0.017723 -0.179525 -0.067925 -0.194053 -0.097310  0.015381   \n10388  0.160103 -0.178553  0.137030 -0.111386 -0.048006  0.390447  0.388027   \n10389  0.008228 -0.015086  0.175906 -0.124034 -0.027563  0.319188  0.126307   \n10390 -0.002310  0.185272 -0.117700  0.069197 -0.086336 -0.050414 -0.012414   \n\n          7         8         9      ...     10381     10382     10383  \\\n0     -0.154340  0.231174  0.091477  ...  0.364649 -0.143748  0.212514   \n1      0.287932  0.056497  0.222687  ...  0.002199  0.019610  0.033944   \n2      0.205645 -0.148981  0.000257  ... -0.085750  0.405416  0.024573   \n3      0.417701 -0.046557  0.279267  ... -0.070028  0.154913 -0.091073   \n4      0.302125 -0.008795  0.246818  ... -0.044844 -0.357939 -0.204120   \n...         ...       ...       ...  ...       ...       ...       ...   \n10386 -0.091343 -0.033116  0.245303  ...  0.159824  0.053086  0.205791   \n10387 -0.290090  0.219353 -0.006669  ...  0.134324 -0.101858  0.289210   \n10388 -0.017626 -0.119789 -0.121734  ...  0.240677  0.426804  0.206396   \n10389  0.067171 -0.038678 -0.026555  ...  0.036503  0.328491  0.087602   \n10390 -0.023893  0.130307 -0.111367  ... -0.146215  0.008941  0.084581   \n\n          10384     10385     10386     10387     10388     10389     10390  \n0     -0.040085  0.047989  0.094013  0.326305  0.160103  0.008228 -0.002310  \n1      0.195882  0.131447  0.225214 -0.017723 -0.178553 -0.015086  0.185272  \n2      0.103115  0.426549 -0.028234 -0.179525  0.137030  0.175906 -0.117700  \n3      0.000904  0.044182 -0.059064 -0.067925 -0.111386 -0.124034  0.069197  \n4      0.046932 -0.167421  0.049963 -0.194053 -0.048006 -0.027563 -0.086336  \n...         ...       ...       ...       ...       ...       ...       ...  \n10386  0.330274  0.250882  1.000000 -0.101113  0.149970  0.228059 -0.100187  \n10387 -0.088721 -0.175275 -0.101113  1.000000 -0.092127 -0.140637  0.355327  \n10388  0.171774  0.408141  0.149970 -0.092127  1.000000  0.662150 -0.265291  \n10389  0.100388  0.568339  0.228059 -0.140637  0.662150  1.000000 -0.261322  \n10390 -0.082690 -0.100015 -0.100187  0.355327 -0.265291 -0.261322  1.000000  \n\n[10391 rows x 10391 columns]",
      "text/html": "<div>\n<style scoped>\n    .dataframe tbody tr th:only-of-type {\n        vertical-align: middle;\n    }\n\n    .dataframe tbody tr th {\n        vertical-align: top;\n    }\n\n    .dataframe thead th {\n        text-align: right;\n    }\n</style>\n<table border=\"1\" class=\"dataframe\">\n  <thead>\n    <tr style=\"text-align: right;\">\n      <th></th>\n      <th>0</th>\n      <th>1</th>\n      <th>2</th>\n      <th>3</th>\n      <th>4</th>\n      <th>5</th>\n      <th>6</th>\n      <th>7</th>\n      <th>8</th>\n      <th>9</th>\n      <th>...</th>\n      <th>10381</th>\n      <th>10382</th>\n      <th>10383</th>\n      <th>10384</th>\n      <th>10385</th>\n      <th>10386</th>\n      <th>10387</th>\n      <th>10388</th>\n      <th>10389</th>\n      <th>10390</th>\n    </tr>\n  </thead>\n  <tbody>\n    <tr>\n      <th>0</th>\n      <td>1.000000</td>\n      <td>0.163351</td>\n      <td>-0.183443</td>\n      <td>-0.039735</td>\n      <td>-0.090042</td>\n      <td>-0.133749</td>\n      <td>0.041896</td>\n      <td>-0.154340</td>\n      <td>0.231174</td>\n      <td>0.091477</td>\n      <td>...</td>\n      <td>0.364649</td>\n      <td>-0.143748</td>\n      <td>0.212514</td>\n      <td>-0.040085</td>\n      <td>0.047989</td>\n      <td>0.094013</td>\n      <td>0.326305</td>\n      <td>0.160103</td>\n      <td>0.008228</td>\n      <td>-0.002310</td>\n    </tr>\n    <tr>\n      <th>1</th>\n      <td>0.163351</td>\n      <td>1.000000</td>\n      <td>0.153439</td>\n      <td>0.280461</td>\n      <td>-0.061584</td>\n      <td>0.062891</td>\n      <td>-0.088999</td>\n      <td>0.287932</td>\n      <td>0.056497</td>\n      <td>0.222687</td>\n      <td>...</td>\n      <td>0.002199</td>\n      <td>0.019610</td>\n      <td>0.033944</td>\n      <td>0.195882</td>\n      <td>0.131447</td>\n      <td>0.225214</td>\n      <td>-0.017723</td>\n      <td>-0.178553</td>\n      <td>-0.015086</td>\n      <td>0.185272</td>\n    </tr>\n    <tr>\n      <th>2</th>\n      <td>-0.183443</td>\n      <td>0.153439</td>\n      <td>1.000000</td>\n      <td>0.338401</td>\n      <td>-0.212104</td>\n      <td>0.158121</td>\n      <td>0.054817</td>\n      <td>0.205645</td>\n      <td>-0.148981</td>\n      <td>0.000257</td>\n      <td>...</td>\n      <td>-0.085750</td>\n      <td>0.405416</td>\n      <td>0.024573</td>\n      <td>0.103115</td>\n      <td>0.426549</td>\n      <td>-0.028234</td>\n      <td>-0.179525</td>\n      <td>0.137030</td>\n      <td>0.175906</td>\n      <td>-0.117700</td>\n    </tr>\n    <tr>\n      <th>3</th>\n      <td>-0.039735</td>\n      <td>0.280461</td>\n      <td>0.338401</td>\n      <td>1.000000</td>\n      <td>0.065609</td>\n      <td>0.069211</td>\n      <td>0.039512</td>\n      <td>0.417701</td>\n      <td>-0.046557</td>\n      <td>0.279267</td>\n      <td>...</td>\n      <td>-0.070028</td>\n      <td>0.154913</td>\n      <td>-0.091073</td>\n      <td>0.000904</td>\n      <td>0.044182</td>\n      <td>-0.059064</td>\n      <td>-0.067925</td>\n      <td>-0.111386</td>\n      <td>-0.124034</td>\n      <td>0.069197</td>\n    </tr>\n    <tr>\n      <th>4</th>\n      <td>-0.090042</td>\n      <td>-0.061584</td>\n      <td>-0.212104</td>\n      <td>0.065609</td>\n      <td>1.000000</td>\n      <td>0.067106</td>\n      <td>-0.137877</td>\n      <td>0.302125</td>\n      <td>-0.008795</td>\n      <td>0.246818</td>\n      <td>...</td>\n      <td>-0.044844</td>\n      <td>-0.357939</td>\n      <td>-0.204120</td>\n      <td>0.046932</td>\n      <td>-0.167421</td>\n      <td>0.049963</td>\n      <td>-0.194053</td>\n      <td>-0.048006</td>\n      <td>-0.027563</td>\n      <td>-0.086336</td>\n    </tr>\n    <tr>\n      <th>...</th>\n      <td>...</td>\n      <td>...</td>\n      <td>...</td>\n      <td>...</td>\n      <td>...</td>\n      <td>...</td>\n      <td>...</td>\n      <td>...</td>\n      <td>...</td>\n      <td>...</td>\n      <td>...</td>\n      <td>...</td>\n      <td>...</td>\n      <td>...</td>\n      <td>...</td>\n      <td>...</td>\n      <td>...</td>\n      <td>...</td>\n      <td>...</td>\n      <td>...</td>\n      <td>...</td>\n    </tr>\n    <tr>\n      <th>10386</th>\n      <td>0.094013</td>\n      <td>0.225214</td>\n      <td>-0.028234</td>\n      <td>-0.059064</td>\n      <td>0.049963</td>\n      <td>0.086546</td>\n      <td>-0.015287</td>\n      <td>-0.091343</td>\n      <td>-0.033116</td>\n      <td>0.245303</td>\n      <td>...</td>\n      <td>0.159824</td>\n      <td>0.053086</td>\n      <td>0.205791</td>\n      <td>0.330274</td>\n      <td>0.250882</td>\n      <td>1.000000</td>\n      <td>-0.101113</td>\n      <td>0.149970</td>\n      <td>0.228059</td>\n      <td>-0.100187</td>\n    </tr>\n    <tr>\n      <th>10387</th>\n      <td>0.326305</td>\n      <td>-0.017723</td>\n      <td>-0.179525</td>\n      <td>-0.067925</td>\n      <td>-0.194053</td>\n      <td>-0.097310</td>\n      <td>0.015381</td>\n      <td>-0.290090</td>\n      <td>0.219353</td>\n      <td>-0.006669</td>\n      <td>...</td>\n      <td>0.134324</td>\n      <td>-0.101858</td>\n      <td>0.289210</td>\n      <td>-0.088721</td>\n      <td>-0.175275</td>\n      <td>-0.101113</td>\n      <td>1.000000</td>\n      <td>-0.092127</td>\n      <td>-0.140637</td>\n      <td>0.355327</td>\n    </tr>\n    <tr>\n      <th>10388</th>\n      <td>0.160103</td>\n      <td>-0.178553</td>\n      <td>0.137030</td>\n      <td>-0.111386</td>\n      <td>-0.048006</td>\n      <td>0.390447</td>\n      <td>0.388027</td>\n      <td>-0.017626</td>\n      <td>-0.119789</td>\n      <td>-0.121734</td>\n      <td>...</td>\n      <td>0.240677</td>\n      <td>0.426804</td>\n      <td>0.206396</td>\n      <td>0.171774</td>\n      <td>0.408141</td>\n      <td>0.149970</td>\n      <td>-0.092127</td>\n      <td>1.000000</td>\n      <td>0.662150</td>\n      <td>-0.265291</td>\n    </tr>\n    <tr>\n      <th>10389</th>\n      <td>0.008228</td>\n      <td>-0.015086</td>\n      <td>0.175906</td>\n      <td>-0.124034</td>\n      <td>-0.027563</td>\n      <td>0.319188</td>\n      <td>0.126307</td>\n      <td>0.067171</td>\n      <td>-0.038678</td>\n      <td>-0.026555</td>\n      <td>...</td>\n      <td>0.036503</td>\n      <td>0.328491</td>\n      <td>0.087602</td>\n      <td>0.100388</td>\n      <td>0.568339</td>\n      <td>0.228059</td>\n      <td>-0.140637</td>\n      <td>0.662150</td>\n      <td>1.000000</td>\n      <td>-0.261322</td>\n    </tr>\n    <tr>\n      <th>10390</th>\n      <td>-0.002310</td>\n      <td>0.185272</td>\n      <td>-0.117700</td>\n      <td>0.069197</td>\n      <td>-0.086336</td>\n      <td>-0.050414</td>\n      <td>-0.012414</td>\n      <td>-0.023893</td>\n      <td>0.130307</td>\n      <td>-0.111367</td>\n      <td>...</td>\n      <td>-0.146215</td>\n      <td>0.008941</td>\n      <td>0.084581</td>\n      <td>-0.082690</td>\n      <td>-0.100015</td>\n      <td>-0.100187</td>\n      <td>0.355327</td>\n      <td>-0.265291</td>\n      <td>-0.261322</td>\n      <td>1.000000</td>\n    </tr>\n  </tbody>\n</table>\n<p>10391 rows × 10391 columns</p>\n</div>"
     },
     "execution_count": 30,
     "metadata": {},
     "output_type": "execute_result"
    }
   ],
   "source": [
    "corr_result_norm = cell_gene_X_norm.corr()\n",
    "corr_result_norm"
   ],
   "metadata": {
    "collapsed": false,
    "ExecuteTime": {
     "end_time": "2023-07-25T07:47:22.685220900Z",
     "start_time": "2023-07-25T07:42:52.308701400Z"
    }
   }
  },
  {
   "cell_type": "code",
   "execution_count": 31,
   "outputs": [],
   "source": [
    "a = corr_result_norm[corr_result_norm > 0.7]"
   ],
   "metadata": {
    "collapsed": false,
    "ExecuteTime": {
     "end_time": "2023-07-25T08:12:24.060773800Z",
     "start_time": "2023-07-25T08:12:23.415627Z"
    }
   }
  },
  {
   "cell_type": "code",
   "execution_count": 32,
   "outputs": [
    {
     "data": {
      "text/plain": "0         1.000000\n1         1.000000\n2         1.000000\n3         1.000000\n4         1.000000\n           ...    \n10386     1.000000\n10387     1.000000\n10388    75.635935\n10389     5.260135\n10390     1.000000\nLength: 10391, dtype: float64"
     },
     "execution_count": 32,
     "metadata": {},
     "output_type": "execute_result"
    }
   ],
   "source": [
    "a.sum(axis=0)"
   ],
   "metadata": {
    "collapsed": false,
    "ExecuteTime": {
     "end_time": "2023-07-25T08:12:26.658161400Z",
     "start_time": "2023-07-25T08:12:24.754485Z"
    }
   }
  },
  {
   "cell_type": "code",
   "execution_count": 33,
   "outputs": [],
   "source": [
    "import anndata"
   ],
   "metadata": {
    "collapsed": false,
    "ExecuteTime": {
     "end_time": "2023-07-25T08:12:43.503384800Z",
     "start_time": "2023-07-25T08:12:43.492382200Z"
    }
   }
  },
  {
   "cell_type": "code",
   "execution_count": 34,
   "outputs": [
    {
     "name": "stderr",
     "output_type": "stream",
     "text": [
      "C:\\Users\\25363\\anaconda3\\envs\\scVI\\lib\\site-packages\\anndata\\_core\\anndata.py:117: ImplicitModificationWarning: Transforming to str index.\n",
      "  warnings.warn(\"Transforming to str index.\", ImplicitModificationWarning)\n",
      "C:\\Users\\25363\\anaconda3\\envs\\scVI\\lib\\site-packages\\anndata\\_core\\anndata.py:117: ImplicitModificationWarning: Transforming to str index.\n",
      "  warnings.warn(\"Transforming to str index.\", ImplicitModificationWarning)\n"
     ]
    }
   ],
   "source": [
    "adata_pcc_norm = anndata.AnnData(corr_result_norm)"
   ],
   "metadata": {
    "collapsed": false,
    "ExecuteTime": {
     "end_time": "2023-07-25T08:12:44.834901100Z",
     "start_time": "2023-07-25T08:12:44.807894400Z"
    }
   }
  },
  {
   "cell_type": "code",
   "execution_count": 35,
   "outputs": [
    {
     "data": {
      "text/plain": "AnnData object with n_obs × n_vars = 10391 × 10391"
     },
     "execution_count": 35,
     "metadata": {},
     "output_type": "execute_result"
    }
   ],
   "source": [
    "adata_pcc_norm"
   ],
   "metadata": {
    "collapsed": false,
    "ExecuteTime": {
     "end_time": "2023-07-25T08:12:47.914412Z",
     "start_time": "2023-07-25T08:12:47.890406600Z"
    }
   }
  },
  {
   "cell_type": "code",
   "execution_count": 36,
   "outputs": [],
   "source": [
    "adata_pcc_norm.write_h5ad('data-processing/pcc-mouse-10391-dim-norm.h5ad')"
   ],
   "metadata": {
    "collapsed": false,
    "ExecuteTime": {
     "end_time": "2023-07-25T08:13:17.013835300Z",
     "start_time": "2023-07-25T08:13:16.158965600Z"
    }
   }
  },
  {
   "cell_type": "code",
   "execution_count": 111,
   "outputs": [
    {
     "data": {
      "text/plain": "0        1.0\n1        1.0\n2        1.0\n3        1.0\n4        1.0\n        ... \n13546    1.0\n13547    1.0\n13548    1.0\n13549    1.0\n13550    1.0\nLength: 13551, dtype: float64"
     },
     "execution_count": 111,
     "metadata": {},
     "output_type": "execute_result"
    }
   ],
   "source": [
    "corr_result[corr_result > 0.7].sum(axis=0)"
   ],
   "metadata": {
    "collapsed": false,
    "ExecuteTime": {
     "end_time": "2023-07-19T06:55:40.410261200Z",
     "start_time": "2023-07-19T06:55:35.133625400Z"
    }
   }
  },
  {
   "cell_type": "code",
   "execution_count": 37,
   "outputs": [
    {
     "data": {
      "text/plain": "array([[ 1.        ,  0.16335125, -0.18344343, ...,  0.1601034 ,\n         0.00822847, -0.00230962],\n       [ 0.16335125,  1.        ,  0.153439  , ..., -0.17855333,\n        -0.01508599,  0.18527236],\n       [-0.18344343,  0.153439  ,  1.        , ...,  0.13703033,\n         0.17590557, -0.11769986],\n       ...,\n       [ 0.1601034 , -0.17855333,  0.13703033, ...,  1.        ,\n         0.66215032, -0.26529083],\n       [ 0.00822847, -0.01508599,  0.17590557, ...,  0.66215032,\n         1.        , -0.26132152],\n       [-0.00230962,  0.18527236, -0.11769986, ..., -0.26529083,\n        -0.26132152,  1.        ]])"
     },
     "execution_count": 37,
     "metadata": {},
     "output_type": "execute_result"
    }
   ],
   "source": [
    "adata1 = anndata.read_h5ad('data-processing/pcc-mouse-10391-dim-norm.h5ad')\n",
    "adata1.X"
   ],
   "metadata": {
    "collapsed": false,
    "ExecuteTime": {
     "end_time": "2023-07-25T08:14:10.669367300Z",
     "start_time": "2023-07-25T08:14:10.389304800Z"
    }
   }
  },
  {
   "cell_type": "code",
   "execution_count": 114,
   "outputs": [
    {
     "data": {
      "text/plain": "array([[ 1.00000000e+00, -5.56654121e-03, -4.18559652e-03, ...,\n        -7.93384760e-04, -1.00835532e-02, -1.10846909e-02],\n       [-5.56654121e-03,  1.00000000e+00, -4.68004773e-02, ...,\n        -2.29759552e-02,  2.21057345e-02, -6.88133719e-02],\n       [-4.18559652e-03, -4.68004773e-02,  1.00000000e+00, ...,\n         9.61795426e-03,  1.56816980e-03,  1.17607465e-01],\n       ...,\n       [-7.93384760e-04, -2.29759552e-02,  9.61795426e-03, ...,\n         1.00000000e+00,  9.16861254e-03, -1.41883027e-02],\n       [-1.00835532e-02,  2.21057345e-02,  1.56816980e-03, ...,\n         9.16861254e-03,  1.00000000e+00, -2.80056659e-02],\n       [-1.10846909e-02, -6.88133719e-02,  1.17607465e-01, ...,\n        -1.41883027e-02, -2.80056659e-02,  1.00000000e+00]])"
     },
     "execution_count": 114,
     "metadata": {},
     "output_type": "execute_result"
    }
   ],
   "source": [
    "adata2 = anndata.read_h5ad('data-processing/pcc-human-13551-dim-no-norm.h5ad')\n",
    "adata2.X"
   ],
   "metadata": {
    "collapsed": false,
    "ExecuteTime": {
     "end_time": "2023-07-19T06:56:52.432766Z",
     "start_time": "2023-07-19T06:56:50.659875100Z"
    }
   }
  },
  {
   "cell_type": "code",
   "execution_count": 119,
   "outputs": [
    {
     "data": {
      "text/plain": "              0         1         2         3         4         5         6  \\\n0      1.000000  0.127017  0.029844  0.129520  0.131204  0.032949 -0.097888   \n1      0.127017  1.000000 -0.255027 -0.028819  0.502785  0.427996 -0.232413   \n2      0.029844 -0.255027  1.000000  0.205872 -0.071567 -0.226827  0.073339   \n3      0.129520 -0.028819  0.205872  1.000000  0.011931 -0.119074 -0.143302   \n4      0.131204  0.502785 -0.071567  0.011931  1.000000  0.178093 -0.231005   \n...         ...       ...       ...       ...       ...       ...       ...   \n13546 -0.056780  0.296675 -0.095726 -0.132808  0.436061  0.081531 -0.276273   \n13547 -0.214850 -0.332743  0.134546  0.509804 -0.141405 -0.359331 -0.013338   \n13548  0.007842  0.079091 -0.104331 -0.054445  0.211014  0.138165 -0.307879   \n13549 -0.045701  0.080246 -0.146242 -0.107237  0.104525  0.141659 -0.148224   \n13550 -0.127980 -0.422945  0.301637  0.397015 -0.198180 -0.410683  0.245757   \n\n              7         8         9  ...     13541     13542     13543  \\\n0      0.069752 -0.037234  0.037090  ... -0.159715  0.090146  0.070842   \n1      0.271216  0.485316 -0.011073  ... -0.227877 -0.146029 -0.037553   \n2     -0.182070 -0.235088 -0.236091  ...  0.072975  0.146704 -0.078576   \n3     -0.106364 -0.225854  0.000588  ...  0.003409  0.140703 -0.158259   \n4      0.049144  0.216368  0.126999  ... -0.077408  0.147980  0.139439   \n...         ...       ...       ...  ...       ...       ...       ...   \n13546  0.104323  0.342396  0.096886  ...  0.182228  0.237951  0.161289   \n13547 -0.263748 -0.281375 -0.075323  ...  0.066649  0.112535 -0.159346   \n13548  0.124768  0.081789  0.320304  ...  0.363814  0.087250  0.103774   \n13549 -0.004133  0.089860  0.212151  ...  0.171016  0.168737  0.264627   \n13550 -0.299270 -0.417542 -0.215186  ... -0.001296  0.067216 -0.113408   \n\n          13544     13545     13546     13547     13548     13549     13550  \n0      0.097528  0.158718 -0.056780 -0.214850  0.007842 -0.045701 -0.127980  \n1      0.170288 -0.074533  0.296675 -0.332743  0.079091  0.080246 -0.422945  \n2     -0.126657  0.070164 -0.095726  0.134546 -0.104331 -0.146242  0.301637  \n3     -0.210256 -0.129064 -0.132808  0.509804 -0.054445 -0.107237  0.397015  \n4      0.112444 -0.061797  0.436061 -0.141405  0.211014  0.104525 -0.198180  \n...         ...       ...       ...       ...       ...       ...       ...  \n13546  0.270955  0.021442  1.000000 -0.068214  0.257358  0.324740 -0.191356  \n13547 -0.292163 -0.220228 -0.068214  1.000000 -0.090787 -0.098834  0.583108  \n13548  0.069928 -0.026207  0.257358 -0.090787  1.000000  0.103404 -0.170155  \n13549  0.286491  0.132001  0.324740 -0.098834  0.103404  1.000000 -0.040403  \n13550 -0.177255  0.003180 -0.191356  0.583108 -0.170155 -0.040403  1.000000  \n\n[13551 rows x 13551 columns]",
      "text/html": "<div>\n<style scoped>\n    .dataframe tbody tr th:only-of-type {\n        vertical-align: middle;\n    }\n\n    .dataframe tbody tr th {\n        vertical-align: top;\n    }\n\n    .dataframe thead th {\n        text-align: right;\n    }\n</style>\n<table border=\"1\" class=\"dataframe\">\n  <thead>\n    <tr style=\"text-align: right;\">\n      <th></th>\n      <th>0</th>\n      <th>1</th>\n      <th>2</th>\n      <th>3</th>\n      <th>4</th>\n      <th>5</th>\n      <th>6</th>\n      <th>7</th>\n      <th>8</th>\n      <th>9</th>\n      <th>...</th>\n      <th>13541</th>\n      <th>13542</th>\n      <th>13543</th>\n      <th>13544</th>\n      <th>13545</th>\n      <th>13546</th>\n      <th>13547</th>\n      <th>13548</th>\n      <th>13549</th>\n      <th>13550</th>\n    </tr>\n  </thead>\n  <tbody>\n    <tr>\n      <th>0</th>\n      <td>1.000000</td>\n      <td>0.127017</td>\n      <td>0.029844</td>\n      <td>0.129520</td>\n      <td>0.131204</td>\n      <td>0.032949</td>\n      <td>-0.097888</td>\n      <td>0.069752</td>\n      <td>-0.037234</td>\n      <td>0.037090</td>\n      <td>...</td>\n      <td>-0.159715</td>\n      <td>0.090146</td>\n      <td>0.070842</td>\n      <td>0.097528</td>\n      <td>0.158718</td>\n      <td>-0.056780</td>\n      <td>-0.214850</td>\n      <td>0.007842</td>\n      <td>-0.045701</td>\n      <td>-0.127980</td>\n    </tr>\n    <tr>\n      <th>1</th>\n      <td>0.127017</td>\n      <td>1.000000</td>\n      <td>-0.255027</td>\n      <td>-0.028819</td>\n      <td>0.502785</td>\n      <td>0.427996</td>\n      <td>-0.232413</td>\n      <td>0.271216</td>\n      <td>0.485316</td>\n      <td>-0.011073</td>\n      <td>...</td>\n      <td>-0.227877</td>\n      <td>-0.146029</td>\n      <td>-0.037553</td>\n      <td>0.170288</td>\n      <td>-0.074533</td>\n      <td>0.296675</td>\n      <td>-0.332743</td>\n      <td>0.079091</td>\n      <td>0.080246</td>\n      <td>-0.422945</td>\n    </tr>\n    <tr>\n      <th>2</th>\n      <td>0.029844</td>\n      <td>-0.255027</td>\n      <td>1.000000</td>\n      <td>0.205872</td>\n      <td>-0.071567</td>\n      <td>-0.226827</td>\n      <td>0.073339</td>\n      <td>-0.182070</td>\n      <td>-0.235088</td>\n      <td>-0.236091</td>\n      <td>...</td>\n      <td>0.072975</td>\n      <td>0.146704</td>\n      <td>-0.078576</td>\n      <td>-0.126657</td>\n      <td>0.070164</td>\n      <td>-0.095726</td>\n      <td>0.134546</td>\n      <td>-0.104331</td>\n      <td>-0.146242</td>\n      <td>0.301637</td>\n    </tr>\n    <tr>\n      <th>3</th>\n      <td>0.129520</td>\n      <td>-0.028819</td>\n      <td>0.205872</td>\n      <td>1.000000</td>\n      <td>0.011931</td>\n      <td>-0.119074</td>\n      <td>-0.143302</td>\n      <td>-0.106364</td>\n      <td>-0.225854</td>\n      <td>0.000588</td>\n      <td>...</td>\n      <td>0.003409</td>\n      <td>0.140703</td>\n      <td>-0.158259</td>\n      <td>-0.210256</td>\n      <td>-0.129064</td>\n      <td>-0.132808</td>\n      <td>0.509804</td>\n      <td>-0.054445</td>\n      <td>-0.107237</td>\n      <td>0.397015</td>\n    </tr>\n    <tr>\n      <th>4</th>\n      <td>0.131204</td>\n      <td>0.502785</td>\n      <td>-0.071567</td>\n      <td>0.011931</td>\n      <td>1.000000</td>\n      <td>0.178093</td>\n      <td>-0.231005</td>\n      <td>0.049144</td>\n      <td>0.216368</td>\n      <td>0.126999</td>\n      <td>...</td>\n      <td>-0.077408</td>\n      <td>0.147980</td>\n      <td>0.139439</td>\n      <td>0.112444</td>\n      <td>-0.061797</td>\n      <td>0.436061</td>\n      <td>-0.141405</td>\n      <td>0.211014</td>\n      <td>0.104525</td>\n      <td>-0.198180</td>\n    </tr>\n    <tr>\n      <th>...</th>\n      <td>...</td>\n      <td>...</td>\n      <td>...</td>\n      <td>...</td>\n      <td>...</td>\n      <td>...</td>\n      <td>...</td>\n      <td>...</td>\n      <td>...</td>\n      <td>...</td>\n      <td>...</td>\n      <td>...</td>\n      <td>...</td>\n      <td>...</td>\n      <td>...</td>\n      <td>...</td>\n      <td>...</td>\n      <td>...</td>\n      <td>...</td>\n      <td>...</td>\n      <td>...</td>\n    </tr>\n    <tr>\n      <th>13546</th>\n      <td>-0.056780</td>\n      <td>0.296675</td>\n      <td>-0.095726</td>\n      <td>-0.132808</td>\n      <td>0.436061</td>\n      <td>0.081531</td>\n      <td>-0.276273</td>\n      <td>0.104323</td>\n      <td>0.342396</td>\n      <td>0.096886</td>\n      <td>...</td>\n      <td>0.182228</td>\n      <td>0.237951</td>\n      <td>0.161289</td>\n      <td>0.270955</td>\n      <td>0.021442</td>\n      <td>1.000000</td>\n      <td>-0.068214</td>\n      <td>0.257358</td>\n      <td>0.324740</td>\n      <td>-0.191356</td>\n    </tr>\n    <tr>\n      <th>13547</th>\n      <td>-0.214850</td>\n      <td>-0.332743</td>\n      <td>0.134546</td>\n      <td>0.509804</td>\n      <td>-0.141405</td>\n      <td>-0.359331</td>\n      <td>-0.013338</td>\n      <td>-0.263748</td>\n      <td>-0.281375</td>\n      <td>-0.075323</td>\n      <td>...</td>\n      <td>0.066649</td>\n      <td>0.112535</td>\n      <td>-0.159346</td>\n      <td>-0.292163</td>\n      <td>-0.220228</td>\n      <td>-0.068214</td>\n      <td>1.000000</td>\n      <td>-0.090787</td>\n      <td>-0.098834</td>\n      <td>0.583108</td>\n    </tr>\n    <tr>\n      <th>13548</th>\n      <td>0.007842</td>\n      <td>0.079091</td>\n      <td>-0.104331</td>\n      <td>-0.054445</td>\n      <td>0.211014</td>\n      <td>0.138165</td>\n      <td>-0.307879</td>\n      <td>0.124768</td>\n      <td>0.081789</td>\n      <td>0.320304</td>\n      <td>...</td>\n      <td>0.363814</td>\n      <td>0.087250</td>\n      <td>0.103774</td>\n      <td>0.069928</td>\n      <td>-0.026207</td>\n      <td>0.257358</td>\n      <td>-0.090787</td>\n      <td>1.000000</td>\n      <td>0.103404</td>\n      <td>-0.170155</td>\n    </tr>\n    <tr>\n      <th>13549</th>\n      <td>-0.045701</td>\n      <td>0.080246</td>\n      <td>-0.146242</td>\n      <td>-0.107237</td>\n      <td>0.104525</td>\n      <td>0.141659</td>\n      <td>-0.148224</td>\n      <td>-0.004133</td>\n      <td>0.089860</td>\n      <td>0.212151</td>\n      <td>...</td>\n      <td>0.171016</td>\n      <td>0.168737</td>\n      <td>0.264627</td>\n      <td>0.286491</td>\n      <td>0.132001</td>\n      <td>0.324740</td>\n      <td>-0.098834</td>\n      <td>0.103404</td>\n      <td>1.000000</td>\n      <td>-0.040403</td>\n    </tr>\n    <tr>\n      <th>13550</th>\n      <td>-0.127980</td>\n      <td>-0.422945</td>\n      <td>0.301637</td>\n      <td>0.397015</td>\n      <td>-0.198180</td>\n      <td>-0.410683</td>\n      <td>0.245757</td>\n      <td>-0.299270</td>\n      <td>-0.417542</td>\n      <td>-0.215186</td>\n      <td>...</td>\n      <td>-0.001296</td>\n      <td>0.067216</td>\n      <td>-0.113408</td>\n      <td>-0.177255</td>\n      <td>0.003180</td>\n      <td>-0.191356</td>\n      <td>0.583108</td>\n      <td>-0.170155</td>\n      <td>-0.040403</td>\n      <td>1.000000</td>\n    </tr>\n  </tbody>\n</table>\n<p>13551 rows × 13551 columns</p>\n</div>"
     },
     "execution_count": 119,
     "metadata": {},
     "output_type": "execute_result"
    }
   ],
   "source": [
    "import pandas as pd\n",
    "import anndata\n",
    "df1 = adata1.to_df()\n",
    "df1"
   ],
   "metadata": {
    "collapsed": false,
    "ExecuteTime": {
     "end_time": "2023-07-19T07:00:34.393689300Z",
     "start_time": "2023-07-19T07:00:34.354678900Z"
    }
   }
  },
  {
   "cell_type": "code",
   "execution_count": 94,
   "outputs": [],
   "source": [],
   "metadata": {
    "collapsed": false,
    "ExecuteTime": {
     "end_time": "2023-07-19T06:45:47.094725Z",
     "start_time": "2023-07-19T06:45:47.083164800Z"
    }
   }
  },
  {
   "cell_type": "code",
   "execution_count": null,
   "outputs": [],
   "source": [],
   "metadata": {
    "collapsed": false
   }
  }
 ],
 "metadata": {
  "kernelspec": {
   "display_name": "Python 3",
   "language": "python",
   "name": "python3"
  },
  "language_info": {
   "codemirror_mode": {
    "name": "ipython",
    "version": 2
   },
   "file_extension": ".py",
   "mimetype": "text/x-python",
   "name": "python",
   "nbconvert_exporter": "python",
   "pygments_lexer": "ipython2",
   "version": "2.7.6"
  }
 },
 "nbformat": 4,
 "nbformat_minor": 0
}
