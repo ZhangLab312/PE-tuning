{
 "cells": [
  {
   "cell_type": "code",
   "execution_count": 1,
   "metadata": {
    "collapsed": true,
    "ExecuteTime": {
     "end_time": "2023-07-25T08:14:49.865909Z",
     "start_time": "2023-07-25T08:14:47.570245900Z"
    }
   },
   "outputs": [],
   "source": [
    "import pandas as pd\n",
    "import numpy as np\n",
    "import anndata"
   ]
  },
  {
   "cell_type": "code",
   "execution_count": 2,
   "outputs": [
    {
     "data": {
      "text/plain": "              0         1         2         3         4         5         6  \\\n0      1.000000  0.163351 -0.183443 -0.039735 -0.090042 -0.133749  0.041896   \n1      0.163351  1.000000  0.153439  0.280461 -0.061584  0.062891 -0.088999   \n2     -0.183443  0.153439  1.000000  0.338401 -0.212104  0.158121  0.054817   \n3     -0.039735  0.280461  0.338401  1.000000  0.065609  0.069211  0.039512   \n4     -0.090042 -0.061584 -0.212104  0.065609  1.000000  0.067106 -0.137877   \n...         ...       ...       ...       ...       ...       ...       ...   \n10386  0.094013  0.225214 -0.028234 -0.059064  0.049963  0.086546 -0.015287   \n10387  0.326305 -0.017723 -0.179525 -0.067925 -0.194053 -0.097310  0.015381   \n10388  0.160103 -0.178553  0.137030 -0.111386 -0.048006  0.390447  0.388027   \n10389  0.008228 -0.015086  0.175906 -0.124034 -0.027563  0.319188  0.126307   \n10390 -0.002310  0.185272 -0.117700  0.069197 -0.086336 -0.050414 -0.012414   \n\n              7         8         9  ...     10381     10382     10383  \\\n0     -0.154340  0.231174  0.091477  ...  0.364649 -0.143748  0.212514   \n1      0.287932  0.056497  0.222687  ...  0.002199  0.019610  0.033944   \n2      0.205645 -0.148981  0.000257  ... -0.085750  0.405416  0.024573   \n3      0.417701 -0.046557  0.279267  ... -0.070028  0.154913 -0.091073   \n4      0.302125 -0.008795  0.246818  ... -0.044844 -0.357939 -0.204120   \n...         ...       ...       ...  ...       ...       ...       ...   \n10386 -0.091343 -0.033116  0.245303  ...  0.159824  0.053086  0.205791   \n10387 -0.290090  0.219353 -0.006669  ...  0.134324 -0.101858  0.289210   \n10388 -0.017626 -0.119789 -0.121734  ...  0.240677  0.426804  0.206396   \n10389  0.067171 -0.038678 -0.026555  ...  0.036503  0.328491  0.087602   \n10390 -0.023893  0.130307 -0.111367  ... -0.146215  0.008941  0.084581   \n\n          10384     10385     10386     10387     10388     10389     10390  \n0     -0.040085  0.047989  0.094013  0.326305  0.160103  0.008228 -0.002310  \n1      0.195882  0.131447  0.225214 -0.017723 -0.178553 -0.015086  0.185272  \n2      0.103115  0.426549 -0.028234 -0.179525  0.137030  0.175906 -0.117700  \n3      0.000904  0.044182 -0.059064 -0.067925 -0.111386 -0.124034  0.069197  \n4      0.046932 -0.167421  0.049963 -0.194053 -0.048006 -0.027563 -0.086336  \n...         ...       ...       ...       ...       ...       ...       ...  \n10386  0.330274  0.250882  1.000000 -0.101113  0.149970  0.228059 -0.100187  \n10387 -0.088721 -0.175275 -0.101113  1.000000 -0.092127 -0.140637  0.355327  \n10388  0.171774  0.408141  0.149970 -0.092127  1.000000  0.662150 -0.265291  \n10389  0.100388  0.568339  0.228059 -0.140637  0.662150  1.000000 -0.261322  \n10390 -0.082690 -0.100015 -0.100187  0.355327 -0.265291 -0.261322  1.000000  \n\n[10391 rows x 10391 columns]",
      "text/html": "<div>\n<style scoped>\n    .dataframe tbody tr th:only-of-type {\n        vertical-align: middle;\n    }\n\n    .dataframe tbody tr th {\n        vertical-align: top;\n    }\n\n    .dataframe thead th {\n        text-align: right;\n    }\n</style>\n<table border=\"1\" class=\"dataframe\">\n  <thead>\n    <tr style=\"text-align: right;\">\n      <th></th>\n      <th>0</th>\n      <th>1</th>\n      <th>2</th>\n      <th>3</th>\n      <th>4</th>\n      <th>5</th>\n      <th>6</th>\n      <th>7</th>\n      <th>8</th>\n      <th>9</th>\n      <th>...</th>\n      <th>10381</th>\n      <th>10382</th>\n      <th>10383</th>\n      <th>10384</th>\n      <th>10385</th>\n      <th>10386</th>\n      <th>10387</th>\n      <th>10388</th>\n      <th>10389</th>\n      <th>10390</th>\n    </tr>\n  </thead>\n  <tbody>\n    <tr>\n      <th>0</th>\n      <td>1.000000</td>\n      <td>0.163351</td>\n      <td>-0.183443</td>\n      <td>-0.039735</td>\n      <td>-0.090042</td>\n      <td>-0.133749</td>\n      <td>0.041896</td>\n      <td>-0.154340</td>\n      <td>0.231174</td>\n      <td>0.091477</td>\n      <td>...</td>\n      <td>0.364649</td>\n      <td>-0.143748</td>\n      <td>0.212514</td>\n      <td>-0.040085</td>\n      <td>0.047989</td>\n      <td>0.094013</td>\n      <td>0.326305</td>\n      <td>0.160103</td>\n      <td>0.008228</td>\n      <td>-0.002310</td>\n    </tr>\n    <tr>\n      <th>1</th>\n      <td>0.163351</td>\n      <td>1.000000</td>\n      <td>0.153439</td>\n      <td>0.280461</td>\n      <td>-0.061584</td>\n      <td>0.062891</td>\n      <td>-0.088999</td>\n      <td>0.287932</td>\n      <td>0.056497</td>\n      <td>0.222687</td>\n      <td>...</td>\n      <td>0.002199</td>\n      <td>0.019610</td>\n      <td>0.033944</td>\n      <td>0.195882</td>\n      <td>0.131447</td>\n      <td>0.225214</td>\n      <td>-0.017723</td>\n      <td>-0.178553</td>\n      <td>-0.015086</td>\n      <td>0.185272</td>\n    </tr>\n    <tr>\n      <th>2</th>\n      <td>-0.183443</td>\n      <td>0.153439</td>\n      <td>1.000000</td>\n      <td>0.338401</td>\n      <td>-0.212104</td>\n      <td>0.158121</td>\n      <td>0.054817</td>\n      <td>0.205645</td>\n      <td>-0.148981</td>\n      <td>0.000257</td>\n      <td>...</td>\n      <td>-0.085750</td>\n      <td>0.405416</td>\n      <td>0.024573</td>\n      <td>0.103115</td>\n      <td>0.426549</td>\n      <td>-0.028234</td>\n      <td>-0.179525</td>\n      <td>0.137030</td>\n      <td>0.175906</td>\n      <td>-0.117700</td>\n    </tr>\n    <tr>\n      <th>3</th>\n      <td>-0.039735</td>\n      <td>0.280461</td>\n      <td>0.338401</td>\n      <td>1.000000</td>\n      <td>0.065609</td>\n      <td>0.069211</td>\n      <td>0.039512</td>\n      <td>0.417701</td>\n      <td>-0.046557</td>\n      <td>0.279267</td>\n      <td>...</td>\n      <td>-0.070028</td>\n      <td>0.154913</td>\n      <td>-0.091073</td>\n      <td>0.000904</td>\n      <td>0.044182</td>\n      <td>-0.059064</td>\n      <td>-0.067925</td>\n      <td>-0.111386</td>\n      <td>-0.124034</td>\n      <td>0.069197</td>\n    </tr>\n    <tr>\n      <th>4</th>\n      <td>-0.090042</td>\n      <td>-0.061584</td>\n      <td>-0.212104</td>\n      <td>0.065609</td>\n      <td>1.000000</td>\n      <td>0.067106</td>\n      <td>-0.137877</td>\n      <td>0.302125</td>\n      <td>-0.008795</td>\n      <td>0.246818</td>\n      <td>...</td>\n      <td>-0.044844</td>\n      <td>-0.357939</td>\n      <td>-0.204120</td>\n      <td>0.046932</td>\n      <td>-0.167421</td>\n      <td>0.049963</td>\n      <td>-0.194053</td>\n      <td>-0.048006</td>\n      <td>-0.027563</td>\n      <td>-0.086336</td>\n    </tr>\n    <tr>\n      <th>...</th>\n      <td>...</td>\n      <td>...</td>\n      <td>...</td>\n      <td>...</td>\n      <td>...</td>\n      <td>...</td>\n      <td>...</td>\n      <td>...</td>\n      <td>...</td>\n      <td>...</td>\n      <td>...</td>\n      <td>...</td>\n      <td>...</td>\n      <td>...</td>\n      <td>...</td>\n      <td>...</td>\n      <td>...</td>\n      <td>...</td>\n      <td>...</td>\n      <td>...</td>\n      <td>...</td>\n    </tr>\n    <tr>\n      <th>10386</th>\n      <td>0.094013</td>\n      <td>0.225214</td>\n      <td>-0.028234</td>\n      <td>-0.059064</td>\n      <td>0.049963</td>\n      <td>0.086546</td>\n      <td>-0.015287</td>\n      <td>-0.091343</td>\n      <td>-0.033116</td>\n      <td>0.245303</td>\n      <td>...</td>\n      <td>0.159824</td>\n      <td>0.053086</td>\n      <td>0.205791</td>\n      <td>0.330274</td>\n      <td>0.250882</td>\n      <td>1.000000</td>\n      <td>-0.101113</td>\n      <td>0.149970</td>\n      <td>0.228059</td>\n      <td>-0.100187</td>\n    </tr>\n    <tr>\n      <th>10387</th>\n      <td>0.326305</td>\n      <td>-0.017723</td>\n      <td>-0.179525</td>\n      <td>-0.067925</td>\n      <td>-0.194053</td>\n      <td>-0.097310</td>\n      <td>0.015381</td>\n      <td>-0.290090</td>\n      <td>0.219353</td>\n      <td>-0.006669</td>\n      <td>...</td>\n      <td>0.134324</td>\n      <td>-0.101858</td>\n      <td>0.289210</td>\n      <td>-0.088721</td>\n      <td>-0.175275</td>\n      <td>-0.101113</td>\n      <td>1.000000</td>\n      <td>-0.092127</td>\n      <td>-0.140637</td>\n      <td>0.355327</td>\n    </tr>\n    <tr>\n      <th>10388</th>\n      <td>0.160103</td>\n      <td>-0.178553</td>\n      <td>0.137030</td>\n      <td>-0.111386</td>\n      <td>-0.048006</td>\n      <td>0.390447</td>\n      <td>0.388027</td>\n      <td>-0.017626</td>\n      <td>-0.119789</td>\n      <td>-0.121734</td>\n      <td>...</td>\n      <td>0.240677</td>\n      <td>0.426804</td>\n      <td>0.206396</td>\n      <td>0.171774</td>\n      <td>0.408141</td>\n      <td>0.149970</td>\n      <td>-0.092127</td>\n      <td>1.000000</td>\n      <td>0.662150</td>\n      <td>-0.265291</td>\n    </tr>\n    <tr>\n      <th>10389</th>\n      <td>0.008228</td>\n      <td>-0.015086</td>\n      <td>0.175906</td>\n      <td>-0.124034</td>\n      <td>-0.027563</td>\n      <td>0.319188</td>\n      <td>0.126307</td>\n      <td>0.067171</td>\n      <td>-0.038678</td>\n      <td>-0.026555</td>\n      <td>...</td>\n      <td>0.036503</td>\n      <td>0.328491</td>\n      <td>0.087602</td>\n      <td>0.100388</td>\n      <td>0.568339</td>\n      <td>0.228059</td>\n      <td>-0.140637</td>\n      <td>0.662150</td>\n      <td>1.000000</td>\n      <td>-0.261322</td>\n    </tr>\n    <tr>\n      <th>10390</th>\n      <td>-0.002310</td>\n      <td>0.185272</td>\n      <td>-0.117700</td>\n      <td>0.069197</td>\n      <td>-0.086336</td>\n      <td>-0.050414</td>\n      <td>-0.012414</td>\n      <td>-0.023893</td>\n      <td>0.130307</td>\n      <td>-0.111367</td>\n      <td>...</td>\n      <td>-0.146215</td>\n      <td>0.008941</td>\n      <td>0.084581</td>\n      <td>-0.082690</td>\n      <td>-0.100015</td>\n      <td>-0.100187</td>\n      <td>0.355327</td>\n      <td>-0.265291</td>\n      <td>-0.261322</td>\n      <td>1.000000</td>\n    </tr>\n  </tbody>\n</table>\n<p>10391 rows × 10391 columns</p>\n</div>"
     },
     "execution_count": 2,
     "metadata": {},
     "output_type": "execute_result"
    }
   ],
   "source": [
    "pcc_df = anndata.read_h5ad('data-processing/pcc-mouse-10391-dim-norm.h5ad').to_df()\n",
    "pcc_df"
   ],
   "metadata": {
    "collapsed": false,
    "ExecuteTime": {
     "end_time": "2023-07-25T08:14:54.473894900Z",
     "start_time": "2023-07-25T08:14:53.982183300Z"
    }
   }
  },
  {
   "cell_type": "code",
   "execution_count": 4,
   "outputs": [
    {
     "data": {
      "text/plain": "   row  column\n0    0       2\n1    0       3\n2    0       4\n3    2       4",
      "text/html": "<div>\n<style scoped>\n    .dataframe tbody tr th:only-of-type {\n        vertical-align: middle;\n    }\n\n    .dataframe tbody tr th {\n        vertical-align: top;\n    }\n\n    .dataframe thead th {\n        text-align: right;\n    }\n</style>\n<table border=\"1\" class=\"dataframe\">\n  <thead>\n    <tr style=\"text-align: right;\">\n      <th></th>\n      <th>row</th>\n      <th>column</th>\n    </tr>\n  </thead>\n  <tbody>\n    <tr>\n      <th>0</th>\n      <td>0</td>\n      <td>2</td>\n    </tr>\n    <tr>\n      <th>1</th>\n      <td>0</td>\n      <td>3</td>\n    </tr>\n    <tr>\n      <th>2</th>\n      <td>0</td>\n      <td>4</td>\n    </tr>\n    <tr>\n      <th>3</th>\n      <td>2</td>\n      <td>4</td>\n    </tr>\n  </tbody>\n</table>\n</div>"
     },
     "execution_count": 4,
     "metadata": {},
     "output_type": "execute_result"
    }
   ],
   "source": [
    "import pandas as pd\n",
    "import numpy as np\n",
    "\n",
    "# 创建一个示例DataFrame\n",
    "n = 5\n",
    "df = pd.DataFrame(np.random.rand(n, n))\n",
    "\n",
    "# 获取右上三角矩阵中数值大于0.7的数值的坐标\n",
    "mask = np.triu(df > 0.7, k=1)\n",
    "result = np.argwhere(mask)\n",
    "\n",
    "# 将坐标存入另一个DataFrame中\n",
    "result_df = pd.DataFrame(result, columns=['row', 'column'])\n",
    "result_df"
   ],
   "metadata": {
    "collapsed": false,
    "ExecuteTime": {
     "end_time": "2023-07-19T07:11:38.782387800Z",
     "start_time": "2023-07-19T07:11:38.768384700Z"
    }
   }
  },
  {
   "cell_type": "code",
   "execution_count": 6,
   "outputs": [
    {
     "data": {
      "text/plain": "array([[    1,   824],\n       [    1,  3362],\n       [    1,  3541],\n       ...,\n       [13302, 13499],\n       [13331, 13499],\n       [13487, 13499]], dtype=int64)"
     },
     "execution_count": 6,
     "metadata": {},
     "output_type": "execute_result"
    }
   ],
   "source": [
    "mask = np.triu(pcc_df > 0.7, k=1)\n",
    "result_gt_pcc = np.argwhere(mask)\n",
    "result_gt_pcc"
   ],
   "metadata": {
    "collapsed": false,
    "ExecuteTime": {
     "end_time": "2023-07-19T07:15:40.073104200Z",
     "start_time": "2023-07-19T07:15:39.344279500Z"
    }
   }
  },
  {
   "cell_type": "code",
   "execution_count": 17,
   "outputs": [],
   "source": [
    "import pandas as pd\n",
    "import numpy as np\n",
    "\n",
    "# 创建一个示例DataFrame\n",
    "n = 5\n",
    "df = pd.DataFrame(np.random.rand(n, n))\n",
    "\n",
    "# 获取右上三角矩阵\n",
    "triu = np.triu(df, k=1)\n",
    "\n",
    "# 获取每一行元素小于0.7的最大值所在位置的坐标\n",
    "result = []\n",
    "for i in range(n):\n",
    "    row = triu[i]\n",
    "    max_val = row[row < 0.7].max()\n",
    "    if not np.isnan(max_val):\n",
    "        col = np.where(row == max_val)[0][0]\n",
    "        result.append((i, col))\n",
    "\n",
    "# 将坐标存入一个新的DataFrame中\n",
    "result_df = pd.DataFrame(result, columns=['row', 'column'])\n"
   ],
   "metadata": {
    "collapsed": false,
    "ExecuteTime": {
     "end_time": "2023-07-19T07:55:04.362233Z",
     "start_time": "2023-07-19T07:55:04.348668900Z"
    }
   }
  },
  {
   "cell_type": "code",
   "execution_count": 18,
   "outputs": [
    {
     "data": {
      "text/plain": "          0         1         2         3         4\n0  0.921577  0.848689  0.139488  0.552873  0.216076\n1  0.448788  0.681090  0.808516  0.640110  0.700621\n2  0.721491  0.020466  0.602549  0.259089  0.536005\n3  0.331278  0.053470  0.283995  0.693624  0.519498\n4  0.857654  0.423044  0.606342  0.235024  0.227958",
      "text/html": "<div>\n<style scoped>\n    .dataframe tbody tr th:only-of-type {\n        vertical-align: middle;\n    }\n\n    .dataframe tbody tr th {\n        vertical-align: top;\n    }\n\n    .dataframe thead th {\n        text-align: right;\n    }\n</style>\n<table border=\"1\" class=\"dataframe\">\n  <thead>\n    <tr style=\"text-align: right;\">\n      <th></th>\n      <th>0</th>\n      <th>1</th>\n      <th>2</th>\n      <th>3</th>\n      <th>4</th>\n    </tr>\n  </thead>\n  <tbody>\n    <tr>\n      <th>0</th>\n      <td>0.921577</td>\n      <td>0.848689</td>\n      <td>0.139488</td>\n      <td>0.552873</td>\n      <td>0.216076</td>\n    </tr>\n    <tr>\n      <th>1</th>\n      <td>0.448788</td>\n      <td>0.681090</td>\n      <td>0.808516</td>\n      <td>0.640110</td>\n      <td>0.700621</td>\n    </tr>\n    <tr>\n      <th>2</th>\n      <td>0.721491</td>\n      <td>0.020466</td>\n      <td>0.602549</td>\n      <td>0.259089</td>\n      <td>0.536005</td>\n    </tr>\n    <tr>\n      <th>3</th>\n      <td>0.331278</td>\n      <td>0.053470</td>\n      <td>0.283995</td>\n      <td>0.693624</td>\n      <td>0.519498</td>\n    </tr>\n    <tr>\n      <th>4</th>\n      <td>0.857654</td>\n      <td>0.423044</td>\n      <td>0.606342</td>\n      <td>0.235024</td>\n      <td>0.227958</td>\n    </tr>\n  </tbody>\n</table>\n</div>"
     },
     "execution_count": 18,
     "metadata": {},
     "output_type": "execute_result"
    }
   ],
   "source": [
    "df"
   ],
   "metadata": {
    "collapsed": false,
    "ExecuteTime": {
     "end_time": "2023-07-19T07:55:04.899190Z",
     "start_time": "2023-07-19T07:55:04.874185Z"
    }
   }
  },
  {
   "cell_type": "code",
   "execution_count": 19,
   "outputs": [
    {
     "data": {
      "text/plain": "   row  column\n0    0       3\n1    1       3\n2    2       4\n3    3       4\n4    4       0",
      "text/html": "<div>\n<style scoped>\n    .dataframe tbody tr th:only-of-type {\n        vertical-align: middle;\n    }\n\n    .dataframe tbody tr th {\n        vertical-align: top;\n    }\n\n    .dataframe thead th {\n        text-align: right;\n    }\n</style>\n<table border=\"1\" class=\"dataframe\">\n  <thead>\n    <tr style=\"text-align: right;\">\n      <th></th>\n      <th>row</th>\n      <th>column</th>\n    </tr>\n  </thead>\n  <tbody>\n    <tr>\n      <th>0</th>\n      <td>0</td>\n      <td>3</td>\n    </tr>\n    <tr>\n      <th>1</th>\n      <td>1</td>\n      <td>3</td>\n    </tr>\n    <tr>\n      <th>2</th>\n      <td>2</td>\n      <td>4</td>\n    </tr>\n    <tr>\n      <th>3</th>\n      <td>3</td>\n      <td>4</td>\n    </tr>\n    <tr>\n      <th>4</th>\n      <td>4</td>\n      <td>0</td>\n    </tr>\n  </tbody>\n</table>\n</div>"
     },
     "execution_count": 19,
     "metadata": {},
     "output_type": "execute_result"
    }
   ],
   "source": [
    "result_df"
   ],
   "metadata": {
    "collapsed": false,
    "ExecuteTime": {
     "end_time": "2023-07-19T07:55:05.433271700Z",
     "start_time": "2023-07-19T07:55:05.407265600Z"
    }
   }
  },
  {
   "cell_type": "code",
   "execution_count": 20,
   "outputs": [],
   "source": [
    "result_df = result_df[result_df['row'] < result_df['column']]"
   ],
   "metadata": {
    "collapsed": false,
    "ExecuteTime": {
     "end_time": "2023-07-19T07:55:47.653955400Z",
     "start_time": "2023-07-19T07:55:47.622948200Z"
    }
   }
  },
  {
   "cell_type": "code",
   "execution_count": 21,
   "outputs": [
    {
     "data": {
      "text/plain": "   row  column\n0    0       3\n1    1       3\n2    2       4\n3    3       4",
      "text/html": "<div>\n<style scoped>\n    .dataframe tbody tr th:only-of-type {\n        vertical-align: middle;\n    }\n\n    .dataframe tbody tr th {\n        vertical-align: top;\n    }\n\n    .dataframe thead th {\n        text-align: right;\n    }\n</style>\n<table border=\"1\" class=\"dataframe\">\n  <thead>\n    <tr style=\"text-align: right;\">\n      <th></th>\n      <th>row</th>\n      <th>column</th>\n    </tr>\n  </thead>\n  <tbody>\n    <tr>\n      <th>0</th>\n      <td>0</td>\n      <td>3</td>\n    </tr>\n    <tr>\n      <th>1</th>\n      <td>1</td>\n      <td>3</td>\n    </tr>\n    <tr>\n      <th>2</th>\n      <td>2</td>\n      <td>4</td>\n    </tr>\n    <tr>\n      <th>3</th>\n      <td>3</td>\n      <td>4</td>\n    </tr>\n  </tbody>\n</table>\n</div>"
     },
     "execution_count": 21,
     "metadata": {},
     "output_type": "execute_result"
    }
   ],
   "source": [
    "result_df"
   ],
   "metadata": {
    "collapsed": false,
    "ExecuteTime": {
     "end_time": "2023-07-19T07:55:50.072675100Z",
     "start_time": "2023-07-19T07:55:50.054671800Z"
    }
   }
  },
  {
   "cell_type": "code",
   "execution_count": 25,
   "outputs": [
    {
     "data": {
      "text/plain": "Index(['0', '1', '2', '3', '4', '5', '6', '7', '8', '9',\n       ...\n       '13541', '13542', '13543', '13544', '13545', '13546', '13547', '13548',\n       '13549', '13550'],\n      dtype='object', length=13551)"
     },
     "execution_count": 25,
     "metadata": {},
     "output_type": "execute_result"
    }
   ],
   "source": [
    "pcc_df.index"
   ],
   "metadata": {
    "collapsed": false,
    "ExecuteTime": {
     "end_time": "2023-07-19T07:57:54.131290700Z",
     "start_time": "2023-07-19T07:57:54.100283600Z"
    }
   }
  },
  {
   "cell_type": "code",
   "execution_count": 31,
   "outputs": [],
   "source": [
    "# 获取每一行元素小于0.7的最大值所在位置的坐标\n",
    "result = []\n",
    "for i in range(len(pcc_df.index)):\n",
    "    row = pcc_df.iloc[i]\n",
    "    max_val = row[row < 0.7].max()\n",
    "    if not np.isnan(max_val):\n",
    "        col = np.where(row == max_val)[0][0]\n",
    "        result.append((i, col))\n",
    "\n",
    "# 将坐标存入一个新的DataFrame中\n",
    "result_df = pd.DataFrame(result, columns=['row', 'column'])"
   ],
   "metadata": {
    "collapsed": false,
    "ExecuteTime": {
     "end_time": "2023-07-19T08:14:40.985261100Z",
     "start_time": "2023-07-19T08:14:36.535956500Z"
    }
   }
  },
  {
   "cell_type": "code",
   "execution_count": 32,
   "outputs": [
    {
     "data": {
      "text/plain": "         row  column\n0          0    8605\n1          1    9160\n2          2    6002\n3          3   10148\n4          4    8056\n...      ...     ...\n13546  13546    2941\n13547  13547     924\n13548  13548   12637\n13549  13549   12892\n13550  13550    6253\n\n[13551 rows x 2 columns]",
      "text/html": "<div>\n<style scoped>\n    .dataframe tbody tr th:only-of-type {\n        vertical-align: middle;\n    }\n\n    .dataframe tbody tr th {\n        vertical-align: top;\n    }\n\n    .dataframe thead th {\n        text-align: right;\n    }\n</style>\n<table border=\"1\" class=\"dataframe\">\n  <thead>\n    <tr style=\"text-align: right;\">\n      <th></th>\n      <th>row</th>\n      <th>column</th>\n    </tr>\n  </thead>\n  <tbody>\n    <tr>\n      <th>0</th>\n      <td>0</td>\n      <td>8605</td>\n    </tr>\n    <tr>\n      <th>1</th>\n      <td>1</td>\n      <td>9160</td>\n    </tr>\n    <tr>\n      <th>2</th>\n      <td>2</td>\n      <td>6002</td>\n    </tr>\n    <tr>\n      <th>3</th>\n      <td>3</td>\n      <td>10148</td>\n    </tr>\n    <tr>\n      <th>4</th>\n      <td>4</td>\n      <td>8056</td>\n    </tr>\n    <tr>\n      <th>...</th>\n      <td>...</td>\n      <td>...</td>\n    </tr>\n    <tr>\n      <th>13546</th>\n      <td>13546</td>\n      <td>2941</td>\n    </tr>\n    <tr>\n      <th>13547</th>\n      <td>13547</td>\n      <td>924</td>\n    </tr>\n    <tr>\n      <th>13548</th>\n      <td>13548</td>\n      <td>12637</td>\n    </tr>\n    <tr>\n      <th>13549</th>\n      <td>13549</td>\n      <td>12892</td>\n    </tr>\n    <tr>\n      <th>13550</th>\n      <td>13550</td>\n      <td>6253</td>\n    </tr>\n  </tbody>\n</table>\n<p>13551 rows × 2 columns</p>\n</div>"
     },
     "execution_count": 32,
     "metadata": {},
     "output_type": "execute_result"
    }
   ],
   "source": [
    "result_df"
   ],
   "metadata": {
    "collapsed": false,
    "ExecuteTime": {
     "end_time": "2023-07-19T08:14:41.747916100Z",
     "start_time": "2023-07-19T08:14:41.715909100Z"
    }
   }
  },
  {
   "cell_type": "code",
   "execution_count": 33,
   "outputs": [
    {
     "data": {
      "text/plain": "array([[    1,   824],\n       [    1,  3362],\n       [    1,  3541],\n       ...,\n       [13302, 13499],\n       [13331, 13499],\n       [13487, 13499]], dtype=int64)"
     },
     "execution_count": 33,
     "metadata": {},
     "output_type": "execute_result"
    }
   ],
   "source": [
    "result_gt_pcc"
   ],
   "metadata": {
    "collapsed": false,
    "ExecuteTime": {
     "end_time": "2023-07-19T08:32:13.354258700Z",
     "start_time": "2023-07-19T08:32:13.330252700Z"
    }
   }
  },
  {
   "cell_type": "code",
   "execution_count": 37,
   "outputs": [],
   "source": [
    "result_df['idx_min'] = result_df[['row', 'column']].min(axis=1)\n",
    "result_df['idx_max'] = result_df[['row', 'column']].max(axis=1)"
   ],
   "metadata": {
    "collapsed": false,
    "ExecuteTime": {
     "end_time": "2023-07-19T08:47:57.958857400Z",
     "start_time": "2023-07-19T08:47:57.940853500Z"
    }
   }
  },
  {
   "cell_type": "code",
   "execution_count": 38,
   "outputs": [
    {
     "data": {
      "text/plain": "         row  column  idx_min  idx_max\n0          0    8605        0     8605\n1          1    9160        1     9160\n2          2    6002        2     6002\n3          3   10148        3    10148\n4          4    8056        4     8056\n...      ...     ...      ...      ...\n13546  13546    2941     2941    13546\n13547  13547     924      924    13547\n13548  13548   12637    12637    13548\n13549  13549   12892    12892    13549\n13550  13550    6253     6253    13550\n\n[13551 rows x 4 columns]",
      "text/html": "<div>\n<style scoped>\n    .dataframe tbody tr th:only-of-type {\n        vertical-align: middle;\n    }\n\n    .dataframe tbody tr th {\n        vertical-align: top;\n    }\n\n    .dataframe thead th {\n        text-align: right;\n    }\n</style>\n<table border=\"1\" class=\"dataframe\">\n  <thead>\n    <tr style=\"text-align: right;\">\n      <th></th>\n      <th>row</th>\n      <th>column</th>\n      <th>idx_min</th>\n      <th>idx_max</th>\n    </tr>\n  </thead>\n  <tbody>\n    <tr>\n      <th>0</th>\n      <td>0</td>\n      <td>8605</td>\n      <td>0</td>\n      <td>8605</td>\n    </tr>\n    <tr>\n      <th>1</th>\n      <td>1</td>\n      <td>9160</td>\n      <td>1</td>\n      <td>9160</td>\n    </tr>\n    <tr>\n      <th>2</th>\n      <td>2</td>\n      <td>6002</td>\n      <td>2</td>\n      <td>6002</td>\n    </tr>\n    <tr>\n      <th>3</th>\n      <td>3</td>\n      <td>10148</td>\n      <td>3</td>\n      <td>10148</td>\n    </tr>\n    <tr>\n      <th>4</th>\n      <td>4</td>\n      <td>8056</td>\n      <td>4</td>\n      <td>8056</td>\n    </tr>\n    <tr>\n      <th>...</th>\n      <td>...</td>\n      <td>...</td>\n      <td>...</td>\n      <td>...</td>\n    </tr>\n    <tr>\n      <th>13546</th>\n      <td>13546</td>\n      <td>2941</td>\n      <td>2941</td>\n      <td>13546</td>\n    </tr>\n    <tr>\n      <th>13547</th>\n      <td>13547</td>\n      <td>924</td>\n      <td>924</td>\n      <td>13547</td>\n    </tr>\n    <tr>\n      <th>13548</th>\n      <td>13548</td>\n      <td>12637</td>\n      <td>12637</td>\n      <td>13548</td>\n    </tr>\n    <tr>\n      <th>13549</th>\n      <td>13549</td>\n      <td>12892</td>\n      <td>12892</td>\n      <td>13549</td>\n    </tr>\n    <tr>\n      <th>13550</th>\n      <td>13550</td>\n      <td>6253</td>\n      <td>6253</td>\n      <td>13550</td>\n    </tr>\n  </tbody>\n</table>\n<p>13551 rows × 4 columns</p>\n</div>"
     },
     "execution_count": 38,
     "metadata": {},
     "output_type": "execute_result"
    }
   ],
   "source": [
    "result_df"
   ],
   "metadata": {
    "collapsed": false,
    "ExecuteTime": {
     "end_time": "2023-07-19T08:47:58.459212200Z",
     "start_time": "2023-07-19T08:47:58.450210800Z"
    }
   }
  },
  {
   "cell_type": "code",
   "execution_count": 44,
   "outputs": [],
   "source": [
    "result_gt_pcc = pd.DataFrame(result_gt_pcc)"
   ],
   "metadata": {
    "collapsed": false,
    "ExecuteTime": {
     "end_time": "2023-07-19T09:05:16.658471600Z",
     "start_time": "2023-07-19T09:05:16.644467700Z"
    }
   }
  },
  {
   "cell_type": "code",
   "execution_count": 45,
   "outputs": [],
   "source": [
    "result_gt_pcc['idx_min'] = result_gt_pcc[[0, 1]].min(axis=1)\n",
    "result_gt_pcc['idx_max'] = result_gt_pcc[[0, 1]].max(axis=1)"
   ],
   "metadata": {
    "collapsed": false,
    "ExecuteTime": {
     "end_time": "2023-07-19T09:05:28.374741700Z",
     "start_time": "2023-07-19T09:05:28.348501100Z"
    }
   }
  },
  {
   "cell_type": "code",
   "execution_count": 46,
   "outputs": [
    {
     "data": {
      "text/plain": "           0      1  idx_min  idx_max\n0          1    824        1      824\n1          1   3362        1     3362\n2          1   3541        1     3541\n3          1   4012        1     4012\n4          1   5541        1     5541\n...      ...    ...      ...      ...\n20876  13302  13331    13302    13331\n20877  13302  13487    13302    13487\n20878  13302  13499    13302    13499\n20879  13331  13499    13331    13499\n20880  13487  13499    13487    13499\n\n[20881 rows x 4 columns]",
      "text/html": "<div>\n<style scoped>\n    .dataframe tbody tr th:only-of-type {\n        vertical-align: middle;\n    }\n\n    .dataframe tbody tr th {\n        vertical-align: top;\n    }\n\n    .dataframe thead th {\n        text-align: right;\n    }\n</style>\n<table border=\"1\" class=\"dataframe\">\n  <thead>\n    <tr style=\"text-align: right;\">\n      <th></th>\n      <th>0</th>\n      <th>1</th>\n      <th>idx_min</th>\n      <th>idx_max</th>\n    </tr>\n  </thead>\n  <tbody>\n    <tr>\n      <th>0</th>\n      <td>1</td>\n      <td>824</td>\n      <td>1</td>\n      <td>824</td>\n    </tr>\n    <tr>\n      <th>1</th>\n      <td>1</td>\n      <td>3362</td>\n      <td>1</td>\n      <td>3362</td>\n    </tr>\n    <tr>\n      <th>2</th>\n      <td>1</td>\n      <td>3541</td>\n      <td>1</td>\n      <td>3541</td>\n    </tr>\n    <tr>\n      <th>3</th>\n      <td>1</td>\n      <td>4012</td>\n      <td>1</td>\n      <td>4012</td>\n    </tr>\n    <tr>\n      <th>4</th>\n      <td>1</td>\n      <td>5541</td>\n      <td>1</td>\n      <td>5541</td>\n    </tr>\n    <tr>\n      <th>...</th>\n      <td>...</td>\n      <td>...</td>\n      <td>...</td>\n      <td>...</td>\n    </tr>\n    <tr>\n      <th>20876</th>\n      <td>13302</td>\n      <td>13331</td>\n      <td>13302</td>\n      <td>13331</td>\n    </tr>\n    <tr>\n      <th>20877</th>\n      <td>13302</td>\n      <td>13487</td>\n      <td>13302</td>\n      <td>13487</td>\n    </tr>\n    <tr>\n      <th>20878</th>\n      <td>13302</td>\n      <td>13499</td>\n      <td>13302</td>\n      <td>13499</td>\n    </tr>\n    <tr>\n      <th>20879</th>\n      <td>13331</td>\n      <td>13499</td>\n      <td>13331</td>\n      <td>13499</td>\n    </tr>\n    <tr>\n      <th>20880</th>\n      <td>13487</td>\n      <td>13499</td>\n      <td>13487</td>\n      <td>13499</td>\n    </tr>\n  </tbody>\n</table>\n<p>20881 rows × 4 columns</p>\n</div>"
     },
     "execution_count": 46,
     "metadata": {},
     "output_type": "execute_result"
    }
   ],
   "source": [
    "result_gt_pcc"
   ],
   "metadata": {
    "collapsed": false,
    "ExecuteTime": {
     "end_time": "2023-07-19T09:05:32.015532900Z",
     "start_time": "2023-07-19T09:05:31.996528300Z"
    }
   }
  },
  {
   "cell_type": "code",
   "execution_count": 49,
   "outputs": [],
   "source": [
    "pcc_df = pd.concat([result_df[['idx_min', 'idx_max']], result_gt_pcc[['idx_min', 'idx_max']]], axis=0)"
   ],
   "metadata": {
    "collapsed": false,
    "ExecuteTime": {
     "end_time": "2023-07-19T09:13:50.962503700Z",
     "start_time": "2023-07-19T09:13:50.937592Z"
    }
   }
  },
  {
   "cell_type": "code",
   "execution_count": 50,
   "outputs": [
    {
     "data": {
      "text/plain": "       idx_min  idx_max\n0            0     8605\n1            1     9160\n2            2     6002\n3            3    10148\n4            4     8056\n...        ...      ...\n20876    13302    13331\n20877    13302    13487\n20878    13302    13499\n20879    13331    13499\n20880    13487    13499\n\n[34432 rows x 2 columns]",
      "text/html": "<div>\n<style scoped>\n    .dataframe tbody tr th:only-of-type {\n        vertical-align: middle;\n    }\n\n    .dataframe tbody tr th {\n        vertical-align: top;\n    }\n\n    .dataframe thead th {\n        text-align: right;\n    }\n</style>\n<table border=\"1\" class=\"dataframe\">\n  <thead>\n    <tr style=\"text-align: right;\">\n      <th></th>\n      <th>idx_min</th>\n      <th>idx_max</th>\n    </tr>\n  </thead>\n  <tbody>\n    <tr>\n      <th>0</th>\n      <td>0</td>\n      <td>8605</td>\n    </tr>\n    <tr>\n      <th>1</th>\n      <td>1</td>\n      <td>9160</td>\n    </tr>\n    <tr>\n      <th>2</th>\n      <td>2</td>\n      <td>6002</td>\n    </tr>\n    <tr>\n      <th>3</th>\n      <td>3</td>\n      <td>10148</td>\n    </tr>\n    <tr>\n      <th>4</th>\n      <td>4</td>\n      <td>8056</td>\n    </tr>\n    <tr>\n      <th>...</th>\n      <td>...</td>\n      <td>...</td>\n    </tr>\n    <tr>\n      <th>20876</th>\n      <td>13302</td>\n      <td>13331</td>\n    </tr>\n    <tr>\n      <th>20877</th>\n      <td>13302</td>\n      <td>13487</td>\n    </tr>\n    <tr>\n      <th>20878</th>\n      <td>13302</td>\n      <td>13499</td>\n    </tr>\n    <tr>\n      <th>20879</th>\n      <td>13331</td>\n      <td>13499</td>\n    </tr>\n    <tr>\n      <th>20880</th>\n      <td>13487</td>\n      <td>13499</td>\n    </tr>\n  </tbody>\n</table>\n<p>34432 rows × 2 columns</p>\n</div>"
     },
     "execution_count": 50,
     "metadata": {},
     "output_type": "execute_result"
    }
   ],
   "source": [
    "pcc_df"
   ],
   "metadata": {
    "collapsed": false,
    "ExecuteTime": {
     "end_time": "2023-07-19T09:13:51.888279700Z",
     "start_time": "2023-07-19T09:13:51.876297900Z"
    }
   }
  },
  {
   "cell_type": "code",
   "execution_count": 55,
   "outputs": [],
   "source": [
    "# 根据两列的值对DataFrame进行排序\n",
    "pcc_df = pcc_df.sort_values(by=['idx_min', 'idx_max'])"
   ],
   "metadata": {
    "collapsed": false,
    "ExecuteTime": {
     "end_time": "2023-07-19T09:18:22.523114300Z",
     "start_time": "2023-07-19T09:18:22.494106900Z"
    }
   }
  },
  {
   "cell_type": "code",
   "execution_count": 56,
   "outputs": [
    {
     "data": {
      "text/plain": "       idx_min  idx_max\n1375         0     1375\n3191         0     3191\n5010         0     5010\n0            0     8605\n0            1      824\n...        ...      ...\n13448    13448    13524\n13463    13463    13547\n13479    13479    13495\n20880    13487    13499\n13532    13531    13532\n\n[34432 rows x 2 columns]",
      "text/html": "<div>\n<style scoped>\n    .dataframe tbody tr th:only-of-type {\n        vertical-align: middle;\n    }\n\n    .dataframe tbody tr th {\n        vertical-align: top;\n    }\n\n    .dataframe thead th {\n        text-align: right;\n    }\n</style>\n<table border=\"1\" class=\"dataframe\">\n  <thead>\n    <tr style=\"text-align: right;\">\n      <th></th>\n      <th>idx_min</th>\n      <th>idx_max</th>\n    </tr>\n  </thead>\n  <tbody>\n    <tr>\n      <th>1375</th>\n      <td>0</td>\n      <td>1375</td>\n    </tr>\n    <tr>\n      <th>3191</th>\n      <td>0</td>\n      <td>3191</td>\n    </tr>\n    <tr>\n      <th>5010</th>\n      <td>0</td>\n      <td>5010</td>\n    </tr>\n    <tr>\n      <th>0</th>\n      <td>0</td>\n      <td>8605</td>\n    </tr>\n    <tr>\n      <th>0</th>\n      <td>1</td>\n      <td>824</td>\n    </tr>\n    <tr>\n      <th>...</th>\n      <td>...</td>\n      <td>...</td>\n    </tr>\n    <tr>\n      <th>13448</th>\n      <td>13448</td>\n      <td>13524</td>\n    </tr>\n    <tr>\n      <th>13463</th>\n      <td>13463</td>\n      <td>13547</td>\n    </tr>\n    <tr>\n      <th>13479</th>\n      <td>13479</td>\n      <td>13495</td>\n    </tr>\n    <tr>\n      <th>20880</th>\n      <td>13487</td>\n      <td>13499</td>\n    </tr>\n    <tr>\n      <th>13532</th>\n      <td>13531</td>\n      <td>13532</td>\n    </tr>\n  </tbody>\n</table>\n<p>34432 rows × 2 columns</p>\n</div>"
     },
     "execution_count": 56,
     "metadata": {},
     "output_type": "execute_result"
    }
   ],
   "source": [
    "pcc_df"
   ],
   "metadata": {
    "collapsed": false,
    "ExecuteTime": {
     "end_time": "2023-07-19T09:18:26.202219400Z",
     "start_time": "2023-07-19T09:18:26.186919800Z"
    }
   }
  },
  {
   "cell_type": "code",
   "execution_count": 59,
   "outputs": [],
   "source": [
    "pcc_df_drop = pcc_df.drop_duplicates()"
   ],
   "metadata": {
    "collapsed": false,
    "ExecuteTime": {
     "end_time": "2023-07-19T09:34:03.955294400Z",
     "start_time": "2023-07-19T09:34:03.937290800Z"
    }
   }
  },
  {
   "cell_type": "code",
   "execution_count": 60,
   "outputs": [
    {
     "data": {
      "text/plain": "       idx_min  idx_max\n1375         0     1375\n3191         0     3191\n5010         0     5010\n0            0     8605\n0            1      824\n...        ...      ...\n13448    13448    13524\n13463    13463    13547\n13479    13479    13495\n20880    13487    13499\n13532    13531    13532\n\n[33007 rows x 2 columns]",
      "text/html": "<div>\n<style scoped>\n    .dataframe tbody tr th:only-of-type {\n        vertical-align: middle;\n    }\n\n    .dataframe tbody tr th {\n        vertical-align: top;\n    }\n\n    .dataframe thead th {\n        text-align: right;\n    }\n</style>\n<table border=\"1\" class=\"dataframe\">\n  <thead>\n    <tr style=\"text-align: right;\">\n      <th></th>\n      <th>idx_min</th>\n      <th>idx_max</th>\n    </tr>\n  </thead>\n  <tbody>\n    <tr>\n      <th>1375</th>\n      <td>0</td>\n      <td>1375</td>\n    </tr>\n    <tr>\n      <th>3191</th>\n      <td>0</td>\n      <td>3191</td>\n    </tr>\n    <tr>\n      <th>5010</th>\n      <td>0</td>\n      <td>5010</td>\n    </tr>\n    <tr>\n      <th>0</th>\n      <td>0</td>\n      <td>8605</td>\n    </tr>\n    <tr>\n      <th>0</th>\n      <td>1</td>\n      <td>824</td>\n    </tr>\n    <tr>\n      <th>...</th>\n      <td>...</td>\n      <td>...</td>\n    </tr>\n    <tr>\n      <th>13448</th>\n      <td>13448</td>\n      <td>13524</td>\n    </tr>\n    <tr>\n      <th>13463</th>\n      <td>13463</td>\n      <td>13547</td>\n    </tr>\n    <tr>\n      <th>13479</th>\n      <td>13479</td>\n      <td>13495</td>\n    </tr>\n    <tr>\n      <th>20880</th>\n      <td>13487</td>\n      <td>13499</td>\n    </tr>\n    <tr>\n      <th>13532</th>\n      <td>13531</td>\n      <td>13532</td>\n    </tr>\n  </tbody>\n</table>\n<p>33007 rows × 2 columns</p>\n</div>"
     },
     "execution_count": 60,
     "metadata": {},
     "output_type": "execute_result"
    }
   ],
   "source": [
    "pcc_df_drop"
   ],
   "metadata": {
    "collapsed": false,
    "ExecuteTime": {
     "end_time": "2023-07-19T09:34:11.879986200Z",
     "start_time": "2023-07-19T09:34:11.866984300Z"
    }
   }
  },
  {
   "cell_type": "code",
   "execution_count": 58,
   "outputs": [],
   "source": [
    "import anndata"
   ],
   "metadata": {
    "collapsed": false,
    "ExecuteTime": {
     "end_time": "2023-07-19T09:32:43.987703Z",
     "start_time": "2023-07-19T09:32:43.971699700Z"
    }
   }
  },
  {
   "cell_type": "code",
   "execution_count": 61,
   "outputs": [
    {
     "name": "stderr",
     "output_type": "stream",
     "text": [
      "C:\\Users\\25363\\anaconda3\\envs\\scVI\\lib\\site-packages\\anndata\\_core\\anndata.py:117: ImplicitModificationWarning: Transforming to str index.\n",
      "  warnings.warn(\"Transforming to str index.\", ImplicitModificationWarning)\n",
      "C:\\Users\\25363\\anaconda3\\envs\\scVI\\lib\\site-packages\\anndata\\_core\\anndata.py:1830: UserWarning: Observation names are not unique. To make them unique, call `.obs_names_make_unique`.\n",
      "  utils.warn_names_duplicates(\"obs\")\n"
     ]
    }
   ],
   "source": [
    "adata_pcc = anndata.AnnData(pcc_df_drop)"
   ],
   "metadata": {
    "collapsed": false,
    "ExecuteTime": {
     "end_time": "2023-07-19T09:34:19.299401100Z",
     "start_time": "2023-07-19T09:34:19.237387700Z"
    }
   }
  },
  {
   "cell_type": "code",
   "execution_count": 63,
   "outputs": [
    {
     "data": {
      "text/plain": "array([[    0,  1375],\n       [    0,  3191],\n       [    0,  5010],\n       ...,\n       [13479, 13495],\n       [13487, 13499],\n       [13531, 13532]], dtype=int64)"
     },
     "execution_count": 63,
     "metadata": {},
     "output_type": "execute_result"
    }
   ],
   "source": [
    "adata_pcc.X"
   ],
   "metadata": {
    "collapsed": false,
    "ExecuteTime": {
     "end_time": "2023-07-19T09:34:26.830469Z",
     "start_time": "2023-07-19T09:34:26.820466900Z"
    }
   }
  },
  {
   "cell_type": "code",
   "execution_count": 64,
   "outputs": [],
   "source": [
    "adata_pcc.write_h5ad('data-processing/gene-couple-human-13551-dim-norm.h5ad')"
   ],
   "metadata": {
    "collapsed": false,
    "ExecuteTime": {
     "end_time": "2023-07-19T09:36:18.288144700Z",
     "start_time": "2023-07-19T09:36:18.225130600Z"
    }
   }
  },
  {
   "cell_type": "code",
   "execution_count": 65,
   "outputs": [
    {
     "name": "stderr",
     "output_type": "stream",
     "text": [
      "C:\\Users\\25363\\anaconda3\\envs\\scVI\\lib\\site-packages\\anndata\\_core\\anndata.py:1830: UserWarning: Observation names are not unique. To make them unique, call `.obs_names_make_unique`.\n",
      "  utils.warn_names_duplicates(\"obs\")\n"
     ]
    }
   ],
   "source": [
    "adata1 = anndata.read_h5ad('data-processing/gene-couple-human-13551-dim-norm.h5ad')"
   ],
   "metadata": {
    "collapsed": false,
    "ExecuteTime": {
     "end_time": "2023-07-19T09:36:59.169329600Z",
     "start_time": "2023-07-19T09:36:59.129320800Z"
    }
   }
  },
  {
   "cell_type": "code",
   "execution_count": 67,
   "outputs": [
    {
     "data": {
      "text/plain": "array([[    0,  1375],\n       [    0,  3191],\n       [    0,  5010],\n       ...,\n       [13479, 13495],\n       [13487, 13499],\n       [13531, 13532]], dtype=int64)"
     },
     "execution_count": 67,
     "metadata": {},
     "output_type": "execute_result"
    }
   ],
   "source": [
    "adata1.X"
   ],
   "metadata": {
    "collapsed": false,
    "ExecuteTime": {
     "end_time": "2023-07-19T09:37:05.219120400Z",
     "start_time": "2023-07-19T09:37:05.188114100Z"
    }
   }
  },
  {
   "cell_type": "code",
   "execution_count": 68,
   "outputs": [],
   "source": [
    "adata2 = anndata.read_h5ad('data-processing/integrated-no-filtration-human.h5ad')"
   ],
   "metadata": {
    "collapsed": false,
    "ExecuteTime": {
     "end_time": "2023-07-19T09:41:42.939076400Z",
     "start_time": "2023-07-19T09:41:41.262207900Z"
    }
   }
  },
  {
   "cell_type": "code",
   "execution_count": 73,
   "outputs": [
    {
     "data": {
      "text/plain": "Index(['A1BG', 'A1CF', 'A2M', 'A4GALT', 'AAAS', 'AACS', 'AADAC', 'AADAT',\n       'AAED1', 'AAGAB',\n       ...\n       'ZW10', 'ZWILCH', 'ZXDA', 'ZXDB', 'ZXDC', 'ZYG11B', 'ZYX', 'ZZEF1',\n       'ZZZ3', 'pk'],\n      dtype='object', length=13551)"
     },
     "execution_count": 73,
     "metadata": {},
     "output_type": "execute_result"
    }
   ],
   "source": [
    "adata2.var.index"
   ],
   "metadata": {
    "collapsed": false,
    "ExecuteTime": {
     "end_time": "2023-07-19T09:42:11.424652200Z",
     "start_time": "2023-07-19T09:42:11.409096200Z"
    }
   }
  },
  {
   "cell_type": "code",
   "execution_count": 88,
   "outputs": [],
   "source": [
    "list = adata2.var.index"
   ],
   "metadata": {
    "collapsed": false,
    "ExecuteTime": {
     "end_time": "2023-07-19T09:48:21.305471200Z",
     "start_time": "2023-07-19T09:48:21.278465Z"
    }
   }
  },
  {
   "cell_type": "code",
   "execution_count": 89,
   "outputs": [
    {
     "data": {
      "text/plain": "Index(['A1BG', 'A1CF', 'A2M', 'A4GALT', 'AAAS', 'AACS', 'AADAC', 'AADAT',\n       'AAED1', 'AAGAB',\n       ...\n       'ZW10', 'ZWILCH', 'ZXDA', 'ZXDB', 'ZXDC', 'ZYG11B', 'ZYX', 'ZZEF1',\n       'ZZZ3', 'pk'],\n      dtype='object', length=13551)"
     },
     "execution_count": 89,
     "metadata": {},
     "output_type": "execute_result"
    }
   ],
   "source": [
    "list"
   ],
   "metadata": {
    "collapsed": false,
    "ExecuteTime": {
     "end_time": "2023-07-19T09:48:25.391152400Z",
     "start_time": "2023-07-19T09:48:25.388152200Z"
    }
   }
  },
  {
   "cell_type": "code",
   "execution_count": 84,
   "outputs": [],
   "source": [
    "df_idx = adata1.to_df()"
   ],
   "metadata": {
    "collapsed": false,
    "ExecuteTime": {
     "end_time": "2023-07-19T09:46:12.732059200Z",
     "start_time": "2023-07-19T09:46:12.685048900Z"
    }
   }
  },
  {
   "cell_type": "code",
   "execution_count": 85,
   "outputs": [
    {
     "data": {
      "text/plain": "       idx_min  idx_max\n1375         0     1375\n3191         0     3191\n5010         0     5010\n0            0     8605\n0            1      824\n...        ...      ...\n13448    13448    13524\n13463    13463    13547\n13479    13479    13495\n20880    13487    13499\n13532    13531    13532\n\n[33007 rows x 2 columns]",
      "text/html": "<div>\n<style scoped>\n    .dataframe tbody tr th:only-of-type {\n        vertical-align: middle;\n    }\n\n    .dataframe tbody tr th {\n        vertical-align: top;\n    }\n\n    .dataframe thead th {\n        text-align: right;\n    }\n</style>\n<table border=\"1\" class=\"dataframe\">\n  <thead>\n    <tr style=\"text-align: right;\">\n      <th></th>\n      <th>idx_min</th>\n      <th>idx_max</th>\n    </tr>\n  </thead>\n  <tbody>\n    <tr>\n      <th>1375</th>\n      <td>0</td>\n      <td>1375</td>\n    </tr>\n    <tr>\n      <th>3191</th>\n      <td>0</td>\n      <td>3191</td>\n    </tr>\n    <tr>\n      <th>5010</th>\n      <td>0</td>\n      <td>5010</td>\n    </tr>\n    <tr>\n      <th>0</th>\n      <td>0</td>\n      <td>8605</td>\n    </tr>\n    <tr>\n      <th>0</th>\n      <td>1</td>\n      <td>824</td>\n    </tr>\n    <tr>\n      <th>...</th>\n      <td>...</td>\n      <td>...</td>\n    </tr>\n    <tr>\n      <th>13448</th>\n      <td>13448</td>\n      <td>13524</td>\n    </tr>\n    <tr>\n      <th>13463</th>\n      <td>13463</td>\n      <td>13547</td>\n    </tr>\n    <tr>\n      <th>13479</th>\n      <td>13479</td>\n      <td>13495</td>\n    </tr>\n    <tr>\n      <th>20880</th>\n      <td>13487</td>\n      <td>13499</td>\n    </tr>\n    <tr>\n      <th>13532</th>\n      <td>13531</td>\n      <td>13532</td>\n    </tr>\n  </tbody>\n</table>\n<p>33007 rows × 2 columns</p>\n</div>"
     },
     "execution_count": 85,
     "metadata": {},
     "output_type": "execute_result"
    }
   ],
   "source": [
    "df_idx"
   ],
   "metadata": {
    "collapsed": false,
    "ExecuteTime": {
     "end_time": "2023-07-19T09:46:15.077523Z",
     "start_time": "2023-07-19T09:46:15.049517100Z"
    }
   }
  },
  {
   "cell_type": "code",
   "execution_count": 86,
   "outputs": [],
   "source": [
    "df_idx = df_idx.reset_index(drop=True)"
   ],
   "metadata": {
    "collapsed": false,
    "ExecuteTime": {
     "end_time": "2023-07-19T09:47:56.067181300Z",
     "start_time": "2023-07-19T09:47:56.046176800Z"
    }
   }
  },
  {
   "cell_type": "code",
   "execution_count": 87,
   "outputs": [
    {
     "data": {
      "text/plain": "       idx_min  idx_max\n0            0     1375\n1            0     3191\n2            0     5010\n3            0     8605\n4            1      824\n...        ...      ...\n33002    13448    13524\n33003    13463    13547\n33004    13479    13495\n33005    13487    13499\n33006    13531    13532\n\n[33007 rows x 2 columns]",
      "text/html": "<div>\n<style scoped>\n    .dataframe tbody tr th:only-of-type {\n        vertical-align: middle;\n    }\n\n    .dataframe tbody tr th {\n        vertical-align: top;\n    }\n\n    .dataframe thead th {\n        text-align: right;\n    }\n</style>\n<table border=\"1\" class=\"dataframe\">\n  <thead>\n    <tr style=\"text-align: right;\">\n      <th></th>\n      <th>idx_min</th>\n      <th>idx_max</th>\n    </tr>\n  </thead>\n  <tbody>\n    <tr>\n      <th>0</th>\n      <td>0</td>\n      <td>1375</td>\n    </tr>\n    <tr>\n      <th>1</th>\n      <td>0</td>\n      <td>3191</td>\n    </tr>\n    <tr>\n      <th>2</th>\n      <td>0</td>\n      <td>5010</td>\n    </tr>\n    <tr>\n      <th>3</th>\n      <td>0</td>\n      <td>8605</td>\n    </tr>\n    <tr>\n      <th>4</th>\n      <td>1</td>\n      <td>824</td>\n    </tr>\n    <tr>\n      <th>...</th>\n      <td>...</td>\n      <td>...</td>\n    </tr>\n    <tr>\n      <th>33002</th>\n      <td>13448</td>\n      <td>13524</td>\n    </tr>\n    <tr>\n      <th>33003</th>\n      <td>13463</td>\n      <td>13547</td>\n    </tr>\n    <tr>\n      <th>33004</th>\n      <td>13479</td>\n      <td>13495</td>\n    </tr>\n    <tr>\n      <th>33005</th>\n      <td>13487</td>\n      <td>13499</td>\n    </tr>\n    <tr>\n      <th>33006</th>\n      <td>13531</td>\n      <td>13532</td>\n    </tr>\n  </tbody>\n</table>\n<p>33007 rows × 2 columns</p>\n</div>"
     },
     "execution_count": 87,
     "metadata": {},
     "output_type": "execute_result"
    }
   ],
   "source": [
    "df_idx"
   ],
   "metadata": {
    "collapsed": false,
    "ExecuteTime": {
     "end_time": "2023-07-19T09:47:58.018240700Z",
     "start_time": "2023-07-19T09:47:57.985810100Z"
    }
   }
  },
  {
   "cell_type": "code",
   "execution_count": 95,
   "outputs": [],
   "source": [
    "df_idx['idx_min_gene'] = list[df_idx['idx_min'][:]]\n",
    "df_idx['idx_max_gene'] = list[df_idx['idx_max'][:]]"
   ],
   "metadata": {
    "collapsed": false,
    "ExecuteTime": {
     "end_time": "2023-07-19T09:51:45.861533500Z",
     "start_time": "2023-07-19T09:51:45.844529700Z"
    }
   }
  },
  {
   "cell_type": "code",
   "execution_count": 96,
   "outputs": [
    {
     "data": {
      "text/plain": "       idx_min  idx_max idx_min_gene idx_max_gene\n0            0     1375         A1BG     C17orf67\n1            0     3191         A1BG        DOC2B\n2            0     5010         A1BG         HES6\n3            0     8605         A1BG         PON3\n4            1      824         A1CF          ARX\n...        ...      ...          ...          ...\n33002    13448    13524        ZNF77      ZSCAN21\n33003    13463    13547       ZNF787          ZYX\n33004    13479    13495       ZNF829       ZNF883\n33005    13487    13499       ZNF841        ZNF92\n33006    13531    13532      ZSCAN32      ZSCAN5A\n\n[33007 rows x 4 columns]",
      "text/html": "<div>\n<style scoped>\n    .dataframe tbody tr th:only-of-type {\n        vertical-align: middle;\n    }\n\n    .dataframe tbody tr th {\n        vertical-align: top;\n    }\n\n    .dataframe thead th {\n        text-align: right;\n    }\n</style>\n<table border=\"1\" class=\"dataframe\">\n  <thead>\n    <tr style=\"text-align: right;\">\n      <th></th>\n      <th>idx_min</th>\n      <th>idx_max</th>\n      <th>idx_min_gene</th>\n      <th>idx_max_gene</th>\n    </tr>\n  </thead>\n  <tbody>\n    <tr>\n      <th>0</th>\n      <td>0</td>\n      <td>1375</td>\n      <td>A1BG</td>\n      <td>C17orf67</td>\n    </tr>\n    <tr>\n      <th>1</th>\n      <td>0</td>\n      <td>3191</td>\n      <td>A1BG</td>\n      <td>DOC2B</td>\n    </tr>\n    <tr>\n      <th>2</th>\n      <td>0</td>\n      <td>5010</td>\n      <td>A1BG</td>\n      <td>HES6</td>\n    </tr>\n    <tr>\n      <th>3</th>\n      <td>0</td>\n      <td>8605</td>\n      <td>A1BG</td>\n      <td>PON3</td>\n    </tr>\n    <tr>\n      <th>4</th>\n      <td>1</td>\n      <td>824</td>\n      <td>A1CF</td>\n      <td>ARX</td>\n    </tr>\n    <tr>\n      <th>...</th>\n      <td>...</td>\n      <td>...</td>\n      <td>...</td>\n      <td>...</td>\n    </tr>\n    <tr>\n      <th>33002</th>\n      <td>13448</td>\n      <td>13524</td>\n      <td>ZNF77</td>\n      <td>ZSCAN21</td>\n    </tr>\n    <tr>\n      <th>33003</th>\n      <td>13463</td>\n      <td>13547</td>\n      <td>ZNF787</td>\n      <td>ZYX</td>\n    </tr>\n    <tr>\n      <th>33004</th>\n      <td>13479</td>\n      <td>13495</td>\n      <td>ZNF829</td>\n      <td>ZNF883</td>\n    </tr>\n    <tr>\n      <th>33005</th>\n      <td>13487</td>\n      <td>13499</td>\n      <td>ZNF841</td>\n      <td>ZNF92</td>\n    </tr>\n    <tr>\n      <th>33006</th>\n      <td>13531</td>\n      <td>13532</td>\n      <td>ZSCAN32</td>\n      <td>ZSCAN5A</td>\n    </tr>\n  </tbody>\n</table>\n<p>33007 rows × 4 columns</p>\n</div>"
     },
     "execution_count": 96,
     "metadata": {},
     "output_type": "execute_result"
    }
   ],
   "source": [
    "df_idx"
   ],
   "metadata": {
    "collapsed": false,
    "ExecuteTime": {
     "end_time": "2023-07-19T09:51:48.930518400Z",
     "start_time": "2023-07-19T09:51:48.899511800Z"
    }
   }
  },
  {
   "cell_type": "code",
   "execution_count": 97,
   "outputs": [],
   "source": [
    "df_idx['gene_couple'] = df_idx['idx_min_gene'] + ' ' + df_idx['idx_max_gene']"
   ],
   "metadata": {
    "collapsed": false,
    "ExecuteTime": {
     "end_time": "2023-07-19T10:55:19.684485500Z",
     "start_time": "2023-07-19T10:55:19.651478100Z"
    }
   }
  },
  {
   "cell_type": "code",
   "execution_count": 98,
   "outputs": [
    {
     "data": {
      "text/plain": "       idx_min  idx_max idx_min_gene idx_max_gene      gene_couple\n0            0     1375         A1BG     C17orf67    A1BG C17orf67\n1            0     3191         A1BG        DOC2B       A1BG DOC2B\n2            0     5010         A1BG         HES6        A1BG HES6\n3            0     8605         A1BG         PON3        A1BG PON3\n4            1      824         A1CF          ARX         A1CF ARX\n...        ...      ...          ...          ...              ...\n33002    13448    13524        ZNF77      ZSCAN21    ZNF77 ZSCAN21\n33003    13463    13547       ZNF787          ZYX       ZNF787 ZYX\n33004    13479    13495       ZNF829       ZNF883    ZNF829 ZNF883\n33005    13487    13499       ZNF841        ZNF92     ZNF841 ZNF92\n33006    13531    13532      ZSCAN32      ZSCAN5A  ZSCAN32 ZSCAN5A\n\n[33007 rows x 5 columns]",
      "text/html": "<div>\n<style scoped>\n    .dataframe tbody tr th:only-of-type {\n        vertical-align: middle;\n    }\n\n    .dataframe tbody tr th {\n        vertical-align: top;\n    }\n\n    .dataframe thead th {\n        text-align: right;\n    }\n</style>\n<table border=\"1\" class=\"dataframe\">\n  <thead>\n    <tr style=\"text-align: right;\">\n      <th></th>\n      <th>idx_min</th>\n      <th>idx_max</th>\n      <th>idx_min_gene</th>\n      <th>idx_max_gene</th>\n      <th>gene_couple</th>\n    </tr>\n  </thead>\n  <tbody>\n    <tr>\n      <th>0</th>\n      <td>0</td>\n      <td>1375</td>\n      <td>A1BG</td>\n      <td>C17orf67</td>\n      <td>A1BG C17orf67</td>\n    </tr>\n    <tr>\n      <th>1</th>\n      <td>0</td>\n      <td>3191</td>\n      <td>A1BG</td>\n      <td>DOC2B</td>\n      <td>A1BG DOC2B</td>\n    </tr>\n    <tr>\n      <th>2</th>\n      <td>0</td>\n      <td>5010</td>\n      <td>A1BG</td>\n      <td>HES6</td>\n      <td>A1BG HES6</td>\n    </tr>\n    <tr>\n      <th>3</th>\n      <td>0</td>\n      <td>8605</td>\n      <td>A1BG</td>\n      <td>PON3</td>\n      <td>A1BG PON3</td>\n    </tr>\n    <tr>\n      <th>4</th>\n      <td>1</td>\n      <td>824</td>\n      <td>A1CF</td>\n      <td>ARX</td>\n      <td>A1CF ARX</td>\n    </tr>\n    <tr>\n      <th>...</th>\n      <td>...</td>\n      <td>...</td>\n      <td>...</td>\n      <td>...</td>\n      <td>...</td>\n    </tr>\n    <tr>\n      <th>33002</th>\n      <td>13448</td>\n      <td>13524</td>\n      <td>ZNF77</td>\n      <td>ZSCAN21</td>\n      <td>ZNF77 ZSCAN21</td>\n    </tr>\n    <tr>\n      <th>33003</th>\n      <td>13463</td>\n      <td>13547</td>\n      <td>ZNF787</td>\n      <td>ZYX</td>\n      <td>ZNF787 ZYX</td>\n    </tr>\n    <tr>\n      <th>33004</th>\n      <td>13479</td>\n      <td>13495</td>\n      <td>ZNF829</td>\n      <td>ZNF883</td>\n      <td>ZNF829 ZNF883</td>\n    </tr>\n    <tr>\n      <th>33005</th>\n      <td>13487</td>\n      <td>13499</td>\n      <td>ZNF841</td>\n      <td>ZNF92</td>\n      <td>ZNF841 ZNF92</td>\n    </tr>\n    <tr>\n      <th>33006</th>\n      <td>13531</td>\n      <td>13532</td>\n      <td>ZSCAN32</td>\n      <td>ZSCAN5A</td>\n      <td>ZSCAN32 ZSCAN5A</td>\n    </tr>\n  </tbody>\n</table>\n<p>33007 rows × 5 columns</p>\n</div>"
     },
     "execution_count": 98,
     "metadata": {},
     "output_type": "execute_result"
    }
   ],
   "source": [
    "df_idx"
   ],
   "metadata": {
    "collapsed": false,
    "ExecuteTime": {
     "end_time": "2023-07-19T10:55:21.507044Z",
     "start_time": "2023-07-19T10:55:21.458389200Z"
    }
   }
  },
  {
   "cell_type": "code",
   "execution_count": 101,
   "outputs": [],
   "source": [
    "df_idx['gene_couple'].to_csv('data-processing/gene-couple-human-13551-dim-norm.txt', index=False, header=False)"
   ],
   "metadata": {
    "collapsed": false,
    "ExecuteTime": {
     "end_time": "2023-07-19T11:09:51.492251800Z",
     "start_time": "2023-07-19T11:09:51.436617700Z"
    }
   }
  },
  {
   "cell_type": "code",
   "execution_count": 102,
   "outputs": [],
   "source": [
    "df_idx.to_csv('data-processing/gene-couple-human-13551-dim-norm.csv')"
   ],
   "metadata": {
    "collapsed": false,
    "ExecuteTime": {
     "end_time": "2023-07-19T11:13:58.601794200Z",
     "start_time": "2023-07-19T11:13:58.526776900Z"
    }
   }
  },
  {
   "cell_type": "code",
   "execution_count": 3,
   "outputs": [],
   "source": [
    "df_idx = pd.read_csv('data-processing/gene-couple-human-13551-dim-norm.csv', index_col=0, header=0)"
   ],
   "metadata": {
    "collapsed": false,
    "ExecuteTime": {
     "end_time": "2023-07-20T15:03:46.013323600Z",
     "start_time": "2023-07-20T15:03:45.971211800Z"
    }
   }
  },
  {
   "cell_type": "code",
   "execution_count": 4,
   "outputs": [
    {
     "data": {
      "text/plain": "       idx_min  idx_max idx_min_gene idx_max_gene      gene_couple\n0            0     1375         A1BG     C17orf67    A1BG C17orf67\n1            0     3191         A1BG        DOC2B       A1BG DOC2B\n2            0     5010         A1BG         HES6        A1BG HES6\n3            0     8605         A1BG         PON3        A1BG PON3\n4            1      824         A1CF          ARX         A1CF ARX\n...        ...      ...          ...          ...              ...\n33002    13448    13524        ZNF77      ZSCAN21    ZNF77 ZSCAN21\n33003    13463    13547       ZNF787          ZYX       ZNF787 ZYX\n33004    13479    13495       ZNF829       ZNF883    ZNF829 ZNF883\n33005    13487    13499       ZNF841        ZNF92     ZNF841 ZNF92\n33006    13531    13532      ZSCAN32      ZSCAN5A  ZSCAN32 ZSCAN5A\n\n[33007 rows x 5 columns]",
      "text/html": "<div>\n<style scoped>\n    .dataframe tbody tr th:only-of-type {\n        vertical-align: middle;\n    }\n\n    .dataframe tbody tr th {\n        vertical-align: top;\n    }\n\n    .dataframe thead th {\n        text-align: right;\n    }\n</style>\n<table border=\"1\" class=\"dataframe\">\n  <thead>\n    <tr style=\"text-align: right;\">\n      <th></th>\n      <th>idx_min</th>\n      <th>idx_max</th>\n      <th>idx_min_gene</th>\n      <th>idx_max_gene</th>\n      <th>gene_couple</th>\n    </tr>\n  </thead>\n  <tbody>\n    <tr>\n      <th>0</th>\n      <td>0</td>\n      <td>1375</td>\n      <td>A1BG</td>\n      <td>C17orf67</td>\n      <td>A1BG C17orf67</td>\n    </tr>\n    <tr>\n      <th>1</th>\n      <td>0</td>\n      <td>3191</td>\n      <td>A1BG</td>\n      <td>DOC2B</td>\n      <td>A1BG DOC2B</td>\n    </tr>\n    <tr>\n      <th>2</th>\n      <td>0</td>\n      <td>5010</td>\n      <td>A1BG</td>\n      <td>HES6</td>\n      <td>A1BG HES6</td>\n    </tr>\n    <tr>\n      <th>3</th>\n      <td>0</td>\n      <td>8605</td>\n      <td>A1BG</td>\n      <td>PON3</td>\n      <td>A1BG PON3</td>\n    </tr>\n    <tr>\n      <th>4</th>\n      <td>1</td>\n      <td>824</td>\n      <td>A1CF</td>\n      <td>ARX</td>\n      <td>A1CF ARX</td>\n    </tr>\n    <tr>\n      <th>...</th>\n      <td>...</td>\n      <td>...</td>\n      <td>...</td>\n      <td>...</td>\n      <td>...</td>\n    </tr>\n    <tr>\n      <th>33002</th>\n      <td>13448</td>\n      <td>13524</td>\n      <td>ZNF77</td>\n      <td>ZSCAN21</td>\n      <td>ZNF77 ZSCAN21</td>\n    </tr>\n    <tr>\n      <th>33003</th>\n      <td>13463</td>\n      <td>13547</td>\n      <td>ZNF787</td>\n      <td>ZYX</td>\n      <td>ZNF787 ZYX</td>\n    </tr>\n    <tr>\n      <th>33004</th>\n      <td>13479</td>\n      <td>13495</td>\n      <td>ZNF829</td>\n      <td>ZNF883</td>\n      <td>ZNF829 ZNF883</td>\n    </tr>\n    <tr>\n      <th>33005</th>\n      <td>13487</td>\n      <td>13499</td>\n      <td>ZNF841</td>\n      <td>ZNF92</td>\n      <td>ZNF841 ZNF92</td>\n    </tr>\n    <tr>\n      <th>33006</th>\n      <td>13531</td>\n      <td>13532</td>\n      <td>ZSCAN32</td>\n      <td>ZSCAN5A</td>\n      <td>ZSCAN32 ZSCAN5A</td>\n    </tr>\n  </tbody>\n</table>\n<p>33007 rows × 5 columns</p>\n</div>"
     },
     "execution_count": 4,
     "metadata": {},
     "output_type": "execute_result"
    }
   ],
   "source": [
    "df_idx"
   ],
   "metadata": {
    "collapsed": false,
    "ExecuteTime": {
     "end_time": "2023-07-20T15:03:48.406523800Z",
     "start_time": "2023-07-20T15:03:48.386484200Z"
    }
   }
  },
  {
   "cell_type": "code",
   "execution_count": 5,
   "outputs": [],
   "source": [
    "df_idx = df_idx.rename(columns={'gene_couple': 'gene_couple_1'})"
   ],
   "metadata": {
    "collapsed": false,
    "ExecuteTime": {
     "end_time": "2023-07-20T15:04:35.843620700Z",
     "start_time": "2023-07-20T15:04:35.811989600Z"
    }
   }
  },
  {
   "cell_type": "code",
   "execution_count": 6,
   "outputs": [
    {
     "data": {
      "text/plain": "       idx_min  idx_max idx_min_gene idx_max_gene    gene_couple_1\n0            0     1375         A1BG     C17orf67    A1BG C17orf67\n1            0     3191         A1BG        DOC2B       A1BG DOC2B\n2            0     5010         A1BG         HES6        A1BG HES6\n3            0     8605         A1BG         PON3        A1BG PON3\n4            1      824         A1CF          ARX         A1CF ARX\n...        ...      ...          ...          ...              ...\n33002    13448    13524        ZNF77      ZSCAN21    ZNF77 ZSCAN21\n33003    13463    13547       ZNF787          ZYX       ZNF787 ZYX\n33004    13479    13495       ZNF829       ZNF883    ZNF829 ZNF883\n33005    13487    13499       ZNF841        ZNF92     ZNF841 ZNF92\n33006    13531    13532      ZSCAN32      ZSCAN5A  ZSCAN32 ZSCAN5A\n\n[33007 rows x 5 columns]",
      "text/html": "<div>\n<style scoped>\n    .dataframe tbody tr th:only-of-type {\n        vertical-align: middle;\n    }\n\n    .dataframe tbody tr th {\n        vertical-align: top;\n    }\n\n    .dataframe thead th {\n        text-align: right;\n    }\n</style>\n<table border=\"1\" class=\"dataframe\">\n  <thead>\n    <tr style=\"text-align: right;\">\n      <th></th>\n      <th>idx_min</th>\n      <th>idx_max</th>\n      <th>idx_min_gene</th>\n      <th>idx_max_gene</th>\n      <th>gene_couple_1</th>\n    </tr>\n  </thead>\n  <tbody>\n    <tr>\n      <th>0</th>\n      <td>0</td>\n      <td>1375</td>\n      <td>A1BG</td>\n      <td>C17orf67</td>\n      <td>A1BG C17orf67</td>\n    </tr>\n    <tr>\n      <th>1</th>\n      <td>0</td>\n      <td>3191</td>\n      <td>A1BG</td>\n      <td>DOC2B</td>\n      <td>A1BG DOC2B</td>\n    </tr>\n    <tr>\n      <th>2</th>\n      <td>0</td>\n      <td>5010</td>\n      <td>A1BG</td>\n      <td>HES6</td>\n      <td>A1BG HES6</td>\n    </tr>\n    <tr>\n      <th>3</th>\n      <td>0</td>\n      <td>8605</td>\n      <td>A1BG</td>\n      <td>PON3</td>\n      <td>A1BG PON3</td>\n    </tr>\n    <tr>\n      <th>4</th>\n      <td>1</td>\n      <td>824</td>\n      <td>A1CF</td>\n      <td>ARX</td>\n      <td>A1CF ARX</td>\n    </tr>\n    <tr>\n      <th>...</th>\n      <td>...</td>\n      <td>...</td>\n      <td>...</td>\n      <td>...</td>\n      <td>...</td>\n    </tr>\n    <tr>\n      <th>33002</th>\n      <td>13448</td>\n      <td>13524</td>\n      <td>ZNF77</td>\n      <td>ZSCAN21</td>\n      <td>ZNF77 ZSCAN21</td>\n    </tr>\n    <tr>\n      <th>33003</th>\n      <td>13463</td>\n      <td>13547</td>\n      <td>ZNF787</td>\n      <td>ZYX</td>\n      <td>ZNF787 ZYX</td>\n    </tr>\n    <tr>\n      <th>33004</th>\n      <td>13479</td>\n      <td>13495</td>\n      <td>ZNF829</td>\n      <td>ZNF883</td>\n      <td>ZNF829 ZNF883</td>\n    </tr>\n    <tr>\n      <th>33005</th>\n      <td>13487</td>\n      <td>13499</td>\n      <td>ZNF841</td>\n      <td>ZNF92</td>\n      <td>ZNF841 ZNF92</td>\n    </tr>\n    <tr>\n      <th>33006</th>\n      <td>13531</td>\n      <td>13532</td>\n      <td>ZSCAN32</td>\n      <td>ZSCAN5A</td>\n      <td>ZSCAN32 ZSCAN5A</td>\n    </tr>\n  </tbody>\n</table>\n<p>33007 rows × 5 columns</p>\n</div>"
     },
     "execution_count": 6,
     "metadata": {},
     "output_type": "execute_result"
    }
   ],
   "source": [
    "df_idx"
   ],
   "metadata": {
    "collapsed": false,
    "ExecuteTime": {
     "end_time": "2023-07-20T15:04:37.848727400Z",
     "start_time": "2023-07-20T15:04:37.842192500Z"
    }
   }
  },
  {
   "cell_type": "code",
   "execution_count": 7,
   "outputs": [],
   "source": [
    "df_idx['gene_couple_2'] = df_idx['idx_max_gene'] + ' ' + df_idx['idx_min_gene']"
   ],
   "metadata": {
    "collapsed": false,
    "ExecuteTime": {
     "end_time": "2023-07-20T15:05:06.337880800Z",
     "start_time": "2023-07-20T15:05:06.331345400Z"
    }
   }
  },
  {
   "cell_type": "code",
   "execution_count": 8,
   "outputs": [
    {
     "data": {
      "text/plain": "       idx_min  idx_max idx_min_gene idx_max_gene    gene_couple_1  \\\n0            0     1375         A1BG     C17orf67    A1BG C17orf67   \n1            0     3191         A1BG        DOC2B       A1BG DOC2B   \n2            0     5010         A1BG         HES6        A1BG HES6   \n3            0     8605         A1BG         PON3        A1BG PON3   \n4            1      824         A1CF          ARX         A1CF ARX   \n...        ...      ...          ...          ...              ...   \n33002    13448    13524        ZNF77      ZSCAN21    ZNF77 ZSCAN21   \n33003    13463    13547       ZNF787          ZYX       ZNF787 ZYX   \n33004    13479    13495       ZNF829       ZNF883    ZNF829 ZNF883   \n33005    13487    13499       ZNF841        ZNF92     ZNF841 ZNF92   \n33006    13531    13532      ZSCAN32      ZSCAN5A  ZSCAN32 ZSCAN5A   \n\n         gene_couple_2  \n0        C17orf67 A1BG  \n1           DOC2B A1BG  \n2            HES6 A1BG  \n3            PON3 A1BG  \n4             ARX A1CF  \n...                ...  \n33002    ZSCAN21 ZNF77  \n33003       ZYX ZNF787  \n33004    ZNF883 ZNF829  \n33005     ZNF92 ZNF841  \n33006  ZSCAN5A ZSCAN32  \n\n[33007 rows x 6 columns]",
      "text/html": "<div>\n<style scoped>\n    .dataframe tbody tr th:only-of-type {\n        vertical-align: middle;\n    }\n\n    .dataframe tbody tr th {\n        vertical-align: top;\n    }\n\n    .dataframe thead th {\n        text-align: right;\n    }\n</style>\n<table border=\"1\" class=\"dataframe\">\n  <thead>\n    <tr style=\"text-align: right;\">\n      <th></th>\n      <th>idx_min</th>\n      <th>idx_max</th>\n      <th>idx_min_gene</th>\n      <th>idx_max_gene</th>\n      <th>gene_couple_1</th>\n      <th>gene_couple_2</th>\n    </tr>\n  </thead>\n  <tbody>\n    <tr>\n      <th>0</th>\n      <td>0</td>\n      <td>1375</td>\n      <td>A1BG</td>\n      <td>C17orf67</td>\n      <td>A1BG C17orf67</td>\n      <td>C17orf67 A1BG</td>\n    </tr>\n    <tr>\n      <th>1</th>\n      <td>0</td>\n      <td>3191</td>\n      <td>A1BG</td>\n      <td>DOC2B</td>\n      <td>A1BG DOC2B</td>\n      <td>DOC2B A1BG</td>\n    </tr>\n    <tr>\n      <th>2</th>\n      <td>0</td>\n      <td>5010</td>\n      <td>A1BG</td>\n      <td>HES6</td>\n      <td>A1BG HES6</td>\n      <td>HES6 A1BG</td>\n    </tr>\n    <tr>\n      <th>3</th>\n      <td>0</td>\n      <td>8605</td>\n      <td>A1BG</td>\n      <td>PON3</td>\n      <td>A1BG PON3</td>\n      <td>PON3 A1BG</td>\n    </tr>\n    <tr>\n      <th>4</th>\n      <td>1</td>\n      <td>824</td>\n      <td>A1CF</td>\n      <td>ARX</td>\n      <td>A1CF ARX</td>\n      <td>ARX A1CF</td>\n    </tr>\n    <tr>\n      <th>...</th>\n      <td>...</td>\n      <td>...</td>\n      <td>...</td>\n      <td>...</td>\n      <td>...</td>\n      <td>...</td>\n    </tr>\n    <tr>\n      <th>33002</th>\n      <td>13448</td>\n      <td>13524</td>\n      <td>ZNF77</td>\n      <td>ZSCAN21</td>\n      <td>ZNF77 ZSCAN21</td>\n      <td>ZSCAN21 ZNF77</td>\n    </tr>\n    <tr>\n      <th>33003</th>\n      <td>13463</td>\n      <td>13547</td>\n      <td>ZNF787</td>\n      <td>ZYX</td>\n      <td>ZNF787 ZYX</td>\n      <td>ZYX ZNF787</td>\n    </tr>\n    <tr>\n      <th>33004</th>\n      <td>13479</td>\n      <td>13495</td>\n      <td>ZNF829</td>\n      <td>ZNF883</td>\n      <td>ZNF829 ZNF883</td>\n      <td>ZNF883 ZNF829</td>\n    </tr>\n    <tr>\n      <th>33005</th>\n      <td>13487</td>\n      <td>13499</td>\n      <td>ZNF841</td>\n      <td>ZNF92</td>\n      <td>ZNF841 ZNF92</td>\n      <td>ZNF92 ZNF841</td>\n    </tr>\n    <tr>\n      <th>33006</th>\n      <td>13531</td>\n      <td>13532</td>\n      <td>ZSCAN32</td>\n      <td>ZSCAN5A</td>\n      <td>ZSCAN32 ZSCAN5A</td>\n      <td>ZSCAN5A ZSCAN32</td>\n    </tr>\n  </tbody>\n</table>\n<p>33007 rows × 6 columns</p>\n</div>"
     },
     "execution_count": 8,
     "metadata": {},
     "output_type": "execute_result"
    }
   ],
   "source": [
    "df_idx"
   ],
   "metadata": {
    "collapsed": false,
    "ExecuteTime": {
     "end_time": "2023-07-20T15:05:22.330594200Z",
     "start_time": "2023-07-20T15:05:22.315552100Z"
    }
   }
  },
  {
   "cell_type": "code",
   "execution_count": 13,
   "outputs": [],
   "source": [
    "df = pd.concat([df_idx['gene_couple_1'], df_idx['gene_couple_2']], axis=0)"
   ],
   "metadata": {
    "collapsed": false,
    "ExecuteTime": {
     "end_time": "2023-07-20T15:11:31.010753800Z",
     "start_time": "2023-07-20T15:11:31.004208200Z"
    }
   }
  },
  {
   "cell_type": "code",
   "execution_count": 14,
   "outputs": [
    {
     "data": {
      "text/plain": "0          A1BG C17orf67\n1             A1BG DOC2B\n2              A1BG HES6\n3              A1BG PON3\n4               A1CF ARX\n              ...       \n33002      ZSCAN21 ZNF77\n33003         ZYX ZNF787\n33004      ZNF883 ZNF829\n33005       ZNF92 ZNF841\n33006    ZSCAN5A ZSCAN32\nLength: 66014, dtype: object"
     },
     "execution_count": 14,
     "metadata": {},
     "output_type": "execute_result"
    }
   ],
   "source": [
    "df"
   ],
   "metadata": {
    "collapsed": false,
    "ExecuteTime": {
     "end_time": "2023-07-20T15:11:31.788340900Z",
     "start_time": "2023-07-20T15:11:31.783834500Z"
    }
   }
  },
  {
   "cell_type": "code",
   "execution_count": 15,
   "outputs": [],
   "source": [
    "df.to_csv('data-processing/gene-couple-human-13551-dim-norm-double.txt', index=False, header=False)"
   ],
   "metadata": {
    "collapsed": false,
    "ExecuteTime": {
     "end_time": "2023-07-20T15:13:01.913591800Z",
     "start_time": "2023-07-20T15:13:01.859221900Z"
    }
   }
  },
  {
   "cell_type": "markdown",
   "source": [
    "# 新算法：大于0.7加上小于0.7的最大十个"
   ],
   "metadata": {
    "collapsed": false
   }
  },
  {
   "cell_type": "code",
   "execution_count": 3,
   "outputs": [],
   "source": [
    "import pandas as pd\n",
    "import numpy as np\n",
    "import anndata"
   ],
   "metadata": {
    "collapsed": false,
    "ExecuteTime": {
     "end_time": "2023-07-25T08:15:15.796041400Z",
     "start_time": "2023-07-25T08:15:15.777036900Z"
    }
   }
  },
  {
   "cell_type": "code",
   "execution_count": 5,
   "outputs": [
    {
     "data": {
      "text/plain": "              0         1         2         3         4         5         6  \\\n0      1.000000  0.163351 -0.183443 -0.039735 -0.090042 -0.133749  0.041896   \n1      0.163351  1.000000  0.153439  0.280461 -0.061584  0.062891 -0.088999   \n2     -0.183443  0.153439  1.000000  0.338401 -0.212104  0.158121  0.054817   \n3     -0.039735  0.280461  0.338401  1.000000  0.065609  0.069211  0.039512   \n4     -0.090042 -0.061584 -0.212104  0.065609  1.000000  0.067106 -0.137877   \n...         ...       ...       ...       ...       ...       ...       ...   \n10386  0.094013  0.225214 -0.028234 -0.059064  0.049963  0.086546 -0.015287   \n10387  0.326305 -0.017723 -0.179525 -0.067925 -0.194053 -0.097310  0.015381   \n10388  0.160103 -0.178553  0.137030 -0.111386 -0.048006  0.390447  0.388027   \n10389  0.008228 -0.015086  0.175906 -0.124034 -0.027563  0.319188  0.126307   \n10390 -0.002310  0.185272 -0.117700  0.069197 -0.086336 -0.050414 -0.012414   \n\n              7         8         9  ...     10381     10382     10383  \\\n0     -0.154340  0.231174  0.091477  ...  0.364649 -0.143748  0.212514   \n1      0.287932  0.056497  0.222687  ...  0.002199  0.019610  0.033944   \n2      0.205645 -0.148981  0.000257  ... -0.085750  0.405416  0.024573   \n3      0.417701 -0.046557  0.279267  ... -0.070028  0.154913 -0.091073   \n4      0.302125 -0.008795  0.246818  ... -0.044844 -0.357939 -0.204120   \n...         ...       ...       ...  ...       ...       ...       ...   \n10386 -0.091343 -0.033116  0.245303  ...  0.159824  0.053086  0.205791   \n10387 -0.290090  0.219353 -0.006669  ...  0.134324 -0.101858  0.289210   \n10388 -0.017626 -0.119789 -0.121734  ...  0.240677  0.426804  0.206396   \n10389  0.067171 -0.038678 -0.026555  ...  0.036503  0.328491  0.087602   \n10390 -0.023893  0.130307 -0.111367  ... -0.146215  0.008941  0.084581   \n\n          10384     10385     10386     10387     10388     10389     10390  \n0     -0.040085  0.047989  0.094013  0.326305  0.160103  0.008228 -0.002310  \n1      0.195882  0.131447  0.225214 -0.017723 -0.178553 -0.015086  0.185272  \n2      0.103115  0.426549 -0.028234 -0.179525  0.137030  0.175906 -0.117700  \n3      0.000904  0.044182 -0.059064 -0.067925 -0.111386 -0.124034  0.069197  \n4      0.046932 -0.167421  0.049963 -0.194053 -0.048006 -0.027563 -0.086336  \n...         ...       ...       ...       ...       ...       ...       ...  \n10386  0.330274  0.250882  1.000000 -0.101113  0.149970  0.228059 -0.100187  \n10387 -0.088721 -0.175275 -0.101113  1.000000 -0.092127 -0.140637  0.355327  \n10388  0.171774  0.408141  0.149970 -0.092127  1.000000  0.662150 -0.265291  \n10389  0.100388  0.568339  0.228059 -0.140637  0.662150  1.000000 -0.261322  \n10390 -0.082690 -0.100015 -0.100187  0.355327 -0.265291 -0.261322  1.000000  \n\n[10391 rows x 10391 columns]",
      "text/html": "<div>\n<style scoped>\n    .dataframe tbody tr th:only-of-type {\n        vertical-align: middle;\n    }\n\n    .dataframe tbody tr th {\n        vertical-align: top;\n    }\n\n    .dataframe thead th {\n        text-align: right;\n    }\n</style>\n<table border=\"1\" class=\"dataframe\">\n  <thead>\n    <tr style=\"text-align: right;\">\n      <th></th>\n      <th>0</th>\n      <th>1</th>\n      <th>2</th>\n      <th>3</th>\n      <th>4</th>\n      <th>5</th>\n      <th>6</th>\n      <th>7</th>\n      <th>8</th>\n      <th>9</th>\n      <th>...</th>\n      <th>10381</th>\n      <th>10382</th>\n      <th>10383</th>\n      <th>10384</th>\n      <th>10385</th>\n      <th>10386</th>\n      <th>10387</th>\n      <th>10388</th>\n      <th>10389</th>\n      <th>10390</th>\n    </tr>\n  </thead>\n  <tbody>\n    <tr>\n      <th>0</th>\n      <td>1.000000</td>\n      <td>0.163351</td>\n      <td>-0.183443</td>\n      <td>-0.039735</td>\n      <td>-0.090042</td>\n      <td>-0.133749</td>\n      <td>0.041896</td>\n      <td>-0.154340</td>\n      <td>0.231174</td>\n      <td>0.091477</td>\n      <td>...</td>\n      <td>0.364649</td>\n      <td>-0.143748</td>\n      <td>0.212514</td>\n      <td>-0.040085</td>\n      <td>0.047989</td>\n      <td>0.094013</td>\n      <td>0.326305</td>\n      <td>0.160103</td>\n      <td>0.008228</td>\n      <td>-0.002310</td>\n    </tr>\n    <tr>\n      <th>1</th>\n      <td>0.163351</td>\n      <td>1.000000</td>\n      <td>0.153439</td>\n      <td>0.280461</td>\n      <td>-0.061584</td>\n      <td>0.062891</td>\n      <td>-0.088999</td>\n      <td>0.287932</td>\n      <td>0.056497</td>\n      <td>0.222687</td>\n      <td>...</td>\n      <td>0.002199</td>\n      <td>0.019610</td>\n      <td>0.033944</td>\n      <td>0.195882</td>\n      <td>0.131447</td>\n      <td>0.225214</td>\n      <td>-0.017723</td>\n      <td>-0.178553</td>\n      <td>-0.015086</td>\n      <td>0.185272</td>\n    </tr>\n    <tr>\n      <th>2</th>\n      <td>-0.183443</td>\n      <td>0.153439</td>\n      <td>1.000000</td>\n      <td>0.338401</td>\n      <td>-0.212104</td>\n      <td>0.158121</td>\n      <td>0.054817</td>\n      <td>0.205645</td>\n      <td>-0.148981</td>\n      <td>0.000257</td>\n      <td>...</td>\n      <td>-0.085750</td>\n      <td>0.405416</td>\n      <td>0.024573</td>\n      <td>0.103115</td>\n      <td>0.426549</td>\n      <td>-0.028234</td>\n      <td>-0.179525</td>\n      <td>0.137030</td>\n      <td>0.175906</td>\n      <td>-0.117700</td>\n    </tr>\n    <tr>\n      <th>3</th>\n      <td>-0.039735</td>\n      <td>0.280461</td>\n      <td>0.338401</td>\n      <td>1.000000</td>\n      <td>0.065609</td>\n      <td>0.069211</td>\n      <td>0.039512</td>\n      <td>0.417701</td>\n      <td>-0.046557</td>\n      <td>0.279267</td>\n      <td>...</td>\n      <td>-0.070028</td>\n      <td>0.154913</td>\n      <td>-0.091073</td>\n      <td>0.000904</td>\n      <td>0.044182</td>\n      <td>-0.059064</td>\n      <td>-0.067925</td>\n      <td>-0.111386</td>\n      <td>-0.124034</td>\n      <td>0.069197</td>\n    </tr>\n    <tr>\n      <th>4</th>\n      <td>-0.090042</td>\n      <td>-0.061584</td>\n      <td>-0.212104</td>\n      <td>0.065609</td>\n      <td>1.000000</td>\n      <td>0.067106</td>\n      <td>-0.137877</td>\n      <td>0.302125</td>\n      <td>-0.008795</td>\n      <td>0.246818</td>\n      <td>...</td>\n      <td>-0.044844</td>\n      <td>-0.357939</td>\n      <td>-0.204120</td>\n      <td>0.046932</td>\n      <td>-0.167421</td>\n      <td>0.049963</td>\n      <td>-0.194053</td>\n      <td>-0.048006</td>\n      <td>-0.027563</td>\n      <td>-0.086336</td>\n    </tr>\n    <tr>\n      <th>...</th>\n      <td>...</td>\n      <td>...</td>\n      <td>...</td>\n      <td>...</td>\n      <td>...</td>\n      <td>...</td>\n      <td>...</td>\n      <td>...</td>\n      <td>...</td>\n      <td>...</td>\n      <td>...</td>\n      <td>...</td>\n      <td>...</td>\n      <td>...</td>\n      <td>...</td>\n      <td>...</td>\n      <td>...</td>\n      <td>...</td>\n      <td>...</td>\n      <td>...</td>\n      <td>...</td>\n    </tr>\n    <tr>\n      <th>10386</th>\n      <td>0.094013</td>\n      <td>0.225214</td>\n      <td>-0.028234</td>\n      <td>-0.059064</td>\n      <td>0.049963</td>\n      <td>0.086546</td>\n      <td>-0.015287</td>\n      <td>-0.091343</td>\n      <td>-0.033116</td>\n      <td>0.245303</td>\n      <td>...</td>\n      <td>0.159824</td>\n      <td>0.053086</td>\n      <td>0.205791</td>\n      <td>0.330274</td>\n      <td>0.250882</td>\n      <td>1.000000</td>\n      <td>-0.101113</td>\n      <td>0.149970</td>\n      <td>0.228059</td>\n      <td>-0.100187</td>\n    </tr>\n    <tr>\n      <th>10387</th>\n      <td>0.326305</td>\n      <td>-0.017723</td>\n      <td>-0.179525</td>\n      <td>-0.067925</td>\n      <td>-0.194053</td>\n      <td>-0.097310</td>\n      <td>0.015381</td>\n      <td>-0.290090</td>\n      <td>0.219353</td>\n      <td>-0.006669</td>\n      <td>...</td>\n      <td>0.134324</td>\n      <td>-0.101858</td>\n      <td>0.289210</td>\n      <td>-0.088721</td>\n      <td>-0.175275</td>\n      <td>-0.101113</td>\n      <td>1.000000</td>\n      <td>-0.092127</td>\n      <td>-0.140637</td>\n      <td>0.355327</td>\n    </tr>\n    <tr>\n      <th>10388</th>\n      <td>0.160103</td>\n      <td>-0.178553</td>\n      <td>0.137030</td>\n      <td>-0.111386</td>\n      <td>-0.048006</td>\n      <td>0.390447</td>\n      <td>0.388027</td>\n      <td>-0.017626</td>\n      <td>-0.119789</td>\n      <td>-0.121734</td>\n      <td>...</td>\n      <td>0.240677</td>\n      <td>0.426804</td>\n      <td>0.206396</td>\n      <td>0.171774</td>\n      <td>0.408141</td>\n      <td>0.149970</td>\n      <td>-0.092127</td>\n      <td>1.000000</td>\n      <td>0.662150</td>\n      <td>-0.265291</td>\n    </tr>\n    <tr>\n      <th>10389</th>\n      <td>0.008228</td>\n      <td>-0.015086</td>\n      <td>0.175906</td>\n      <td>-0.124034</td>\n      <td>-0.027563</td>\n      <td>0.319188</td>\n      <td>0.126307</td>\n      <td>0.067171</td>\n      <td>-0.038678</td>\n      <td>-0.026555</td>\n      <td>...</td>\n      <td>0.036503</td>\n      <td>0.328491</td>\n      <td>0.087602</td>\n      <td>0.100388</td>\n      <td>0.568339</td>\n      <td>0.228059</td>\n      <td>-0.140637</td>\n      <td>0.662150</td>\n      <td>1.000000</td>\n      <td>-0.261322</td>\n    </tr>\n    <tr>\n      <th>10390</th>\n      <td>-0.002310</td>\n      <td>0.185272</td>\n      <td>-0.117700</td>\n      <td>0.069197</td>\n      <td>-0.086336</td>\n      <td>-0.050414</td>\n      <td>-0.012414</td>\n      <td>-0.023893</td>\n      <td>0.130307</td>\n      <td>-0.111367</td>\n      <td>...</td>\n      <td>-0.146215</td>\n      <td>0.008941</td>\n      <td>0.084581</td>\n      <td>-0.082690</td>\n      <td>-0.100015</td>\n      <td>-0.100187</td>\n      <td>0.355327</td>\n      <td>-0.265291</td>\n      <td>-0.261322</td>\n      <td>1.000000</td>\n    </tr>\n  </tbody>\n</table>\n<p>10391 rows × 10391 columns</p>\n</div>"
     },
     "execution_count": 5,
     "metadata": {},
     "output_type": "execute_result"
    }
   ],
   "source": [
    "\n",
    "pcc_df = anndata.read_h5ad('data-processing/pcc-mouse-10391-dim-norm.h5ad').to_df()\n",
    "\n",
    "# 假设你的dataframe是df\n",
    "df = pcc_df\n",
    "df"
   ],
   "metadata": {
    "collapsed": false,
    "ExecuteTime": {
     "end_time": "2023-07-25T08:15:36.593175400Z",
     "start_time": "2023-07-25T08:15:36.110509200Z"
    }
   }
  },
  {
   "cell_type": "code",
   "execution_count": 6,
   "outputs": [
    {
     "data": {
      "text/plain": "67794"
     },
     "execution_count": 6,
     "metadata": {},
     "output_type": "execute_result"
    }
   ],
   "source": [
    "# 筛选出大于0.7的所有值的坐标位置\n",
    "result1 = df[df > 0.7].stack().index.tolist()\n",
    "result1 = [x for x in result1 if x[0] != x[1]]\n",
    "len(result1)"
   ],
   "metadata": {
    "collapsed": false,
    "ExecuteTime": {
     "end_time": "2023-07-25T08:15:44.779506400Z",
     "start_time": "2023-07-25T08:15:42.735394900Z"
    }
   }
  },
  {
   "cell_type": "code",
   "execution_count": 7,
   "outputs": [
    {
     "data": {
      "text/plain": "[(0, '669'),\n (0, '2094'),\n (0, '2676'),\n (0, '8944'),\n (0, '5004'),\n (0, '390'),\n (0, '6863'),\n (0, '8460'),\n (0, '4059'),\n (0, '2148'),\n ('669', 0),\n ('2094', 0),\n ('2676', 0),\n ('8944', 0),\n ('5004', 0),\n ('390', 0),\n ('6863', 0),\n ('8460', 0),\n ('4059', 0),\n ('2148', 0),\n (1, '8771'),\n (1, '6632'),\n (1, '6426'),\n (1, '9740'),\n (1, '4218'),\n (1, '7717'),\n (1, '7638'),\n (1, '8475'),\n (1, '6105'),\n (1, '8977'),\n ('8771', 1),\n ('6632', 1),\n ('6426', 1),\n ('9740', 1),\n ('4218', 1),\n ('7717', 1),\n ('7638', 1),\n ('8475', 1),\n ('6105', 1),\n ('8977', 1),\n (2, '6466'),\n (2, '5710'),\n (2, '10017'),\n (2, '1690'),\n (2, '1169'),\n (2, '475'),\n (2, '1958'),\n (2, '7754'),\n (2, '8698'),\n (2, '8374'),\n ('6466', 2),\n ('5710', 2),\n ('10017', 2),\n ('1690', 2),\n ('1169', 2),\n ('475', 2),\n ('1958', 2),\n ('7754', 2),\n ('8698', 2),\n ('8374', 2),\n (3, '5666'),\n (3, '8779'),\n (3, '252'),\n (3, '3466'),\n (3, '7796'),\n (3, '5553'),\n (3, '6647'),\n (3, '4052'),\n (3, '2026'),\n (3, '10164'),\n ('5666', 3),\n ('8779', 3),\n ('252', 3),\n ('3466', 3),\n ('7796', 3),\n ('5553', 3),\n ('6647', 3),\n ('4052', 3),\n ('2026', 3),\n ('10164', 3),\n (4, '8479'),\n (4, '461'),\n (4, '4669'),\n (4, '4344'),\n (4, '5424'),\n (4, '8850'),\n (4, '8672'),\n (4, '6513'),\n (4, '1215'),\n (4, '1316'),\n ('8479', 4),\n ('461', 4),\n ('4669', 4),\n ('4344', 4),\n ('5424', 4),\n ('8850', 4),\n ('8672', 4),\n ('6513', 4),\n ('1215', 4),\n ('1316', 4),\n (5, '6883'),\n (5, '3806'),\n (5, '3146'),\n (5, '5071'),\n (5, '6470'),\n (5, '7084'),\n (5, '1541'),\n (5, '5590'),\n (5, '9342'),\n (5, '5116'),\n ('6883', 5),\n ('3806', 5),\n ('3146', 5),\n ('5071', 5),\n ('6470', 5),\n ('7084', 5),\n ('1541', 5),\n ('5590', 5),\n ('9342', 5),\n ('5116', 5),\n (6, '1854'),\n (6, '218'),\n (6, '3352'),\n (6, '6100'),\n (6, '6525'),\n (6, '6747'),\n (6, '6936'),\n (6, '4622'),\n (6, '1103'),\n (6, '1848'),\n ('1854', 6),\n ('218', 6),\n ('3352', 6),\n ('6100', 6),\n ('6525', 6),\n ('6747', 6),\n ('6936', 6),\n ('4622', 6),\n ('1103', 6),\n ('1848', 6),\n (7, '8350'),\n (7, '2026'),\n (7, '8581'),\n (7, '4528'),\n (7, '74'),\n (7, '4976'),\n (7, '9177'),\n (7, '9055'),\n (7, '10089'),\n (7, '5436'),\n ('8350', 7),\n ('2026', 7),\n ('8581', 7),\n ('4528', 7),\n ('74', 7),\n ('4976', 7),\n ('9177', 7),\n ('9055', 7),\n ('10089', 7),\n ('5436', 7),\n (8, '5173'),\n (8, '6784'),\n (8, '230'),\n (8, '1507'),\n (8, '6925'),\n (8, '3458'),\n (8, '2534'),\n (8, '8194'),\n (8, '6495'),\n (8, '1240'),\n ('5173', 8),\n ('6784', 8),\n ('230', 8),\n ('1507', 8),\n ('6925', 8),\n ('3458', 8),\n ('2534', 8),\n ('8194', 8),\n ('6495', 8),\n ('1240', 8),\n (9, '9413'),\n (9, '9488'),\n (9, '8446'),\n (9, '6741'),\n (9, '445'),\n (9, '8862'),\n (9, '147'),\n (9, '6943'),\n (9, '513'),\n (9, '3910'),\n ('9413', 9),\n ('9488', 9),\n ('8446', 9),\n ('6741', 9),\n ('445', 9),\n ('8862', 9),\n ('147', 9),\n ('6943', 9),\n ('513', 9),\n ('3910', 9),\n (10, '1284'),\n (10, '5063'),\n (10, '7717'),\n (10, '6007'),\n (10, '328'),\n (10, '2400'),\n (10, '1033'),\n (10, '1729'),\n (10, '634'),\n (10, '875'),\n ('1284', 10),\n ('5063', 10),\n ('7717', 10),\n ('6007', 10),\n ('328', 10),\n ('2400', 10),\n ('1033', 10),\n ('1729', 10),\n ('634', 10),\n ('875', 10),\n (11, '5298'),\n (11, '1480'),\n (11, '1934'),\n (11, '1307'),\n (11, '2460'),\n (11, '3712'),\n (11, '10293'),\n (11, '1928'),\n (11, '10203'),\n (11, '8146'),\n ('5298', 11),\n ('1480', 11),\n ('1934', 11),\n ('1307', 11),\n ('2460', 11),\n ('3712', 11),\n ('10293', 11),\n ('1928', 11),\n ('10203', 11),\n ('8146', 11),\n (12, '9702'),\n (12, '8323'),\n (12, '835'),\n (12, '937'),\n (12, '10218'),\n (12, '6574'),\n (12, '6632'),\n (12, '5942'),\n (12, '2772'),\n (12, '7917'),\n ('9702', 12),\n ('8323', 12),\n ('835', 12),\n ('937', 12),\n ('10218', 12),\n ('6574', 12),\n ('6632', 12),\n ('5942', 12),\n ('2772', 12),\n ('7917', 12),\n (13, '1100'),\n (13, '5974'),\n (13, '4765'),\n (13, '7313'),\n (13, '9455'),\n (13, '864'),\n (13, '9864'),\n (13, '6363'),\n (13, '454'),\n (13, '5267'),\n ('1100', 13),\n ('5974', 13),\n ('4765', 13),\n ('7313', 13),\n ('9455', 13),\n ('864', 13),\n ('9864', 13),\n ('6363', 13),\n ('454', 13),\n ('5267', 13),\n (14, '1585'),\n (14, '7637'),\n (14, '3600'),\n (14, '5672'),\n (14, '1154'),\n (14, '3207'),\n (14, '7712'),\n (14, '4022'),\n (14, '509'),\n (14, '4892'),\n ('1585', 14),\n ('7637', 14),\n ('3600', 14),\n ('5672', 14),\n ('1154', 14),\n ('3207', 14),\n ('7712', 14),\n ('4022', 14),\n ('509', 14),\n ('4892', 14),\n (15, '129'),\n (15, '7799'),\n (15, '8022'),\n (15, '3837'),\n (15, '5276'),\n (15, '1455'),\n (15, '5401'),\n (15, '5335'),\n (15, '7349'),\n (15, '9308'),\n ('129', 15),\n ('7799', 15),\n ('8022', 15),\n ('3837', 15),\n ('5276', 15),\n ('1455', 15),\n ('5401', 15),\n ('5335', 15),\n ('7349', 15),\n ('9308', 15),\n (16, '9997'),\n (16, '79'),\n (16, '831'),\n (16, '6680'),\n (16, '7586'),\n (16, '7456'),\n (16, '6918'),\n (16, '7553'),\n (16, '6332'),\n (16, '732'),\n ('9997', 16),\n ('79', 16),\n ('831', 16),\n ('6680', 16),\n ('7586', 16),\n ('7456', 16),\n ('6918', 16),\n ('7553', 16),\n ('6332', 16),\n ('732', 16),\n (17, '168'),\n (17, '6640'),\n (17, '9782'),\n (17, '6431'),\n (17, '2810'),\n (17, '3966'),\n (17, '5547'),\n (17, '2647'),\n (17, '7985'),\n (17, '9247'),\n ('168', 17),\n ('6640', 17),\n ('9782', 17),\n ('6431', 17),\n ('2810', 17),\n ('3966', 17),\n ('5547', 17),\n ('2647', 17),\n ('7985', 17),\n ('9247', 17),\n (18, '5536'),\n (18, '6399'),\n (18, '9920'),\n (18, '1850'),\n (18, '1060'),\n (18, '2757'),\n (18, '7069'),\n (18, '8857'),\n (18, '8321'),\n (18, '937'),\n ('5536', 18),\n ('6399', 18),\n ('9920', 18),\n ('1850', 18),\n ('1060', 18),\n ('2757', 18),\n ('7069', 18),\n ('8857', 18),\n ('8321', 18),\n ('937', 18),\n (19, '2205'),\n (19, '7096'),\n (19, '5521'),\n (19, '1805'),\n (19, '1948'),\n (19, '4970'),\n (19, '2194'),\n (19, '5297'),\n (19, '9858'),\n (19, '7102'),\n ('2205', 19),\n ('7096', 19),\n ('5521', 19),\n ('1805', 19),\n ('1948', 19),\n ('4970', 19),\n ('2194', 19),\n ('5297', 19),\n ('9858', 19),\n ('7102', 19),\n (20, '5304'),\n (20, '4871'),\n (20, '3466'),\n (20, '8236'),\n (20, '6595'),\n (20, '4929'),\n (20, '8611'),\n (20, '1690'),\n (20, '2580'),\n (20, '8454'),\n ('5304', 20),\n ('4871', 20),\n ('3466', 20),\n ('8236', 20),\n ('6595', 20),\n ('4929', 20),\n ('8611', 20),\n ('1690', 20),\n ('2580', 20),\n ('8454', 20),\n (21, '6378'),\n (21, '1680'),\n (21, '4159'),\n (21, '5195'),\n (21, '7341'),\n (21, '1279'),\n (21, '2854'),\n (21, '6161'),\n (21, '994'),\n (21, '3493'),\n ('6378', 21),\n ('1680', 21),\n ('4159', 21),\n ('5195', 21),\n ('7341', 21),\n ('1279', 21),\n ('2854', 21),\n ('6161', 21),\n ('994', 21),\n ('3493', 21),\n (22, '3916'),\n (22, '2045'),\n (22, '6277'),\n (22, '1519'),\n (22, '862'),\n (22, '2962'),\n (22, '3315'),\n (22, '8434'),\n (22, '6177'),\n (22, '1049'),\n ('3916', 22),\n ('2045', 22),\n ('6277', 22),\n ('1519', 22),\n ('862', 22),\n ('2962', 22),\n ('3315', 22),\n ('8434', 22),\n ('6177', 22),\n ('1049', 22),\n (23, '144'),\n (23, '5628'),\n (23, '3044'),\n (23, '8538'),\n (23, '6144'),\n (23, '3866'),\n (23, '4986'),\n (23, '3186'),\n (23, '5579'),\n (23, '9153'),\n ('144', 23),\n ('5628', 23),\n ('3044', 23),\n ('8538', 23),\n ('6144', 23),\n ('3866', 23),\n ('4986', 23),\n ('3186', 23),\n ('5579', 23),\n ('9153', 23),\n (24, '1590'),\n (24, '10129'),\n (24, '1240'),\n (24, '7144'),\n (24, '9293'),\n (24, '5790'),\n (24, '6668'),\n (24, '5828'),\n (24, '2737'),\n (24, '3426'),\n ('1590', 24),\n ('10129', 24),\n ('1240', 24),\n ('7144', 24),\n ('9293', 24),\n ('5790', 24),\n ('6668', 24),\n ('5828', 24),\n ('2737', 24),\n ('3426', 24),\n (25, '5405'),\n (25, '3729'),\n (25, '3545'),\n (25, '4140'),\n (25, '1677'),\n (25, '7767'),\n (25, '4056'),\n (25, '380'),\n (25, '5977'),\n (25, '4650'),\n ('5405', 25),\n ('3729', 25),\n ('3545', 25),\n ('4140', 25),\n ('1677', 25),\n ('7767', 25),\n ('4056', 25),\n ('380', 25),\n ('5977', 25),\n ('4650', 25),\n (26, '4148'),\n (26, '5412'),\n (26, '3792'),\n (26, '4800'),\n (26, '9835'),\n (26, '9960'),\n (26, '8599'),\n (26, '8822'),\n (26, '3028'),\n (26, '2664'),\n ('4148', 26),\n ('5412', 26),\n ('3792', 26),\n ('4800', 26),\n ('9835', 26),\n ('9960', 26),\n ('8599', 26),\n ('8822', 26),\n ('3028', 26),\n ('2664', 26),\n (27, '4018'),\n (27, '6374'),\n (27, '6657'),\n (27, '1003'),\n (27, '6413'),\n (27, '599'),\n (27, '1042'),\n (27, '4357'),\n (27, '1244'),\n (27, '2154'),\n ('4018', 27),\n ('6374', 27),\n ('6657', 27),\n ('1003', 27),\n ('6413', 27),\n ('599', 27),\n ('1042', 27),\n ('4357', 27),\n ('1244', 27),\n ('2154', 27),\n (28, '8684'),\n (28, '3907'),\n (28, '9568'),\n (28, '6489'),\n (28, '5896'),\n (28, '4170'),\n (28, '3234'),\n (28, '6927'),\n (28, '6483'),\n (28, '764'),\n ('8684', 28),\n ('3907', 28),\n ('9568', 28),\n ('6489', 28),\n ('5896', 28),\n ('4170', 28),\n ('3234', 28),\n ('6927', 28),\n ('6483', 28),\n ('764', 28),\n (29, '954'),\n (29, '6783'),\n (29, '5416'),\n (29, '765'),\n (29, '5578'),\n (29, '7782'),\n (29, '3941'),\n (29, '7430'),\n (29, '9234'),\n (29, '288'),\n ('954', 29),\n ('6783', 29),\n ('5416', 29),\n ('765', 29),\n ('5578', 29),\n ('7782', 29),\n ('3941', 29),\n ('7430', 29),\n ('9234', 29),\n ('288', 29),\n (30, '2511'),\n (30, '1233'),\n (30, '5436'),\n (30, '8527'),\n (30, '9798'),\n (30, '1991'),\n (30, '5116'),\n (30, '3308'),\n (30, '4994'),\n (30, '4462'),\n ('2511', 30),\n ('1233', 30),\n ('5436', 30),\n ('8527', 30),\n ('9798', 30),\n ('1991', 30),\n ('5116', 30),\n ('3308', 30),\n ('4994', 30),\n ('4462', 30),\n (31, '8317'),\n (31, '1043'),\n (31, '3068'),\n (31, '875'),\n (31, '10004'),\n (31, '898'),\n (31, '419'),\n (31, '9322'),\n (31, '698'),\n (31, '775'),\n ('8317', 31),\n ('1043', 31),\n ('3068', 31),\n ('875', 31),\n ('10004', 31),\n ('898', 31),\n ('419', 31),\n ('9322', 31),\n ('698', 31),\n ('775', 31),\n (32, '3540'),\n (32, '2930'),\n (32, '7893'),\n (32, '2457'),\n (32, '5320'),\n (32, '10058'),\n (32, '3478'),\n (32, '7762'),\n (32, '2163'),\n (32, '9891'),\n ('3540', 32),\n ('2930', 32),\n ('7893', 32),\n ('2457', 32),\n ('5320', 32),\n ('10058', 32),\n ('3478', 32),\n ('7762', 32),\n ('2163', 32),\n ('9891', 32),\n (33, '573'),\n (33, '5061'),\n (33, '3207'),\n (33, '1631'),\n (33, '4028'),\n (33, '2860'),\n (33, '2430'),\n (33, '694'),\n (33, '5459'),\n (33, '9334'),\n ('573', 33),\n ('5061', 33),\n ('3207', 33),\n ('1631', 33),\n ('4028', 33),\n ('2860', 33),\n ('2430', 33),\n ('694', 33),\n ('5459', 33),\n ('9334', 33),\n (34, '10174'),\n (34, '7270'),\n (34, '6413'),\n (34, '8673'),\n (34, '2612'),\n (34, '1244'),\n (34, '3996'),\n (34, '5402'),\n (34, '5796'),\n (34, '4049'),\n ('10174', 34),\n ('7270', 34),\n ('6413', 34),\n ('8673', 34),\n ('2612', 34),\n ('1244', 34),\n ('3996', 34),\n ('5402', 34),\n ('5796', 34),\n ('4049', 34),\n (35, '3609'),\n (35, '8432'),\n (35, '821'),\n (35, '3661'),\n (35, '1827'),\n (35, '5917'),\n (35, '4374'),\n (35, '2151'),\n (35, '7824'),\n (35, '8507'),\n ('3609', 35),\n ('8432', 35),\n ('821', 35),\n ('3661', 35),\n ('1827', 35),\n ('5917', 35),\n ('4374', 35),\n ('2151', 35),\n ('7824', 35),\n ('8507', 35),\n (36, '4061'),\n (36, '6515'),\n (36, '3682'),\n (36, '7754'),\n (36, '9693'),\n (36, '4024'),\n (36, '6209'),\n (36, '3531'),\n (36, '8085'),\n (36, '7298'),\n ('4061', 36),\n ('6515', 36),\n ('3682', 36),\n ('7754', 36),\n ('9693', 36),\n ('4024', 36),\n ('6209', 36),\n ('3531', 36),\n ('8085', 36),\n ('7298', 36),\n (37, '9239'),\n (37, '3610'),\n (37, '10157'),\n (37, '3613'),\n (37, '3757'),\n (37, '5483'),\n (37, '907'),\n (37, '4513'),\n (37, '9376'),\n (37, '6857'),\n ('9239', 37),\n ('3610', 37),\n ('10157', 37),\n ('3613', 37),\n ('3757', 37),\n ('5483', 37),\n ('907', 37),\n ('4513', 37),\n ('9376', 37),\n ('6857', 37),\n (38, '10203'),\n (38, '760'),\n (38, '122'),\n (38, '5563'),\n (38, '2982'),\n (38, '1681'),\n (38, '206'),\n (38, '1316'),\n (38, '10293'),\n (38, '6822'),\n ('10203', 38),\n ('760', 38),\n ('122', 38),\n ('5563', 38),\n ('2982', 38),\n ('1681', 38),\n ('206', 38),\n ('1316', 38),\n ('10293', 38),\n ('6822', 38),\n (39, '10218'),\n (39, '5365'),\n (39, '5394'),\n (39, '3609'),\n (39, '1916'),\n (39, '1153'),\n (39, '4933'),\n (39, '9704'),\n (39, '3004'),\n (39, '2536'),\n ('10218', 39),\n ('5365', 39),\n ('5394', 39),\n ('3609', 39),\n ('1916', 39),\n ('1153', 39),\n ('4933', 39),\n ('9704', 39),\n ('3004', 39),\n ('2536', 39),\n (40, '3782'),\n (40, '7127'),\n (40, '5481'),\n (40, '5949'),\n (40, '9636'),\n (40, '274'),\n (40, '506'),\n (40, '6588'),\n (40, '1013'),\n (40, '8757'),\n ('3782', 40),\n ('7127', 40),\n ('5481', 40),\n ('5949', 40),\n ('9636', 40),\n ('274', 40),\n ('506', 40),\n ('6588', 40),\n ('1013', 40),\n ('8757', 40),\n (41, '9540'),\n (41, '609'),\n (41, '310'),\n (41, '1723'),\n (41, '6438'),\n (41, '1342'),\n (41, '8645'),\n (41, '5785'),\n (41, '5366'),\n (41, '5328'),\n ('9540', 41),\n ('609', 41),\n ('310', 41),\n ('1723', 41),\n ('6438', 41),\n ('1342', 41),\n ('8645', 41),\n ('5785', 41),\n ('5366', 41),\n ('5328', 41),\n (42, '865'),\n (42, '7262'),\n (42, '10190'),\n (42, '6610'),\n (42, '7370'),\n (42, '1576'),\n (42, '5428'),\n (42, '9142'),\n (42, '6969'),\n (42, '7847'),\n ('865', 42),\n ('7262', 42),\n ('10190', 42),\n ('6610', 42),\n ('7370', 42),\n ('1576', 42),\n ('5428', 42),\n ('9142', 42),\n ('6969', 42),\n ('7847', 42),\n (43, '4952'),\n (43, '1457'),\n (43, '6274'),\n (43, '8804'),\n (43, '4534'),\n (43, '1971'),\n (43, '1075'),\n (43, '8720'),\n (43, '6061'),\n (43, '10043'),\n ('4952', 43),\n ('1457', 43),\n ('6274', 43),\n ('8804', 43),\n ('4534', 43),\n ('1971', 43),\n ('1075', 43),\n ('8720', 43),\n ('6061', 43),\n ('10043', 43),\n (44, '7372'),\n (44, '8968'),\n (44, '2963'),\n (44, '3254'),\n (44, '5209'),\n (44, '10259'),\n (44, '4401'),\n (44, '1605'),\n (44, '1086'),\n (44, '9941'),\n ('7372', 44),\n ('8968', 44),\n ('2963', 44),\n ('3254', 44),\n ('5209', 44),\n ('10259', 44),\n ('4401', 44),\n ('1605', 44),\n ('1086', 44),\n ('9941', 44),\n (45, '9846'),\n (45, '7596'),\n (45, '10047'),\n (45, '8025'),\n (45, '1462'),\n (45, '1535'),\n (45, '115'),\n (45, '2434'),\n (45, '7429'),\n (45, '5935'),\n ('9846', 45),\n ('7596', 45),\n ('10047', 45),\n ('8025', 45),\n ('1462', 45),\n ('1535', 45),\n ('115', 45),\n ('2434', 45),\n ('7429', 45),\n ('5935', 45),\n (46, '2410'),\n (46, '6379'),\n (46, '6657'),\n (46, '1846'),\n (46, '4379'),\n (46, '5386'),\n (46, '3444'),\n (46, '7362'),\n (46, '4778'),\n (46, '3006'),\n ('2410', 46),\n ('6379', 46),\n ('6657', 46),\n ('1846', 46),\n ('4379', 46),\n ('5386', 46),\n ('3444', 46),\n ('7362', 46),\n ('4778', 46),\n ('3006', 46),\n (47, '3199'),\n (47, '3207'),\n (47, '571'),\n (47, '7611'),\n (47, '7641'),\n (47, '6804'),\n (47, '2674'),\n (47, '3763'),\n (47, '4892'),\n (47, '2612'),\n ('3199', 47),\n ('3207', 47),\n ('571', 47),\n ('7611', 47),\n ('7641', 47),\n ('6804', 47),\n ('2674', 47),\n ('3763', 47),\n ('4892', 47),\n ('2612', 47),\n (48, '7868'),\n (48, '3691'),\n (48, '9027'),\n (48, '4747'),\n (48, '3360'),\n (48, '2404'),\n (48, '7294'),\n (48, '7788'),\n (48, '7966'),\n (48, '86'),\n ('7868', 48),\n ('3691', 48),\n ('9027', 48),\n ('4747', 48),\n ('3360', 48),\n ('2404', 48),\n ('7294', 48),\n ('7788', 48),\n ('7966', 48),\n ('86', 48),\n (49, '3614'),\n (49, '9682'),\n (49, '8242'),\n (49, '10102'),\n (49, '5219'),\n (49, '6536'),\n (49, '6195'),\n (49, '9622'),\n (49, '6855'),\n (49, '1550'),\n ('3614', 49),\n ('9682', 49),\n ('8242', 49),\n ('10102', 49),\n ('5219', 49),\n ('6536', 49),\n ('6195', 49),\n ('9622', 49),\n ('6855', 49),\n ('1550', 49),\n ...]"
     },
     "execution_count": 7,
     "metadata": {},
     "output_type": "execute_result"
    }
   ],
   "source": [
    "# 筛选出每行跟每列小于0.7的前10大的值的坐标\n",
    "result2 = []\n",
    "for i in range(len(df.columns)):\n",
    "    row = df.iloc[i,:]\n",
    "    row_result = row[row < 0.7].nlargest(10).index.tolist()\n",
    "    result2.extend([(i, j) for j in row_result if i != j])\n",
    "\n",
    "    col = df.iloc[:,i]\n",
    "    col_result = col[col < 0.7].nlargest(10).index.tolist()\n",
    "    result2.extend([(j, i) for j in col_result if i != j])\n",
    "\n",
    "result2"
   ],
   "metadata": {
    "collapsed": false,
    "ExecuteTime": {
     "end_time": "2023-07-25T08:16:42.533024300Z",
     "start_time": "2023-07-25T08:16:02.942666600Z"
    }
   }
  },
  {
   "cell_type": "code",
   "execution_count": 8,
   "outputs": [
    {
     "data": {
      "text/plain": "207820"
     },
     "execution_count": 8,
     "metadata": {},
     "output_type": "execute_result"
    }
   ],
   "source": [
    "len(result2)"
   ],
   "metadata": {
    "collapsed": false,
    "ExecuteTime": {
     "end_time": "2023-07-25T08:17:13.698450500Z",
     "start_time": "2023-07-25T08:17:13.684447700Z"
    }
   }
  },
  {
   "cell_type": "code",
   "execution_count": 9,
   "outputs": [
    {
     "data": {
      "text/plain": "         row    col\n0         10    574\n1         21   1566\n2         21   5124\n3         21   5840\n4         24   5491\n...      ...    ...\n275609  8857  10390\n275610  5856  10390\n275611  6032  10390\n275612  9543  10390\n275613  9138  10390\n\n[275614 rows x 2 columns]",
      "text/html": "<div>\n<style scoped>\n    .dataframe tbody tr th:only-of-type {\n        vertical-align: middle;\n    }\n\n    .dataframe tbody tr th {\n        vertical-align: top;\n    }\n\n    .dataframe thead th {\n        text-align: right;\n    }\n</style>\n<table border=\"1\" class=\"dataframe\">\n  <thead>\n    <tr style=\"text-align: right;\">\n      <th></th>\n      <th>row</th>\n      <th>col</th>\n    </tr>\n  </thead>\n  <tbody>\n    <tr>\n      <th>0</th>\n      <td>10</td>\n      <td>574</td>\n    </tr>\n    <tr>\n      <th>1</th>\n      <td>21</td>\n      <td>1566</td>\n    </tr>\n    <tr>\n      <th>2</th>\n      <td>21</td>\n      <td>5124</td>\n    </tr>\n    <tr>\n      <th>3</th>\n      <td>21</td>\n      <td>5840</td>\n    </tr>\n    <tr>\n      <th>4</th>\n      <td>24</td>\n      <td>5491</td>\n    </tr>\n    <tr>\n      <th>...</th>\n      <td>...</td>\n      <td>...</td>\n    </tr>\n    <tr>\n      <th>275609</th>\n      <td>8857</td>\n      <td>10390</td>\n    </tr>\n    <tr>\n      <th>275610</th>\n      <td>5856</td>\n      <td>10390</td>\n    </tr>\n    <tr>\n      <th>275611</th>\n      <td>6032</td>\n      <td>10390</td>\n    </tr>\n    <tr>\n      <th>275612</th>\n      <td>9543</td>\n      <td>10390</td>\n    </tr>\n    <tr>\n      <th>275613</th>\n      <td>9138</td>\n      <td>10390</td>\n    </tr>\n  </tbody>\n</table>\n<p>275614 rows × 2 columns</p>\n</div>"
     },
     "execution_count": 9,
     "metadata": {},
     "output_type": "execute_result"
    }
   ],
   "source": [
    "# 将这些坐标位置存入新的dataframe中\n",
    "new_df = pd.DataFrame(result1 + result2, columns=['row', 'col'])\n",
    "new_df"
   ],
   "metadata": {
    "collapsed": false,
    "ExecuteTime": {
     "end_time": "2023-07-25T08:17:23.840032800Z",
     "start_time": "2023-07-25T08:17:23.767016Z"
    }
   }
  },
  {
   "cell_type": "code",
   "execution_count": 10,
   "outputs": [
    {
     "data": {
      "text/plain": "Index(['0610007P14Rik', '0610009B22Rik', '0610009E02Rik', '0610009L18Rik',\n       '0610009O20Rik', '0610010F05Rik', '0610010K14Rik', '0610011F06Rik',\n       '0610012G03Rik', '0610030E20Rik',\n       ...\n       'Zufsp', 'Zw10', 'Zwint', 'Zxdb', 'Zxdc', 'Zyg11b', 'Zyx', 'Zzef1',\n       'Zzz3', 'l7Rn6'],\n      dtype='object', length=10391)"
     },
     "execution_count": 10,
     "metadata": {},
     "output_type": "execute_result"
    }
   ],
   "source": [
    "adata2 = anndata.read_h5ad('data-processing/integrated-no-filtration-mouse.h5ad')\n",
    "adata2.var.index"
   ],
   "metadata": {
    "collapsed": false,
    "ExecuteTime": {
     "end_time": "2023-07-25T08:17:47.795167300Z",
     "start_time": "2023-07-25T08:17:47.349066800Z"
    }
   }
  },
  {
   "cell_type": "code",
   "execution_count": 11,
   "outputs": [
    {
     "data": {
      "text/plain": "Index(['0610007P14Rik', '0610009B22Rik', '0610009E02Rik', '0610009L18Rik',\n       '0610009O20Rik', '0610010F05Rik', '0610010K14Rik', '0610011F06Rik',\n       '0610012G03Rik', '0610030E20Rik',\n       ...\n       'Zufsp', 'Zw10', 'Zwint', 'Zxdb', 'Zxdc', 'Zyg11b', 'Zyx', 'Zzef1',\n       'Zzz3', 'l7Rn6'],\n      dtype='object', length=10391)"
     },
     "execution_count": 11,
     "metadata": {},
     "output_type": "execute_result"
    }
   ],
   "source": [
    "list = adata2.var.index\n",
    "list"
   ],
   "metadata": {
    "collapsed": false,
    "ExecuteTime": {
     "end_time": "2023-07-25T08:17:51.160975900Z",
     "start_time": "2023-07-25T08:17:51.153974400Z"
    }
   }
  },
  {
   "cell_type": "code",
   "execution_count": 12,
   "outputs": [],
   "source": [
    "# list[2]\n",
    "new_df['row'] = new_df['row'].astype(int)\n",
    "new_df['col'] = new_df['col'].astype(int)"
   ],
   "metadata": {
    "collapsed": false,
    "ExecuteTime": {
     "end_time": "2023-07-25T08:18:00.077400800Z",
     "start_time": "2023-07-25T08:18:00.015147700Z"
    }
   }
  },
  {
   "cell_type": "code",
   "execution_count": 13,
   "outputs": [
    {
     "data": {
      "text/plain": "         row    col\n0         10    574\n1         21   1566\n2         21   5124\n3         21   5840\n4         24   5491\n...      ...    ...\n275609  8857  10390\n275610  5856  10390\n275611  6032  10390\n275612  9543  10390\n275613  9138  10390\n\n[275614 rows x 2 columns]",
      "text/html": "<div>\n<style scoped>\n    .dataframe tbody tr th:only-of-type {\n        vertical-align: middle;\n    }\n\n    .dataframe tbody tr th {\n        vertical-align: top;\n    }\n\n    .dataframe thead th {\n        text-align: right;\n    }\n</style>\n<table border=\"1\" class=\"dataframe\">\n  <thead>\n    <tr style=\"text-align: right;\">\n      <th></th>\n      <th>row</th>\n      <th>col</th>\n    </tr>\n  </thead>\n  <tbody>\n    <tr>\n      <th>0</th>\n      <td>10</td>\n      <td>574</td>\n    </tr>\n    <tr>\n      <th>1</th>\n      <td>21</td>\n      <td>1566</td>\n    </tr>\n    <tr>\n      <th>2</th>\n      <td>21</td>\n      <td>5124</td>\n    </tr>\n    <tr>\n      <th>3</th>\n      <td>21</td>\n      <td>5840</td>\n    </tr>\n    <tr>\n      <th>4</th>\n      <td>24</td>\n      <td>5491</td>\n    </tr>\n    <tr>\n      <th>...</th>\n      <td>...</td>\n      <td>...</td>\n    </tr>\n    <tr>\n      <th>275609</th>\n      <td>8857</td>\n      <td>10390</td>\n    </tr>\n    <tr>\n      <th>275610</th>\n      <td>5856</td>\n      <td>10390</td>\n    </tr>\n    <tr>\n      <th>275611</th>\n      <td>6032</td>\n      <td>10390</td>\n    </tr>\n    <tr>\n      <th>275612</th>\n      <td>9543</td>\n      <td>10390</td>\n    </tr>\n    <tr>\n      <th>275613</th>\n      <td>9138</td>\n      <td>10390</td>\n    </tr>\n  </tbody>\n</table>\n<p>275614 rows × 2 columns</p>\n</div>"
     },
     "execution_count": 13,
     "metadata": {},
     "output_type": "execute_result"
    }
   ],
   "source": [
    "new_df"
   ],
   "metadata": {
    "collapsed": false,
    "ExecuteTime": {
     "end_time": "2023-07-25T08:18:01.779742200Z",
     "start_time": "2023-07-25T08:18:01.752736400Z"
    }
   }
  },
  {
   "cell_type": "code",
   "execution_count": 14,
   "outputs": [
    {
     "data": {
      "text/plain": "         row    col       row_gene  col_gene\n0         10    574  0610037L13Rik    Amigo2\n1         21   1566  1110032A03Rik  Cdk5rap2\n2         21   5124  1110032A03Rik      Mest\n3         21   5840  1110032A03Rik      Npat\n4         24   5491  1110038B12Rik       Myc\n...      ...    ...            ...       ...\n275609  8857  10390          Tceb2     l7Rn6\n275610  5856  10390           Nptn     l7Rn6\n275611  6032  10390         Ormdl1     l7Rn6\n275612  9543  10390        Txndc17     l7Rn6\n275613  9138  10390        Tmem237     l7Rn6\n\n[275614 rows x 4 columns]",
      "text/html": "<div>\n<style scoped>\n    .dataframe tbody tr th:only-of-type {\n        vertical-align: middle;\n    }\n\n    .dataframe tbody tr th {\n        vertical-align: top;\n    }\n\n    .dataframe thead th {\n        text-align: right;\n    }\n</style>\n<table border=\"1\" class=\"dataframe\">\n  <thead>\n    <tr style=\"text-align: right;\">\n      <th></th>\n      <th>row</th>\n      <th>col</th>\n      <th>row_gene</th>\n      <th>col_gene</th>\n    </tr>\n  </thead>\n  <tbody>\n    <tr>\n      <th>0</th>\n      <td>10</td>\n      <td>574</td>\n      <td>0610037L13Rik</td>\n      <td>Amigo2</td>\n    </tr>\n    <tr>\n      <th>1</th>\n      <td>21</td>\n      <td>1566</td>\n      <td>1110032A03Rik</td>\n      <td>Cdk5rap2</td>\n    </tr>\n    <tr>\n      <th>2</th>\n      <td>21</td>\n      <td>5124</td>\n      <td>1110032A03Rik</td>\n      <td>Mest</td>\n    </tr>\n    <tr>\n      <th>3</th>\n      <td>21</td>\n      <td>5840</td>\n      <td>1110032A03Rik</td>\n      <td>Npat</td>\n    </tr>\n    <tr>\n      <th>4</th>\n      <td>24</td>\n      <td>5491</td>\n      <td>1110038B12Rik</td>\n      <td>Myc</td>\n    </tr>\n    <tr>\n      <th>...</th>\n      <td>...</td>\n      <td>...</td>\n      <td>...</td>\n      <td>...</td>\n    </tr>\n    <tr>\n      <th>275609</th>\n      <td>8857</td>\n      <td>10390</td>\n      <td>Tceb2</td>\n      <td>l7Rn6</td>\n    </tr>\n    <tr>\n      <th>275610</th>\n      <td>5856</td>\n      <td>10390</td>\n      <td>Nptn</td>\n      <td>l7Rn6</td>\n    </tr>\n    <tr>\n      <th>275611</th>\n      <td>6032</td>\n      <td>10390</td>\n      <td>Ormdl1</td>\n      <td>l7Rn6</td>\n    </tr>\n    <tr>\n      <th>275612</th>\n      <td>9543</td>\n      <td>10390</td>\n      <td>Txndc17</td>\n      <td>l7Rn6</td>\n    </tr>\n    <tr>\n      <th>275613</th>\n      <td>9138</td>\n      <td>10390</td>\n      <td>Tmem237</td>\n      <td>l7Rn6</td>\n    </tr>\n  </tbody>\n</table>\n<p>275614 rows × 4 columns</p>\n</div>"
     },
     "execution_count": 14,
     "metadata": {},
     "output_type": "execute_result"
    }
   ],
   "source": [
    "new_df['row_gene'] = list[new_df['row'][:]]\n",
    "new_df['col_gene'] = list[new_df['col'][:]]\n",
    "new_df"
   ],
   "metadata": {
    "collapsed": false,
    "ExecuteTime": {
     "end_time": "2023-07-25T08:18:13.405116700Z",
     "start_time": "2023-07-25T08:18:13.375110800Z"
    }
   }
  },
  {
   "cell_type": "code",
   "execution_count": 15,
   "outputs": [],
   "source": [
    "new_df['gene_couple_1'] = new_df['row_gene'] + ' ' + new_df['col_gene']\n",
    "new_df['gene_couple_2'] = new_df['col_gene'] + ' ' + new_df['row_gene']"
   ],
   "metadata": {
    "collapsed": false,
    "ExecuteTime": {
     "end_time": "2023-07-25T08:18:30.658551900Z",
     "start_time": "2023-07-25T08:18:30.578533400Z"
    }
   }
  },
  {
   "cell_type": "code",
   "execution_count": 16,
   "outputs": [
    {
     "data": {
      "text/plain": "         row    col       row_gene  col_gene           gene_couple_1  \\\n0         10    574  0610037L13Rik    Amigo2    0610037L13Rik Amigo2   \n1         21   1566  1110032A03Rik  Cdk5rap2  1110032A03Rik Cdk5rap2   \n2         21   5124  1110032A03Rik      Mest      1110032A03Rik Mest   \n3         21   5840  1110032A03Rik      Npat      1110032A03Rik Npat   \n4         24   5491  1110038B12Rik       Myc       1110038B12Rik Myc   \n...      ...    ...            ...       ...                     ...   \n275609  8857  10390          Tceb2     l7Rn6             Tceb2 l7Rn6   \n275610  5856  10390           Nptn     l7Rn6              Nptn l7Rn6   \n275611  6032  10390         Ormdl1     l7Rn6            Ormdl1 l7Rn6   \n275612  9543  10390        Txndc17     l7Rn6           Txndc17 l7Rn6   \n275613  9138  10390        Tmem237     l7Rn6           Tmem237 l7Rn6   \n\n                 gene_couple_2  \n0         Amigo2 0610037L13Rik  \n1       Cdk5rap2 1110032A03Rik  \n2           Mest 1110032A03Rik  \n3           Npat 1110032A03Rik  \n4            Myc 1110038B12Rik  \n...                        ...  \n275609             l7Rn6 Tceb2  \n275610              l7Rn6 Nptn  \n275611            l7Rn6 Ormdl1  \n275612           l7Rn6 Txndc17  \n275613           l7Rn6 Tmem237  \n\n[275614 rows x 6 columns]",
      "text/html": "<div>\n<style scoped>\n    .dataframe tbody tr th:only-of-type {\n        vertical-align: middle;\n    }\n\n    .dataframe tbody tr th {\n        vertical-align: top;\n    }\n\n    .dataframe thead th {\n        text-align: right;\n    }\n</style>\n<table border=\"1\" class=\"dataframe\">\n  <thead>\n    <tr style=\"text-align: right;\">\n      <th></th>\n      <th>row</th>\n      <th>col</th>\n      <th>row_gene</th>\n      <th>col_gene</th>\n      <th>gene_couple_1</th>\n      <th>gene_couple_2</th>\n    </tr>\n  </thead>\n  <tbody>\n    <tr>\n      <th>0</th>\n      <td>10</td>\n      <td>574</td>\n      <td>0610037L13Rik</td>\n      <td>Amigo2</td>\n      <td>0610037L13Rik Amigo2</td>\n      <td>Amigo2 0610037L13Rik</td>\n    </tr>\n    <tr>\n      <th>1</th>\n      <td>21</td>\n      <td>1566</td>\n      <td>1110032A03Rik</td>\n      <td>Cdk5rap2</td>\n      <td>1110032A03Rik Cdk5rap2</td>\n      <td>Cdk5rap2 1110032A03Rik</td>\n    </tr>\n    <tr>\n      <th>2</th>\n      <td>21</td>\n      <td>5124</td>\n      <td>1110032A03Rik</td>\n      <td>Mest</td>\n      <td>1110032A03Rik Mest</td>\n      <td>Mest 1110032A03Rik</td>\n    </tr>\n    <tr>\n      <th>3</th>\n      <td>21</td>\n      <td>5840</td>\n      <td>1110032A03Rik</td>\n      <td>Npat</td>\n      <td>1110032A03Rik Npat</td>\n      <td>Npat 1110032A03Rik</td>\n    </tr>\n    <tr>\n      <th>4</th>\n      <td>24</td>\n      <td>5491</td>\n      <td>1110038B12Rik</td>\n      <td>Myc</td>\n      <td>1110038B12Rik Myc</td>\n      <td>Myc 1110038B12Rik</td>\n    </tr>\n    <tr>\n      <th>...</th>\n      <td>...</td>\n      <td>...</td>\n      <td>...</td>\n      <td>...</td>\n      <td>...</td>\n      <td>...</td>\n    </tr>\n    <tr>\n      <th>275609</th>\n      <td>8857</td>\n      <td>10390</td>\n      <td>Tceb2</td>\n      <td>l7Rn6</td>\n      <td>Tceb2 l7Rn6</td>\n      <td>l7Rn6 Tceb2</td>\n    </tr>\n    <tr>\n      <th>275610</th>\n      <td>5856</td>\n      <td>10390</td>\n      <td>Nptn</td>\n      <td>l7Rn6</td>\n      <td>Nptn l7Rn6</td>\n      <td>l7Rn6 Nptn</td>\n    </tr>\n    <tr>\n      <th>275611</th>\n      <td>6032</td>\n      <td>10390</td>\n      <td>Ormdl1</td>\n      <td>l7Rn6</td>\n      <td>Ormdl1 l7Rn6</td>\n      <td>l7Rn6 Ormdl1</td>\n    </tr>\n    <tr>\n      <th>275612</th>\n      <td>9543</td>\n      <td>10390</td>\n      <td>Txndc17</td>\n      <td>l7Rn6</td>\n      <td>Txndc17 l7Rn6</td>\n      <td>l7Rn6 Txndc17</td>\n    </tr>\n    <tr>\n      <th>275613</th>\n      <td>9138</td>\n      <td>10390</td>\n      <td>Tmem237</td>\n      <td>l7Rn6</td>\n      <td>Tmem237 l7Rn6</td>\n      <td>l7Rn6 Tmem237</td>\n    </tr>\n  </tbody>\n</table>\n<p>275614 rows × 6 columns</p>\n</div>"
     },
     "execution_count": 16,
     "metadata": {},
     "output_type": "execute_result"
    }
   ],
   "source": [
    "new_df"
   ],
   "metadata": {
    "collapsed": false,
    "ExecuteTime": {
     "end_time": "2023-07-25T08:18:31.822394700Z",
     "start_time": "2023-07-25T08:18:31.788387400Z"
    }
   }
  },
  {
   "cell_type": "code",
   "execution_count": 17,
   "outputs": [],
   "source": [
    "gene_couple = pd.DataFrame()"
   ],
   "metadata": {
    "collapsed": false,
    "ExecuteTime": {
     "end_time": "2023-07-25T08:18:44.718583300Z",
     "start_time": "2023-07-25T08:18:44.703580100Z"
    }
   }
  },
  {
   "cell_type": "code",
   "execution_count": 18,
   "outputs": [],
   "source": [
    "gene_couple['couple'] = pd.concat([new_df['gene_couple_1'], new_df['gene_couple_2']], axis=0)"
   ],
   "metadata": {
    "collapsed": false,
    "ExecuteTime": {
     "end_time": "2023-07-25T08:18:46.600151800Z",
     "start_time": "2023-07-25T08:18:46.557141100Z"
    }
   }
  },
  {
   "cell_type": "code",
   "execution_count": 19,
   "outputs": [],
   "source": [
    "(gene_couple.drop_duplicates()).to_csv('data-processing/gene-couple-mouse-test-new-algorithm-norm.txt', index=False, header=False)"
   ],
   "metadata": {
    "collapsed": false,
    "ExecuteTime": {
     "end_time": "2023-07-25T08:19:13.624232900Z",
     "start_time": "2023-07-25T08:19:13.300159700Z"
    }
   }
  },
  {
   "cell_type": "code",
   "execution_count": 71,
   "outputs": [],
   "source": [],
   "metadata": {
    "collapsed": false,
    "ExecuteTime": {
     "end_time": "2023-07-21T02:21:58.491797400Z",
     "start_time": "2023-07-21T02:21:58.476794500Z"
    }
   }
  },
  {
   "cell_type": "code",
   "execution_count": null,
   "outputs": [],
   "source": [],
   "metadata": {
    "collapsed": false
   }
  }
 ],
 "metadata": {
  "kernelspec": {
   "display_name": "Python 3",
   "language": "python",
   "name": "python3"
  },
  "language_info": {
   "codemirror_mode": {
    "name": "ipython",
    "version": 2
   },
   "file_extension": ".py",
   "mimetype": "text/x-python",
   "name": "python",
   "nbconvert_exporter": "python",
   "pygments_lexer": "ipython2",
   "version": "2.7.6"
  }
 },
 "nbformat": 4,
 "nbformat_minor": 0
}
