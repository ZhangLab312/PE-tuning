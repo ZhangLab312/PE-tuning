{
 "cells": [
  {
   "cell_type": "code",
   "execution_count": 21,
   "metadata": {
    "collapsed": true,
    "ExecuteTime": {
     "end_time": "2023-08-01T12:47:43.315665200Z",
     "start_time": "2023-08-01T12:47:43.242055900Z"
    }
   },
   "outputs": [],
   "source": [
    "import anndata\n",
    "import numpy as np\n",
    "import pandas as pd"
   ]
  },
  {
   "cell_type": "code",
   "execution_count": 22,
   "outputs": [
    {
     "data": {
      "text/plain": "              baseMean  log2FoldChange     lfcSE       stat        pvalue  \\\nGCG      115093.438172       -7.218337  0.486407 -14.840105  8.062908e-50   \nTTR       58693.474671       -3.937116  0.720682  -5.463042  4.680442e-08   \nMUC13      1392.135645       -3.650283  1.112906  -3.279957  1.038230e-03   \nFXYD5       975.657917       -3.246718  0.883103  -3.676489  2.364662e-04   \nCRYBA2      790.555465       -3.067820  0.561637  -5.462283  4.700504e-08   \n...                ...             ...       ...        ...           ...   \nDPYSL3      469.575509        5.212531  1.110040   4.695805  2.655586e-06   \nINS      215523.590138        5.332306  2.753400   1.936626  5.279109e-02   \nADCYAP1    1453.878970        5.491630  2.538010   2.163754  3.048323e-02   \nSST      449900.692764        6.821516  3.333702   2.046228  4.073391e-02   \nPPY      150377.367800        6.886908  3.863836   1.782401  7.468378e-02   \n\n                 padj  \nGCG      3.983077e-46  \nTTR      1.365911e-05  \nMUC13    6.930885e-02  \nFXYD5    2.290477e-02  \nCRYBA2   1.365911e-05  \n...               ...  \nDPYSL3   5.466081e-04  \nINS      8.635364e-01  \nADCYAP1  6.783206e-01  \nSST      7.829786e-01  \nPPY      9.651212e-01  \n\n[4940 rows x 6 columns]",
      "text/html": "<div>\n<style scoped>\n    .dataframe tbody tr th:only-of-type {\n        vertical-align: middle;\n    }\n\n    .dataframe tbody tr th {\n        vertical-align: top;\n    }\n\n    .dataframe thead th {\n        text-align: right;\n    }\n</style>\n<table border=\"1\" class=\"dataframe\">\n  <thead>\n    <tr style=\"text-align: right;\">\n      <th></th>\n      <th>baseMean</th>\n      <th>log2FoldChange</th>\n      <th>lfcSE</th>\n      <th>stat</th>\n      <th>pvalue</th>\n      <th>padj</th>\n    </tr>\n  </thead>\n  <tbody>\n    <tr>\n      <th>GCG</th>\n      <td>115093.438172</td>\n      <td>-7.218337</td>\n      <td>0.486407</td>\n      <td>-14.840105</td>\n      <td>8.062908e-50</td>\n      <td>3.983077e-46</td>\n    </tr>\n    <tr>\n      <th>TTR</th>\n      <td>58693.474671</td>\n      <td>-3.937116</td>\n      <td>0.720682</td>\n      <td>-5.463042</td>\n      <td>4.680442e-08</td>\n      <td>1.365911e-05</td>\n    </tr>\n    <tr>\n      <th>MUC13</th>\n      <td>1392.135645</td>\n      <td>-3.650283</td>\n      <td>1.112906</td>\n      <td>-3.279957</td>\n      <td>1.038230e-03</td>\n      <td>6.930885e-02</td>\n    </tr>\n    <tr>\n      <th>FXYD5</th>\n      <td>975.657917</td>\n      <td>-3.246718</td>\n      <td>0.883103</td>\n      <td>-3.676489</td>\n      <td>2.364662e-04</td>\n      <td>2.290477e-02</td>\n    </tr>\n    <tr>\n      <th>CRYBA2</th>\n      <td>790.555465</td>\n      <td>-3.067820</td>\n      <td>0.561637</td>\n      <td>-5.462283</td>\n      <td>4.700504e-08</td>\n      <td>1.365911e-05</td>\n    </tr>\n    <tr>\n      <th>...</th>\n      <td>...</td>\n      <td>...</td>\n      <td>...</td>\n      <td>...</td>\n      <td>...</td>\n      <td>...</td>\n    </tr>\n    <tr>\n      <th>DPYSL3</th>\n      <td>469.575509</td>\n      <td>5.212531</td>\n      <td>1.110040</td>\n      <td>4.695805</td>\n      <td>2.655586e-06</td>\n      <td>5.466081e-04</td>\n    </tr>\n    <tr>\n      <th>INS</th>\n      <td>215523.590138</td>\n      <td>5.332306</td>\n      <td>2.753400</td>\n      <td>1.936626</td>\n      <td>5.279109e-02</td>\n      <td>8.635364e-01</td>\n    </tr>\n    <tr>\n      <th>ADCYAP1</th>\n      <td>1453.878970</td>\n      <td>5.491630</td>\n      <td>2.538010</td>\n      <td>2.163754</td>\n      <td>3.048323e-02</td>\n      <td>6.783206e-01</td>\n    </tr>\n    <tr>\n      <th>SST</th>\n      <td>449900.692764</td>\n      <td>6.821516</td>\n      <td>3.333702</td>\n      <td>2.046228</td>\n      <td>4.073391e-02</td>\n      <td>7.829786e-01</td>\n    </tr>\n    <tr>\n      <th>PPY</th>\n      <td>150377.367800</td>\n      <td>6.886908</td>\n      <td>3.863836</td>\n      <td>1.782401</td>\n      <td>7.468378e-02</td>\n      <td>9.651212e-01</td>\n    </tr>\n  </tbody>\n</table>\n<p>4940 rows × 6 columns</p>\n</div>"
     },
     "execution_count": 22,
     "metadata": {},
     "output_type": "execute_result"
    }
   ],
   "source": [
    "df_alpha = pd.read_csv('../data/result/DE_result_alpha.csv', index_col=0, header=0)\n",
    "df_alpha = df_alpha.sort_values(by='log2FoldChange')\n",
    "df_alpha"
   ],
   "metadata": {
    "collapsed": false,
    "ExecuteTime": {
     "end_time": "2023-08-01T12:47:43.363676600Z",
     "start_time": "2023-08-01T12:47:43.254059Z"
    }
   }
  },
  {
   "cell_type": "code",
   "execution_count": 23,
   "outputs": [
    {
     "data": {
      "text/plain": "-3.9371163975554"
     },
     "execution_count": 23,
     "metadata": {},
     "output_type": "execute_result"
    }
   ],
   "source": [
    "df_alpha.loc['TTR', 'log2FoldChange']"
   ],
   "metadata": {
    "collapsed": false,
    "ExecuteTime": {
     "end_time": "2023-08-01T12:47:43.363676600Z",
     "start_time": "2023-08-01T12:47:43.283657800Z"
    }
   }
  },
  {
   "cell_type": "code",
   "execution_count": 24,
   "outputs": [
    {
     "data": {
      "text/plain": "               baseMean  log2FoldChange     lfcSE       stat        pvalue  \\\nINS       215523.590138       -6.227825  0.680493  -9.151935  5.592256e-20   \nIAPP       38162.193711       -5.967969  0.610257  -9.779431  1.379837e-22   \nADCYAP1     1453.878970       -5.349008  0.807452  -6.624551  3.483043e-11   \nIGF2         765.832589       -4.469323  0.802783  -5.567288  2.587340e-08   \nMEG3         414.133693       -3.753647  0.503525  -7.454741  9.004445e-14   \n...                 ...             ...       ...        ...           ...   \nMUC13       1392.135645        5.273738  1.893802   2.784735  5.357142e-03   \nSERPINA1   11641.571715        5.361720  0.413698  12.960468  2.049933e-38   \nSST       449900.692764        5.680946  3.470213   1.637060  1.016180e-01   \nGCG       115093.438172        5.970682  3.190556   1.871361  6.129505e-02   \nPPY       150377.367800        8.390008  3.707018   2.263277  2.361864e-02   \n\n                  padj  \nINS       6.906437e-17  \nIAPP      3.408197e-19  \nADCYAP1   1.720623e-08  \nIGF2      5.809754e-06  \nMEG3      7.413659e-11  \n...                ...  \nMUC13     1.989796e-01  \nSERPINA1  1.012667e-34  \nSST       9.589907e-01  \nGCG       7.627143e-01  \nPPY       4.941333e-01  \n\n[4940 rows x 6 columns]",
      "text/html": "<div>\n<style scoped>\n    .dataframe tbody tr th:only-of-type {\n        vertical-align: middle;\n    }\n\n    .dataframe tbody tr th {\n        vertical-align: top;\n    }\n\n    .dataframe thead th {\n        text-align: right;\n    }\n</style>\n<table border=\"1\" class=\"dataframe\">\n  <thead>\n    <tr style=\"text-align: right;\">\n      <th></th>\n      <th>baseMean</th>\n      <th>log2FoldChange</th>\n      <th>lfcSE</th>\n      <th>stat</th>\n      <th>pvalue</th>\n      <th>padj</th>\n    </tr>\n  </thead>\n  <tbody>\n    <tr>\n      <th>INS</th>\n      <td>215523.590138</td>\n      <td>-6.227825</td>\n      <td>0.680493</td>\n      <td>-9.151935</td>\n      <td>5.592256e-20</td>\n      <td>6.906437e-17</td>\n    </tr>\n    <tr>\n      <th>IAPP</th>\n      <td>38162.193711</td>\n      <td>-5.967969</td>\n      <td>0.610257</td>\n      <td>-9.779431</td>\n      <td>1.379837e-22</td>\n      <td>3.408197e-19</td>\n    </tr>\n    <tr>\n      <th>ADCYAP1</th>\n      <td>1453.878970</td>\n      <td>-5.349008</td>\n      <td>0.807452</td>\n      <td>-6.624551</td>\n      <td>3.483043e-11</td>\n      <td>1.720623e-08</td>\n    </tr>\n    <tr>\n      <th>IGF2</th>\n      <td>765.832589</td>\n      <td>-4.469323</td>\n      <td>0.802783</td>\n      <td>-5.567288</td>\n      <td>2.587340e-08</td>\n      <td>5.809754e-06</td>\n    </tr>\n    <tr>\n      <th>MEG3</th>\n      <td>414.133693</td>\n      <td>-3.753647</td>\n      <td>0.503525</td>\n      <td>-7.454741</td>\n      <td>9.004445e-14</td>\n      <td>7.413659e-11</td>\n    </tr>\n    <tr>\n      <th>...</th>\n      <td>...</td>\n      <td>...</td>\n      <td>...</td>\n      <td>...</td>\n      <td>...</td>\n      <td>...</td>\n    </tr>\n    <tr>\n      <th>MUC13</th>\n      <td>1392.135645</td>\n      <td>5.273738</td>\n      <td>1.893802</td>\n      <td>2.784735</td>\n      <td>5.357142e-03</td>\n      <td>1.989796e-01</td>\n    </tr>\n    <tr>\n      <th>SERPINA1</th>\n      <td>11641.571715</td>\n      <td>5.361720</td>\n      <td>0.413698</td>\n      <td>12.960468</td>\n      <td>2.049933e-38</td>\n      <td>1.012667e-34</td>\n    </tr>\n    <tr>\n      <th>SST</th>\n      <td>449900.692764</td>\n      <td>5.680946</td>\n      <td>3.470213</td>\n      <td>1.637060</td>\n      <td>1.016180e-01</td>\n      <td>9.589907e-01</td>\n    </tr>\n    <tr>\n      <th>GCG</th>\n      <td>115093.438172</td>\n      <td>5.970682</td>\n      <td>3.190556</td>\n      <td>1.871361</td>\n      <td>6.129505e-02</td>\n      <td>7.627143e-01</td>\n    </tr>\n    <tr>\n      <th>PPY</th>\n      <td>150377.367800</td>\n      <td>8.390008</td>\n      <td>3.707018</td>\n      <td>2.263277</td>\n      <td>2.361864e-02</td>\n      <td>4.941333e-01</td>\n    </tr>\n  </tbody>\n</table>\n<p>4940 rows × 6 columns</p>\n</div>"
     },
     "execution_count": 24,
     "metadata": {},
     "output_type": "execute_result"
    }
   ],
   "source": [
    "df_beta = pd.read_csv('../data/result/DE_result_beta.csv', index_col=0, header=0)\n",
    "df_beta = df_beta.sort_values(by='log2FoldChange')\n",
    "df_beta"
   ],
   "metadata": {
    "collapsed": false,
    "ExecuteTime": {
     "end_time": "2023-08-01T12:47:43.364676Z",
     "start_time": "2023-08-01T12:47:43.314665600Z"
    }
   }
  },
  {
   "cell_type": "code",
   "execution_count": 25,
   "outputs": [
    {
     "data": {
      "text/plain": "            baseMean  log2FoldChange     lfcSE       stat        pvalue  \\\nSST    449900.692764       -7.830733  0.610432 -12.828178  1.140141e-37   \nRGS2      888.870252       -2.859725  0.467901  -6.111810  9.850712e-10   \nDHRS2     873.055204       -2.336662  1.013737  -2.304998  2.116671e-02   \nPCK1      413.634218       -2.173060  0.605322  -3.589926  3.307719e-04   \nNCOA7     252.006089       -2.091333  0.943028  -2.217679  2.657675e-02   \n...              ...             ...       ...        ...           ...   \nINS    215523.590138        3.916501  2.810674   1.393438  1.634874e-01   \nGNG4     1116.604742        3.944895  0.549861   7.174344  7.265476e-13   \nG6PC2    1204.559261        4.728997  0.980086   4.825082  1.399457e-06   \nGCG    115093.438172        5.852604  3.206060   1.825481  6.792842e-02   \nPPY    150377.367800        8.542033  3.691171   2.314180  2.065785e-02   \n\n               padj  \nSST    4.757809e-34  \nRGS2   1.027676e-06  \nDHRS2  9.998330e-01  \nPCK1   9.859364e-02  \nNCOA7  9.998330e-01  \n...             ...  \nINS    9.998330e-01  \nGNG4   1.515942e-09  \nG6PC2  8.342765e-04  \nGCG    9.998330e-01  \nPPY    9.998330e-01  \n\n[4940 rows x 6 columns]",
      "text/html": "<div>\n<style scoped>\n    .dataframe tbody tr th:only-of-type {\n        vertical-align: middle;\n    }\n\n    .dataframe tbody tr th {\n        vertical-align: top;\n    }\n\n    .dataframe thead th {\n        text-align: right;\n    }\n</style>\n<table border=\"1\" class=\"dataframe\">\n  <thead>\n    <tr style=\"text-align: right;\">\n      <th></th>\n      <th>baseMean</th>\n      <th>log2FoldChange</th>\n      <th>lfcSE</th>\n      <th>stat</th>\n      <th>pvalue</th>\n      <th>padj</th>\n    </tr>\n  </thead>\n  <tbody>\n    <tr>\n      <th>SST</th>\n      <td>449900.692764</td>\n      <td>-7.830733</td>\n      <td>0.610432</td>\n      <td>-12.828178</td>\n      <td>1.140141e-37</td>\n      <td>4.757809e-34</td>\n    </tr>\n    <tr>\n      <th>RGS2</th>\n      <td>888.870252</td>\n      <td>-2.859725</td>\n      <td>0.467901</td>\n      <td>-6.111810</td>\n      <td>9.850712e-10</td>\n      <td>1.027676e-06</td>\n    </tr>\n    <tr>\n      <th>DHRS2</th>\n      <td>873.055204</td>\n      <td>-2.336662</td>\n      <td>1.013737</td>\n      <td>-2.304998</td>\n      <td>2.116671e-02</td>\n      <td>9.998330e-01</td>\n    </tr>\n    <tr>\n      <th>PCK1</th>\n      <td>413.634218</td>\n      <td>-2.173060</td>\n      <td>0.605322</td>\n      <td>-3.589926</td>\n      <td>3.307719e-04</td>\n      <td>9.859364e-02</td>\n    </tr>\n    <tr>\n      <th>NCOA7</th>\n      <td>252.006089</td>\n      <td>-2.091333</td>\n      <td>0.943028</td>\n      <td>-2.217679</td>\n      <td>2.657675e-02</td>\n      <td>9.998330e-01</td>\n    </tr>\n    <tr>\n      <th>...</th>\n      <td>...</td>\n      <td>...</td>\n      <td>...</td>\n      <td>...</td>\n      <td>...</td>\n      <td>...</td>\n    </tr>\n    <tr>\n      <th>INS</th>\n      <td>215523.590138</td>\n      <td>3.916501</td>\n      <td>2.810674</td>\n      <td>1.393438</td>\n      <td>1.634874e-01</td>\n      <td>9.998330e-01</td>\n    </tr>\n    <tr>\n      <th>GNG4</th>\n      <td>1116.604742</td>\n      <td>3.944895</td>\n      <td>0.549861</td>\n      <td>7.174344</td>\n      <td>7.265476e-13</td>\n      <td>1.515942e-09</td>\n    </tr>\n    <tr>\n      <th>G6PC2</th>\n      <td>1204.559261</td>\n      <td>4.728997</td>\n      <td>0.980086</td>\n      <td>4.825082</td>\n      <td>1.399457e-06</td>\n      <td>8.342765e-04</td>\n    </tr>\n    <tr>\n      <th>GCG</th>\n      <td>115093.438172</td>\n      <td>5.852604</td>\n      <td>3.206060</td>\n      <td>1.825481</td>\n      <td>6.792842e-02</td>\n      <td>9.998330e-01</td>\n    </tr>\n    <tr>\n      <th>PPY</th>\n      <td>150377.367800</td>\n      <td>8.542033</td>\n      <td>3.691171</td>\n      <td>2.314180</td>\n      <td>2.065785e-02</td>\n      <td>9.998330e-01</td>\n    </tr>\n  </tbody>\n</table>\n<p>4940 rows × 6 columns</p>\n</div>"
     },
     "execution_count": 25,
     "metadata": {},
     "output_type": "execute_result"
    }
   ],
   "source": [
    "df_delta = pd.read_csv('../data/result/DE_result_delta.csv', index_col=0, header=0)\n",
    "df_delta = df_delta.sort_values(by='log2FoldChange')\n",
    "df_delta"
   ],
   "metadata": {
    "collapsed": false,
    "ExecuteTime": {
     "end_time": "2023-08-01T12:47:43.365676200Z",
     "start_time": "2023-08-01T12:47:43.332669100Z"
    }
   }
  },
  {
   "cell_type": "code",
   "execution_count": 26,
   "outputs": [
    {
     "data": {
      "text/plain": "               baseMean  log2FoldChange     lfcSE       stat        pvalue  \\\nPPY       150377.367800       -9.311700  0.773255 -12.042212  2.131621e-33   \nSPOCK1       125.142885       -3.513959  0.791379  -4.440296  8.983506e-06   \nSLC6A4       204.952846       -3.173898  0.813869  -3.899767  9.628547e-05   \nGCNT3        242.764326       -3.122148  0.666613  -4.683599  2.818818e-06   \nC11orf96     300.204518       -3.063474  1.143675  -2.678622  7.392585e-03   \n...                 ...             ...       ...        ...           ...   \nIAPP       38162.193711        4.538358  2.902854   1.563413  1.179556e-01   \nPPP1R1A     3541.756123        5.216954  0.582787   8.951736  3.499354e-19   \nGCG       115093.438172        5.239089  3.283843   1.595414  1.106198e-01   \nINS       215523.590138        5.250506  2.755594   1.905399  5.672824e-02   \nSST       449900.692764        6.523874  3.370395   1.935641  5.291174e-02   \n\n                  padj  \nPPY       1.053021e-29  \nSPOCK1    6.230019e-03  \nSLC6A4    2.797942e-02  \nGCNT3     2.320827e-03  \nC11orf96  6.521316e-01  \n...                ...  \nIAPP      9.993786e-01  \nPPP1R1A   8.643404e-16  \nGCG       9.993786e-01  \nINS       9.993786e-01  \nSST       9.993786e-01  \n\n[4940 rows x 6 columns]",
      "text/html": "<div>\n<style scoped>\n    .dataframe tbody tr th:only-of-type {\n        vertical-align: middle;\n    }\n\n    .dataframe tbody tr th {\n        vertical-align: top;\n    }\n\n    .dataframe thead th {\n        text-align: right;\n    }\n</style>\n<table border=\"1\" class=\"dataframe\">\n  <thead>\n    <tr style=\"text-align: right;\">\n      <th></th>\n      <th>baseMean</th>\n      <th>log2FoldChange</th>\n      <th>lfcSE</th>\n      <th>stat</th>\n      <th>pvalue</th>\n      <th>padj</th>\n    </tr>\n  </thead>\n  <tbody>\n    <tr>\n      <th>PPY</th>\n      <td>150377.367800</td>\n      <td>-9.311700</td>\n      <td>0.773255</td>\n      <td>-12.042212</td>\n      <td>2.131621e-33</td>\n      <td>1.053021e-29</td>\n    </tr>\n    <tr>\n      <th>SPOCK1</th>\n      <td>125.142885</td>\n      <td>-3.513959</td>\n      <td>0.791379</td>\n      <td>-4.440296</td>\n      <td>8.983506e-06</td>\n      <td>6.230019e-03</td>\n    </tr>\n    <tr>\n      <th>SLC6A4</th>\n      <td>204.952846</td>\n      <td>-3.173898</td>\n      <td>0.813869</td>\n      <td>-3.899767</td>\n      <td>9.628547e-05</td>\n      <td>2.797942e-02</td>\n    </tr>\n    <tr>\n      <th>GCNT3</th>\n      <td>242.764326</td>\n      <td>-3.122148</td>\n      <td>0.666613</td>\n      <td>-4.683599</td>\n      <td>2.818818e-06</td>\n      <td>2.320827e-03</td>\n    </tr>\n    <tr>\n      <th>C11orf96</th>\n      <td>300.204518</td>\n      <td>-3.063474</td>\n      <td>1.143675</td>\n      <td>-2.678622</td>\n      <td>7.392585e-03</td>\n      <td>6.521316e-01</td>\n    </tr>\n    <tr>\n      <th>...</th>\n      <td>...</td>\n      <td>...</td>\n      <td>...</td>\n      <td>...</td>\n      <td>...</td>\n      <td>...</td>\n    </tr>\n    <tr>\n      <th>IAPP</th>\n      <td>38162.193711</td>\n      <td>4.538358</td>\n      <td>2.902854</td>\n      <td>1.563413</td>\n      <td>1.179556e-01</td>\n      <td>9.993786e-01</td>\n    </tr>\n    <tr>\n      <th>PPP1R1A</th>\n      <td>3541.756123</td>\n      <td>5.216954</td>\n      <td>0.582787</td>\n      <td>8.951736</td>\n      <td>3.499354e-19</td>\n      <td>8.643404e-16</td>\n    </tr>\n    <tr>\n      <th>GCG</th>\n      <td>115093.438172</td>\n      <td>5.239089</td>\n      <td>3.283843</td>\n      <td>1.595414</td>\n      <td>1.106198e-01</td>\n      <td>9.993786e-01</td>\n    </tr>\n    <tr>\n      <th>INS</th>\n      <td>215523.590138</td>\n      <td>5.250506</td>\n      <td>2.755594</td>\n      <td>1.905399</td>\n      <td>5.672824e-02</td>\n      <td>9.993786e-01</td>\n    </tr>\n    <tr>\n      <th>SST</th>\n      <td>449900.692764</td>\n      <td>6.523874</td>\n      <td>3.370395</td>\n      <td>1.935641</td>\n      <td>5.291174e-02</td>\n      <td>9.993786e-01</td>\n    </tr>\n  </tbody>\n</table>\n<p>4940 rows × 6 columns</p>\n</div>"
     },
     "execution_count": 26,
     "metadata": {},
     "output_type": "execute_result"
    }
   ],
   "source": [
    "df_gamma = pd.read_csv('../data/result/DE_result_gamma.csv', index_col=0, header=0)\n",
    "df_gamma = df_gamma.sort_values(by='log2FoldChange')\n",
    "df_gamma"
   ],
   "metadata": {
    "collapsed": false,
    "ExecuteTime": {
     "end_time": "2023-08-01T12:47:43.428690900Z",
     "start_time": "2023-08-01T12:47:43.362675900Z"
    }
   }
  },
  {
   "cell_type": "code",
   "execution_count": 27,
   "outputs": [],
   "source": [
    "gene_index_alpha = df_alpha.iloc[:5].index.tolist()\n",
    "gene_index_beta = df_beta.iloc[:5].index.tolist()\n",
    "gene_index_delta = df_delta.iloc[:5].index.tolist()\n",
    "gene_index_gamma = df_gamma.iloc[:5].index.tolist()"
   ],
   "metadata": {
    "collapsed": false,
    "ExecuteTime": {
     "end_time": "2023-08-01T12:47:43.456696400Z",
     "start_time": "2023-08-01T12:47:43.397684Z"
    }
   }
  },
  {
   "cell_type": "code",
   "execution_count": 28,
   "outputs": [
    {
     "data": {
      "text/plain": "['GCG',\n 'TTR',\n 'MUC13',\n 'FXYD5',\n 'CRYBA2',\n 'INS',\n 'IAPP',\n 'ADCYAP1',\n 'IGF2',\n 'MEG3',\n 'SST',\n 'RGS2',\n 'DHRS2',\n 'PCK1',\n 'NCOA7',\n 'PPY',\n 'SPOCK1',\n 'SLC6A4',\n 'GCNT3',\n 'C11orf96']"
     },
     "execution_count": 28,
     "metadata": {},
     "output_type": "execute_result"
    }
   ],
   "source": [
    "gene_index = gene_index_alpha + gene_index_beta + gene_index_delta + gene_index_gamma\n",
    "gene_index"
   ],
   "metadata": {
    "collapsed": false,
    "ExecuteTime": {
     "end_time": "2023-08-01T12:47:43.536714900Z",
     "start_time": "2023-08-01T12:47:43.412686500Z"
    }
   }
  },
  {
   "cell_type": "code",
   "execution_count": 29,
   "outputs": [],
   "source": [
    "cell_index = ['Alpha', 'Beta', 'Delta', 'Gamma']"
   ],
   "metadata": {
    "collapsed": false,
    "ExecuteTime": {
     "end_time": "2023-08-01T12:47:43.580724Z",
     "start_time": "2023-08-01T12:47:43.428690900Z"
    }
   }
  },
  {
   "cell_type": "code",
   "execution_count": 30,
   "outputs": [
    {
     "data": {
      "text/plain": "       GCG  TTR MUC13 FXYD5 CRYBA2  INS IAPP ADCYAP1 IGF2 MEG3  SST RGS2  \\\nAlpha  NaN  NaN   NaN   NaN    NaN  NaN  NaN     NaN  NaN  NaN  NaN  NaN   \nBeta   NaN  NaN   NaN   NaN    NaN  NaN  NaN     NaN  NaN  NaN  NaN  NaN   \nDelta  NaN  NaN   NaN   NaN    NaN  NaN  NaN     NaN  NaN  NaN  NaN  NaN   \nGamma  NaN  NaN   NaN   NaN    NaN  NaN  NaN     NaN  NaN  NaN  NaN  NaN   \n\n      DHRS2 PCK1 NCOA7  PPY SPOCK1 SLC6A4 GCNT3 C11orf96  \nAlpha   NaN  NaN   NaN  NaN    NaN    NaN   NaN      NaN  \nBeta    NaN  NaN   NaN  NaN    NaN    NaN   NaN      NaN  \nDelta   NaN  NaN   NaN  NaN    NaN    NaN   NaN      NaN  \nGamma   NaN  NaN   NaN  NaN    NaN    NaN   NaN      NaN  ",
      "text/html": "<div>\n<style scoped>\n    .dataframe tbody tr th:only-of-type {\n        vertical-align: middle;\n    }\n\n    .dataframe tbody tr th {\n        vertical-align: top;\n    }\n\n    .dataframe thead th {\n        text-align: right;\n    }\n</style>\n<table border=\"1\" class=\"dataframe\">\n  <thead>\n    <tr style=\"text-align: right;\">\n      <th></th>\n      <th>GCG</th>\n      <th>TTR</th>\n      <th>MUC13</th>\n      <th>FXYD5</th>\n      <th>CRYBA2</th>\n      <th>INS</th>\n      <th>IAPP</th>\n      <th>ADCYAP1</th>\n      <th>IGF2</th>\n      <th>MEG3</th>\n      <th>SST</th>\n      <th>RGS2</th>\n      <th>DHRS2</th>\n      <th>PCK1</th>\n      <th>NCOA7</th>\n      <th>PPY</th>\n      <th>SPOCK1</th>\n      <th>SLC6A4</th>\n      <th>GCNT3</th>\n      <th>C11orf96</th>\n    </tr>\n  </thead>\n  <tbody>\n    <tr>\n      <th>Alpha</th>\n      <td>NaN</td>\n      <td>NaN</td>\n      <td>NaN</td>\n      <td>NaN</td>\n      <td>NaN</td>\n      <td>NaN</td>\n      <td>NaN</td>\n      <td>NaN</td>\n      <td>NaN</td>\n      <td>NaN</td>\n      <td>NaN</td>\n      <td>NaN</td>\n      <td>NaN</td>\n      <td>NaN</td>\n      <td>NaN</td>\n      <td>NaN</td>\n      <td>NaN</td>\n      <td>NaN</td>\n      <td>NaN</td>\n      <td>NaN</td>\n    </tr>\n    <tr>\n      <th>Beta</th>\n      <td>NaN</td>\n      <td>NaN</td>\n      <td>NaN</td>\n      <td>NaN</td>\n      <td>NaN</td>\n      <td>NaN</td>\n      <td>NaN</td>\n      <td>NaN</td>\n      <td>NaN</td>\n      <td>NaN</td>\n      <td>NaN</td>\n      <td>NaN</td>\n      <td>NaN</td>\n      <td>NaN</td>\n      <td>NaN</td>\n      <td>NaN</td>\n      <td>NaN</td>\n      <td>NaN</td>\n      <td>NaN</td>\n      <td>NaN</td>\n    </tr>\n    <tr>\n      <th>Delta</th>\n      <td>NaN</td>\n      <td>NaN</td>\n      <td>NaN</td>\n      <td>NaN</td>\n      <td>NaN</td>\n      <td>NaN</td>\n      <td>NaN</td>\n      <td>NaN</td>\n      <td>NaN</td>\n      <td>NaN</td>\n      <td>NaN</td>\n      <td>NaN</td>\n      <td>NaN</td>\n      <td>NaN</td>\n      <td>NaN</td>\n      <td>NaN</td>\n      <td>NaN</td>\n      <td>NaN</td>\n      <td>NaN</td>\n      <td>NaN</td>\n    </tr>\n    <tr>\n      <th>Gamma</th>\n      <td>NaN</td>\n      <td>NaN</td>\n      <td>NaN</td>\n      <td>NaN</td>\n      <td>NaN</td>\n      <td>NaN</td>\n      <td>NaN</td>\n      <td>NaN</td>\n      <td>NaN</td>\n      <td>NaN</td>\n      <td>NaN</td>\n      <td>NaN</td>\n      <td>NaN</td>\n      <td>NaN</td>\n      <td>NaN</td>\n      <td>NaN</td>\n      <td>NaN</td>\n      <td>NaN</td>\n      <td>NaN</td>\n      <td>NaN</td>\n    </tr>\n  </tbody>\n</table>\n</div>"
     },
     "execution_count": 30,
     "metadata": {},
     "output_type": "execute_result"
    }
   ],
   "source": [
    "df = pd.DataFrame(index=cell_index, columns=gene_index)\n",
    "df"
   ],
   "metadata": {
    "collapsed": false,
    "ExecuteTime": {
     "end_time": "2023-08-01T12:47:43.625734600Z",
     "start_time": "2023-08-01T12:47:43.442693300Z"
    }
   }
  },
  {
   "cell_type": "code",
   "execution_count": 31,
   "outputs": [],
   "source": [
    "df_test = df"
   ],
   "metadata": {
    "collapsed": false,
    "ExecuteTime": {
     "end_time": "2023-08-01T12:47:43.636736900Z",
     "start_time": "2023-08-01T12:47:43.458697200Z"
    }
   }
  },
  {
   "cell_type": "code",
   "execution_count": 32,
   "outputs": [
    {
     "data": {
      "text/plain": "['GCG',\n 'TTR',\n 'MUC13',\n 'FXYD5',\n 'CRYBA2',\n 'INS',\n 'IAPP',\n 'ADCYAP1',\n 'IGF2',\n 'MEG3',\n 'SST',\n 'RGS2',\n 'DHRS2',\n 'PCK1',\n 'NCOA7',\n 'PPY',\n 'SPOCK1',\n 'SLC6A4',\n 'GCNT3',\n 'C11orf96']"
     },
     "execution_count": 32,
     "metadata": {},
     "output_type": "execute_result"
    }
   ],
   "source": [
    "df_test.columns.tolist()"
   ],
   "metadata": {
    "collapsed": false,
    "ExecuteTime": {
     "end_time": "2023-08-01T12:47:43.654741100Z",
     "start_time": "2023-08-01T12:47:43.475701200Z"
    }
   }
  },
  {
   "cell_type": "code",
   "execution_count": 33,
   "outputs": [],
   "source": [
    "df_test.loc['Alpha', :] = df_alpha.loc[df_test.columns, 'log2FoldChange']\n",
    "df_test.loc['Beta', :] = df_beta.loc[df_test.columns, 'log2FoldChange']\n",
    "df_test.loc['Delta', :] = df_delta.loc[df_test.columns, 'log2FoldChange']\n",
    "df_test.loc['Gamma', :] = df_gamma.loc[df_test.columns, 'log2FoldChange']"
   ],
   "metadata": {
    "collapsed": false,
    "ExecuteTime": {
     "end_time": "2023-08-01T12:47:43.655741200Z",
     "start_time": "2023-08-01T12:47:43.504707700Z"
    }
   }
  },
  {
   "cell_type": "code",
   "execution_count": 34,
   "outputs": [
    {
     "data": {
      "text/plain": "            GCG       TTR     MUC13     FXYD5    CRYBA2       INS      IAPP  \\\nAlpha -7.218337 -3.937116 -3.650283 -3.246718  -3.06782  5.332306  5.206221   \nBeta   5.970682  3.056485  5.273738   2.71588  2.564009 -6.227825 -5.967969   \nDelta  5.852604  3.375184  2.368254  3.315798  1.495752  3.916501  3.845681   \nGamma  5.239089   1.68113  1.227026  0.794154  1.489385  5.250506  4.538358   \n\n        ADCYAP1      IGF2      MEG3       SST      RGS2     DHRS2      PCK1  \\\nAlpha   5.49163  4.528819  2.317708  6.821516  1.552992  2.564213  1.973096   \nBeta  -5.349008 -4.469323 -3.753647  5.680946  1.998658 -0.158436  0.701256   \nDelta  3.515684  2.207251  2.957883 -7.830733 -2.859725 -2.336662  -2.17306   \nGamma   3.23899  3.053819  1.927776  6.523874  1.360483  2.756708  0.889516   \n\n          NCOA7       PPY    SPOCK1    SLC6A4     GCNT3  C11orf96  \nAlpha  0.926547  6.886908  2.891684  1.356447  1.424274  2.974054  \nBeta   3.252626  8.390008  3.010271  3.485771  2.878052  4.085667  \nDelta -2.091333  8.542033  1.109956  1.461241  1.508008   0.35339  \nGamma  0.118671   -9.3117 -3.513959 -3.173898 -3.122148 -3.063474  ",
      "text/html": "<div>\n<style scoped>\n    .dataframe tbody tr th:only-of-type {\n        vertical-align: middle;\n    }\n\n    .dataframe tbody tr th {\n        vertical-align: top;\n    }\n\n    .dataframe thead th {\n        text-align: right;\n    }\n</style>\n<table border=\"1\" class=\"dataframe\">\n  <thead>\n    <tr style=\"text-align: right;\">\n      <th></th>\n      <th>GCG</th>\n      <th>TTR</th>\n      <th>MUC13</th>\n      <th>FXYD5</th>\n      <th>CRYBA2</th>\n      <th>INS</th>\n      <th>IAPP</th>\n      <th>ADCYAP1</th>\n      <th>IGF2</th>\n      <th>MEG3</th>\n      <th>SST</th>\n      <th>RGS2</th>\n      <th>DHRS2</th>\n      <th>PCK1</th>\n      <th>NCOA7</th>\n      <th>PPY</th>\n      <th>SPOCK1</th>\n      <th>SLC6A4</th>\n      <th>GCNT3</th>\n      <th>C11orf96</th>\n    </tr>\n  </thead>\n  <tbody>\n    <tr>\n      <th>Alpha</th>\n      <td>-7.218337</td>\n      <td>-3.937116</td>\n      <td>-3.650283</td>\n      <td>-3.246718</td>\n      <td>-3.06782</td>\n      <td>5.332306</td>\n      <td>5.206221</td>\n      <td>5.49163</td>\n      <td>4.528819</td>\n      <td>2.317708</td>\n      <td>6.821516</td>\n      <td>1.552992</td>\n      <td>2.564213</td>\n      <td>1.973096</td>\n      <td>0.926547</td>\n      <td>6.886908</td>\n      <td>2.891684</td>\n      <td>1.356447</td>\n      <td>1.424274</td>\n      <td>2.974054</td>\n    </tr>\n    <tr>\n      <th>Beta</th>\n      <td>5.970682</td>\n      <td>3.056485</td>\n      <td>5.273738</td>\n      <td>2.71588</td>\n      <td>2.564009</td>\n      <td>-6.227825</td>\n      <td>-5.967969</td>\n      <td>-5.349008</td>\n      <td>-4.469323</td>\n      <td>-3.753647</td>\n      <td>5.680946</td>\n      <td>1.998658</td>\n      <td>-0.158436</td>\n      <td>0.701256</td>\n      <td>3.252626</td>\n      <td>8.390008</td>\n      <td>3.010271</td>\n      <td>3.485771</td>\n      <td>2.878052</td>\n      <td>4.085667</td>\n    </tr>\n    <tr>\n      <th>Delta</th>\n      <td>5.852604</td>\n      <td>3.375184</td>\n      <td>2.368254</td>\n      <td>3.315798</td>\n      <td>1.495752</td>\n      <td>3.916501</td>\n      <td>3.845681</td>\n      <td>3.515684</td>\n      <td>2.207251</td>\n      <td>2.957883</td>\n      <td>-7.830733</td>\n      <td>-2.859725</td>\n      <td>-2.336662</td>\n      <td>-2.17306</td>\n      <td>-2.091333</td>\n      <td>8.542033</td>\n      <td>1.109956</td>\n      <td>1.461241</td>\n      <td>1.508008</td>\n      <td>0.35339</td>\n    </tr>\n    <tr>\n      <th>Gamma</th>\n      <td>5.239089</td>\n      <td>1.68113</td>\n      <td>1.227026</td>\n      <td>0.794154</td>\n      <td>1.489385</td>\n      <td>5.250506</td>\n      <td>4.538358</td>\n      <td>3.23899</td>\n      <td>3.053819</td>\n      <td>1.927776</td>\n      <td>6.523874</td>\n      <td>1.360483</td>\n      <td>2.756708</td>\n      <td>0.889516</td>\n      <td>0.118671</td>\n      <td>-9.3117</td>\n      <td>-3.513959</td>\n      <td>-3.173898</td>\n      <td>-3.122148</td>\n      <td>-3.063474</td>\n    </tr>\n  </tbody>\n</table>\n</div>"
     },
     "execution_count": 34,
     "metadata": {},
     "output_type": "execute_result"
    }
   ],
   "source": [
    "df_test"
   ],
   "metadata": {
    "collapsed": false,
    "ExecuteTime": {
     "end_time": "2023-08-01T12:47:43.655741200Z",
     "start_time": "2023-08-01T12:47:43.509710100Z"
    }
   }
  },
  {
   "cell_type": "code",
   "execution_count": 35,
   "outputs": [],
   "source": [
    "df_test.to_csv('../data/result/DE_result.csv')"
   ],
   "metadata": {
    "collapsed": false,
    "ExecuteTime": {
     "end_time": "2023-08-01T12:47:43.677746200Z",
     "start_time": "2023-08-01T12:47:43.522711700Z"
    }
   }
  },
  {
   "cell_type": "code",
   "execution_count": 36,
   "outputs": [
    {
     "data": {
      "text/plain": "    index    column     value\n0   Alpha       GCG -7.218337\n1    Beta       GCG  5.970682\n2   Delta       GCG  5.852604\n3   Gamma       GCG  5.239089\n4   Alpha       TTR -3.937116\n..    ...       ...       ...\n75  Gamma     GCNT3 -3.122148\n76  Alpha  C11orf96  2.974054\n77   Beta  C11orf96  4.085667\n78  Delta  C11orf96   0.35339\n79  Gamma  C11orf96 -3.063474\n\n[80 rows x 3 columns]",
      "text/html": "<div>\n<style scoped>\n    .dataframe tbody tr th:only-of-type {\n        vertical-align: middle;\n    }\n\n    .dataframe tbody tr th {\n        vertical-align: top;\n    }\n\n    .dataframe thead th {\n        text-align: right;\n    }\n</style>\n<table border=\"1\" class=\"dataframe\">\n  <thead>\n    <tr style=\"text-align: right;\">\n      <th></th>\n      <th>index</th>\n      <th>column</th>\n      <th>value</th>\n    </tr>\n  </thead>\n  <tbody>\n    <tr>\n      <th>0</th>\n      <td>Alpha</td>\n      <td>GCG</td>\n      <td>-7.218337</td>\n    </tr>\n    <tr>\n      <th>1</th>\n      <td>Beta</td>\n      <td>GCG</td>\n      <td>5.970682</td>\n    </tr>\n    <tr>\n      <th>2</th>\n      <td>Delta</td>\n      <td>GCG</td>\n      <td>5.852604</td>\n    </tr>\n    <tr>\n      <th>3</th>\n      <td>Gamma</td>\n      <td>GCG</td>\n      <td>5.239089</td>\n    </tr>\n    <tr>\n      <th>4</th>\n      <td>Alpha</td>\n      <td>TTR</td>\n      <td>-3.937116</td>\n    </tr>\n    <tr>\n      <th>...</th>\n      <td>...</td>\n      <td>...</td>\n      <td>...</td>\n    </tr>\n    <tr>\n      <th>75</th>\n      <td>Gamma</td>\n      <td>GCNT3</td>\n      <td>-3.122148</td>\n    </tr>\n    <tr>\n      <th>76</th>\n      <td>Alpha</td>\n      <td>C11orf96</td>\n      <td>2.974054</td>\n    </tr>\n    <tr>\n      <th>77</th>\n      <td>Beta</td>\n      <td>C11orf96</td>\n      <td>4.085667</td>\n    </tr>\n    <tr>\n      <th>78</th>\n      <td>Delta</td>\n      <td>C11orf96</td>\n      <td>0.35339</td>\n    </tr>\n    <tr>\n      <th>79</th>\n      <td>Gamma</td>\n      <td>C11orf96</td>\n      <td>-3.063474</td>\n    </tr>\n  </tbody>\n</table>\n<p>80 rows × 3 columns</p>\n</div>"
     },
     "execution_count": 36,
     "metadata": {},
     "output_type": "execute_result"
    }
   ],
   "source": [
    "# 假设您有一个名为df的DataFrame\n",
    "# 您可以使用以下代码将其转换为一个新的DataFrame\n",
    "new_df = df_test.reset_index().melt(id_vars='index', value_vars=df.columns, var_name='column', value_name='value')\n",
    "\n",
    "# 现在new_df是一个新的DataFrame，它包含三列：'index'、'column'和'value'\n",
    "new_df\n"
   ],
   "metadata": {
    "collapsed": false,
    "ExecuteTime": {
     "end_time": "2023-08-01T12:47:43.677746200Z",
     "start_time": "2023-08-01T12:47:43.542716100Z"
    }
   }
  },
  {
   "cell_type": "code",
   "execution_count": 37,
   "outputs": [],
   "source": [
    "new_df_rev = new_df"
   ],
   "metadata": {
    "collapsed": false,
    "ExecuteTime": {
     "end_time": "2023-08-01T12:47:43.678746500Z",
     "start_time": "2023-08-01T12:47:43.555720700Z"
    }
   }
  },
  {
   "cell_type": "code",
   "execution_count": 38,
   "outputs": [
    {
     "data": {
      "text/plain": "    index    column     value\n0   Alpha       GCG  7.218337\n1    Beta       GCG -5.970682\n2   Delta       GCG -5.852604\n3   Gamma       GCG -5.239089\n4   Alpha       TTR  3.937116\n..    ...       ...       ...\n75  Gamma     GCNT3  3.122148\n76  Alpha  C11orf96 -2.974054\n77   Beta  C11orf96 -4.085667\n78  Delta  C11orf96  -0.35339\n79  Gamma  C11orf96  3.063474\n\n[80 rows x 3 columns]",
      "text/html": "<div>\n<style scoped>\n    .dataframe tbody tr th:only-of-type {\n        vertical-align: middle;\n    }\n\n    .dataframe tbody tr th {\n        vertical-align: top;\n    }\n\n    .dataframe thead th {\n        text-align: right;\n    }\n</style>\n<table border=\"1\" class=\"dataframe\">\n  <thead>\n    <tr style=\"text-align: right;\">\n      <th></th>\n      <th>index</th>\n      <th>column</th>\n      <th>value</th>\n    </tr>\n  </thead>\n  <tbody>\n    <tr>\n      <th>0</th>\n      <td>Alpha</td>\n      <td>GCG</td>\n      <td>7.218337</td>\n    </tr>\n    <tr>\n      <th>1</th>\n      <td>Beta</td>\n      <td>GCG</td>\n      <td>-5.970682</td>\n    </tr>\n    <tr>\n      <th>2</th>\n      <td>Delta</td>\n      <td>GCG</td>\n      <td>-5.852604</td>\n    </tr>\n    <tr>\n      <th>3</th>\n      <td>Gamma</td>\n      <td>GCG</td>\n      <td>-5.239089</td>\n    </tr>\n    <tr>\n      <th>4</th>\n      <td>Alpha</td>\n      <td>TTR</td>\n      <td>3.937116</td>\n    </tr>\n    <tr>\n      <th>...</th>\n      <td>...</td>\n      <td>...</td>\n      <td>...</td>\n    </tr>\n    <tr>\n      <th>75</th>\n      <td>Gamma</td>\n      <td>GCNT3</td>\n      <td>3.122148</td>\n    </tr>\n    <tr>\n      <th>76</th>\n      <td>Alpha</td>\n      <td>C11orf96</td>\n      <td>-2.974054</td>\n    </tr>\n    <tr>\n      <th>77</th>\n      <td>Beta</td>\n      <td>C11orf96</td>\n      <td>-4.085667</td>\n    </tr>\n    <tr>\n      <th>78</th>\n      <td>Delta</td>\n      <td>C11orf96</td>\n      <td>-0.35339</td>\n    </tr>\n    <tr>\n      <th>79</th>\n      <td>Gamma</td>\n      <td>C11orf96</td>\n      <td>3.063474</td>\n    </tr>\n  </tbody>\n</table>\n<p>80 rows × 3 columns</p>\n</div>"
     },
     "execution_count": 38,
     "metadata": {},
     "output_type": "execute_result"
    }
   ],
   "source": [
    "new_df_rev['value'] = -1 * new_df_rev['value']\n",
    "new_df_rev"
   ],
   "metadata": {
    "collapsed": false,
    "ExecuteTime": {
     "end_time": "2023-08-01T12:47:43.710753800Z",
     "start_time": "2023-08-01T12:47:43.569722100Z"
    }
   }
  },
  {
   "cell_type": "code",
   "execution_count": 47,
   "outputs": [
    {
     "name": "stderr",
     "output_type": "stream",
     "text": [
      "C:\\Users\\25363\\anaconda3\\envs\\scVI\\lib\\site-packages\\seaborn\\axisgrid.py:118: UserWarning: The figure layout has changed to tight\n",
      "  self._figure.tight_layout(*args, **kwargs)\n"
     ]
    }
   ],
   "source": [
    "# %matplotlib inline\n",
    "import matplotlib\n",
    "matplotlib.use('svg')\n",
    "import matplotlib.pyplot as plt\n",
    "import seaborn as sns\n",
    "\n",
    "\n",
    "sns.set_theme(style=\"whitegrid\")  # 设置 seaborn 主题为白色网格\n",
    "# 设置字体大小\n",
    "sns.set_context(\"notebook\", font_scale=0.85)\n",
    "# plt.rcParams['font.weight'] = 'bold'\n",
    "\n",
    "\n",
    "g = sns.relplot(\n",
    "    data=new_df_rev,\n",
    "    x=\"column\", y=\"index\", hue=\"value\", size=\"value\",\n",
    "    palette=\"vlag\", edgecolor=\".2\",\n",
    "    height=25, aspect=0.3, sizes=(30, 150)\n",
    ")\n",
    "\n",
    "# 调整图形以完成\n",
    "g.set(xlabel=\"\", ylabel=\"\", aspect=2.5, )  # 设置 x 轴和 y 轴标签为空，纵横比为相等\n",
    "g.despine(left=True, bottom=True)  # 去除左边和底部轴线\n",
    "g.ax.margins(.06)  # 设置边距\n",
    "for label in g.ax.get_xticklabels():  # 遍历 x 轴刻度标签\n",
    "    label.set_rotation(90)  # 将标签旋转 90 度\n",
    "for artist in g.legend.legend_handles:  # 遍历图例句柄\n",
    "    artist.set_edgecolor(\".7\")  # 设置边缘颜色为灰色"
   ],
   "metadata": {
    "collapsed": false,
    "ExecuteTime": {
     "end_time": "2023-08-01T12:52:06.244976400Z",
     "start_time": "2023-08-01T12:52:05.780873Z"
    }
   }
  },
  {
   "cell_type": "code",
   "execution_count": 48,
   "outputs": [],
   "source": [
    "plt.savefig(\"./result-test.svg\", format=\"svg\")"
   ],
   "metadata": {
    "collapsed": false,
    "ExecuteTime": {
     "end_time": "2023-08-01T12:52:06.892712900Z",
     "start_time": "2023-08-01T12:52:06.634633700Z"
    }
   }
  },
  {
   "cell_type": "code",
   "execution_count": 40,
   "outputs": [],
   "source": [],
   "metadata": {
    "collapsed": false,
    "ExecuteTime": {
     "end_time": "2023-08-01T12:47:44.270879100Z",
     "start_time": "2023-08-01T12:47:44.241873100Z"
    }
   }
  },
  {
   "cell_type": "code",
   "execution_count": null,
   "outputs": [],
   "source": [],
   "metadata": {
    "collapsed": false
   }
  },
  {
   "cell_type": "code",
   "execution_count": 40,
   "outputs": [],
   "source": [],
   "metadata": {
    "collapsed": false,
    "ExecuteTime": {
     "end_time": "2023-08-01T12:47:44.285882100Z",
     "start_time": "2023-08-01T12:47:44.258876500Z"
    }
   }
  }
 ],
 "metadata": {
  "kernelspec": {
   "display_name": "Python 3",
   "language": "python",
   "name": "python3"
  },
  "language_info": {
   "codemirror_mode": {
    "name": "ipython",
    "version": 2
   },
   "file_extension": ".py",
   "mimetype": "text/x-python",
   "name": "python",
   "nbconvert_exporter": "python",
   "pygments_lexer": "ipython2",
   "version": "2.7.6"
  }
 },
 "nbformat": 4,
 "nbformat_minor": 0
}
