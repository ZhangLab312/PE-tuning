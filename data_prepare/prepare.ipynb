{
 "cells": [
  {
   "cell_type": "code",
   "execution_count": 14,
   "metadata": {
    "collapsed": true,
    "ExecuteTime": {
     "end_time": "2023-07-18T08:24:24.984430100Z",
     "start_time": "2023-07-18T08:24:24.947110100Z"
    }
   },
   "outputs": [],
   "source": [
    "import scanpy as sc\n",
    "import torch\n",
    "import seaborn as sns\n",
    "import os\n",
    "import scvi\n",
    "import pandas as pd\n",
    "import numpy as np"
   ]
  },
  {
   "cell_type": "code",
   "execution_count": 15,
   "outputs": [
    {
     "data": {
      "text/plain": "True"
     },
     "execution_count": 15,
     "metadata": {},
     "output_type": "execute_result"
    }
   ],
   "source": [
    "torch.has_cuda"
   ],
   "metadata": {
    "collapsed": false,
    "ExecuteTime": {
     "end_time": "2023-07-18T08:24:25.109438700Z",
     "start_time": "2023-07-18T08:24:24.950107200Z"
    }
   }
  },
  {
   "cell_type": "code",
   "execution_count": 16,
   "outputs": [
    {
     "name": "stderr",
     "output_type": "stream",
     "text": [
      "Global seed set to 0\n"
     ]
    }
   ],
   "source": [
    "scvi.settings.seed = 0"
   ],
   "metadata": {
    "collapsed": false,
    "ExecuteTime": {
     "end_time": "2023-07-18T08:24:25.109438700Z",
     "start_time": "2023-07-18T08:24:24.968803600Z"
    }
   }
  },
  {
   "cell_type": "code",
   "execution_count": 17,
   "outputs": [
    {
     "data": {
      "text/plain": "array(['FAU', 'MRPL13', 'RPL10', 'RPL10A', 'RPL10L', 'RPL11', 'RPL12',\n       'RPL13', 'RPL13A', 'RPL14', 'RPL15', 'RPL17', 'RPL18', 'RPL18A',\n       'RPL19', 'RPL21', 'RPL22', 'RPL22L1', 'RPL23', 'RPL23A', 'RPL24',\n       'RPL26', 'RPL26L1', 'RPL27', 'RPL27A', 'RPL28', 'RPL29', 'RPL3',\n       'RPL30', 'RPL31', 'RPL32', 'RPL34', 'RPL35', 'RPL35A', 'RPL36',\n       'RPL36A', 'RPL36AL', 'RPL37', 'RPL37A', 'RPL38', 'RPL39', 'RPL3L',\n       'RPL4', 'RPL41', 'RPL5', 'RPL6', 'RPL7', 'RPL7A', 'RPL8', 'RPL9',\n       'RPLP0', 'RPLP1', 'RPLP2', 'RPS10', 'RPS11', 'RPS12', 'RPS13',\n       'RPS15', 'RPS15A', 'RPS16', 'RPS17', 'RPS18', 'RPS19', 'RPS2',\n       'RPS20', 'RPS21', 'RPS23', 'RPS24', 'RPS25', 'RPS26', 'RPS27',\n       'RPS27A', 'RPS27L', 'RPS28', 'RPS29', 'RPS3', 'RPS3A', 'RPS4X',\n       'RPS4Y1', 'RPS5', 'RPS6', 'RPS7', 'RPS8', 'RPS9', 'RPSA',\n       'RSL24D1', 'RSL24D1P11', 'UBA52'], dtype=object)"
     },
     "execution_count": 17,
     "metadata": {},
     "output_type": "execute_result"
    }
   ],
   "source": [
    "# ribo_url = \"http://software.broadinstitute.org/gsea/msigdb/download_geneset.jsp?geneSetName=KEGG_RIBOSOME&fileType=txt\"\n",
    "# ribo_genes = pd.read_table(ribo_url, skiprows=2, header=None)\n",
    "\n",
    "# 文件的头两行没用，所以跳过2行\n",
    "ribo_genes = pd.read_table('./KEGG_RIBOSOME.v2023.1.Hs.txt', skiprows=2, header=None)\n",
    "ribo_genes[0].values"
   ],
   "metadata": {
    "collapsed": false,
    "ExecuteTime": {
     "end_time": "2023-07-18T08:24:25.109438700Z",
     "start_time": "2023-07-18T08:24:24.984430100Z"
    }
   }
  },
  {
   "cell_type": "code",
   "execution_count": 18,
   "outputs": [],
   "source": [
    "file_path = 'dataset-mouse-gene/new/'\n",
    "save_path = 'dataset-mouse-gene/'"
   ],
   "metadata": {
    "collapsed": false,
    "ExecuteTime": {
     "end_time": "2023-07-18T08:24:25.109438700Z",
     "start_time": "2023-07-18T08:24:25.000055600Z"
    }
   }
  },
  {
   "cell_type": "code",
   "execution_count": 19,
   "outputs": [],
   "source": [
    "def pp(csv_path):\n",
    "    adata = sc.read_csv(csv_path)\n",
    "\n",
    "    # 使读入的细胞名称进行编号，例如多个 A 细胞则编号成 A-1, A-2\n",
    "    adata.obs_names_make_unique()\n",
    "    adata.var_names_make_unique()\n",
    "\n",
    "    # 过滤至少超过在10个细胞中表达的基因\n",
    "    # sc.pp.filter_genes(adata, min_cells = 10)\n",
    "    # sc.pp.highly_variable_genes(adata, n_top_genes = 2000, subset = True, flavor = 'seurat_v3')\n",
    "\n",
    "    # 训练模型\n",
    "    scvi.model.SCVI.setup_anndata(adata)\n",
    "    vae = scvi.model.SCVI(adata)\n",
    "    vae.train()\n",
    "\n",
    "    # 计算doublet\n",
    "    solo = scvi.external.SOLO.from_scvi_model(vae)\n",
    "    solo.train()\n",
    "\n",
    "    # 标记doublet\n",
    "    df = solo.predict()\n",
    "    df['prediction'] = solo.predict(soft = False)\n",
    "    # df.index = df.index.map(lambda x: x[:-2])\n",
    "    df['dif'] = df.doublet - df.singlet\n",
    "    doublets = df[(df.prediction == 'doublet') & (df.dif > 1)]\n",
    "    # doublets = df[(df.prediction == 'doublet')]\n",
    "    sns.displot(df[df.prediction == 'doublet'], x = 'dif')\n",
    "\n",
    "    adata1 = sc.read_csv(csv_path)\n",
    "    adata1.var_names_make_unique()\n",
    "    adata1.obs_names_make_unique()\n",
    "    adata1.obs['Sample'] = (csv_path.split('_')[0]).split('/')[2] #'raw_counts/GSM5226574_C51ctr_raw_counts.csv'\n",
    "\n",
    "    # 筛去 doublet\n",
    "    adata1.obs['doublet'] = adata1.obs.index.isin(doublets.index)\n",
    "    adata1 = adata1[~adata1.obs.doublet]\n",
    "\n",
    "\n",
    "    # sc.pp.filter_cells(adata1, min_genes=200) #get rid of cells with fewer than 200 genes\n",
    "    #sc.pp.filter_genes(adata, min_cells=3) #get rid of genes that are found in fewer than 3 cells\n",
    "\n",
    "    adata1.var['mt'] = adata1.var.index.str.startswith('MT-')  # annotate the group of mitochondrial genes as 'mt'\n",
    "    adata1.var['ribo'] = adata1.var_names.isin(ribo_genes[0].values)\n",
    "\n",
    "    sc.pp.calculate_qc_metrics(adata1, qc_vars=['mt', 'ribo'], percent_top=None, log1p=False, inplace=True)\n",
    "    upper_lim = np.quantile(adata1.obs.n_genes_by_counts.values, .98)\n",
    "\n",
    "    adata2 = adata1[adata1.obs.n_genes_by_counts < upper_lim]\n",
    "\n",
    "    # 过滤线粒体 MT和血红蛋白 ribo\n",
    "    # adata2 = adata2[adata2.obs.pct_counts_mt < 20]\n",
    "    # adata2 = adata2[adata2.obs.pct_counts_ribo < 2]\n",
    "\n",
    "    return adata2"
   ],
   "metadata": {
    "collapsed": false,
    "ExecuteTime": {
     "end_time": "2023-07-18T08:24:25.109438700Z",
     "start_time": "2023-07-18T08:24:25.015681900Z"
    }
   }
  },
  {
   "cell_type": "code",
   "execution_count": 20,
   "outputs": [
    {
     "name": "stderr",
     "output_type": "stream",
     "text": [
      "C:\\Users\\25363\\anaconda3\\envs\\scVI\\lib\\site-packages\\anndata\\_core\\anndata.py:1830: UserWarning: Observation names are not unique. To make them unique, call `.obs_names_make_unique`.\n",
      "  utils.warn_names_duplicates(\"obs\")\n",
      "No GPU/TPU found, falling back to CPU. (Set TF_CPP_MIN_LOG_LEVEL=0 and rerun for more info.)\n",
      "GPU available: True (cuda), used: True\n",
      "TPU available: False, using: 0 TPU cores\n",
      "IPU available: False, using: 0 IPUs\n",
      "HPU available: False, using: 0 HPUs\n",
      "LOCAL_RANK: 0 - CUDA_VISIBLE_DEVICES: [0]\n",
      "C:\\Users\\25363\\anaconda3\\envs\\scVI\\lib\\site-packages\\lightning\\pytorch\\loops\\fit_loop.py:280: PossibleUserWarning: The number of training batches (6) is smaller than the logging interval Trainer(log_every_n_steps=10). Set a lower value for log_every_n_steps if you want to see logs for the training epoch.\n",
      "  rank_zero_warn(\n"
     ]
    },
    {
     "name": "stdout",
     "output_type": "stream",
     "text": [
      "Epoch 400/400: 100%|██████████| 400/400 [00:49<00:00,  8.58it/s, v_num=1, train_loss_step=4.26e+3, train_loss_epoch=4.07e+3]"
     ]
    },
    {
     "name": "stderr",
     "output_type": "stream",
     "text": [
      "`Trainer.fit` stopped: `max_epochs=400` reached.\n"
     ]
    },
    {
     "name": "stdout",
     "output_type": "stream",
     "text": [
      "Epoch 400/400: 100%|██████████| 400/400 [00:49<00:00,  8.08it/s, v_num=1, train_loss_step=4.26e+3, train_loss_epoch=4.07e+3]\n",
      "\u001B[34mINFO    \u001B[0m Creating doublets, preparing SOLO model.                                                                  \n"
     ]
    },
    {
     "name": "stderr",
     "output_type": "stream",
     "text": [
      "GPU available: True (cuda), used: True\n",
      "TPU available: False, using: 0 TPU cores\n",
      "IPU available: False, using: 0 IPUs\n",
      "HPU available: False, using: 0 HPUs\n",
      "LOCAL_RANK: 0 - CUDA_VISIBLE_DEVICES: [0]\n"
     ]
    },
    {
     "name": "stdout",
     "output_type": "stream",
     "text": [
      "Epoch 347/400:  87%|████████▋ | 347/400 [00:20<00:03, 16.57it/s, v_num=1, train_loss_step=0.196, train_loss_epoch=0.208]\n",
      "Monitored metric validation_loss did not improve in the last 30 records. Best score: 0.269. Signaling Trainer to stop.\n"
     ]
    },
    {
     "name": "stderr",
     "output_type": "stream",
     "text": [
      "C:\\Users\\25363\\anaconda3\\envs\\scVI\\lib\\site-packages\\seaborn\\axisgrid.py:118: UserWarning: The figure layout has changed to tight\n",
      "  self._figure.tight_layout(*args, **kwargs)\n",
      "C:\\Users\\25363\\anaconda3\\envs\\scVI\\lib\\site-packages\\anndata\\_core\\anndata.py:1830: UserWarning: Observation names are not unique. To make them unique, call `.obs_names_make_unique`.\n",
      "  utils.warn_names_duplicates(\"obs\")\n",
      "C:\\Users\\25363\\AppData\\Local\\Temp\\ipykernel_3288\\3247757311.py:43: ImplicitModificationWarning: Trying to modify attribute `.var` of view, initializing view as actual.\n",
      "  adata1.var['mt'] = adata1.var.index.str.startswith('MT-')  # annotate the group of mitochondrial genes as 'mt'\n",
      "C:\\Users\\25363\\anaconda3\\envs\\scVI\\lib\\site-packages\\anndata\\_core\\anndata.py:1830: UserWarning: Observation names are not unique. To make them unique, call `.obs_names_make_unique`.\n",
      "  utils.warn_names_duplicates(\"obs\")\n",
      "GPU available: True (cuda), used: True\n",
      "TPU available: False, using: 0 TPU cores\n",
      "IPU available: False, using: 0 IPUs\n",
      "HPU available: False, using: 0 HPUs\n",
      "LOCAL_RANK: 0 - CUDA_VISIBLE_DEVICES: [0]\n",
      "C:\\Users\\25363\\anaconda3\\envs\\scVI\\lib\\site-packages\\lightning\\pytorch\\loops\\fit_loop.py:280: PossibleUserWarning: The number of training batches (8) is smaller than the logging interval Trainer(log_every_n_steps=10). Set a lower value for log_every_n_steps if you want to see logs for the training epoch.\n",
      "  rank_zero_warn(\n"
     ]
    },
    {
     "name": "stdout",
     "output_type": "stream",
     "text": [
      "Epoch 400/400: 100%|██████████| 400/400 [00:58<00:00,  6.46it/s, v_num=1, train_loss_step=5.65e+3, train_loss_epoch=5.11e+3]"
     ]
    },
    {
     "name": "stderr",
     "output_type": "stream",
     "text": [
      "`Trainer.fit` stopped: `max_epochs=400` reached.\n"
     ]
    },
    {
     "name": "stdout",
     "output_type": "stream",
     "text": [
      "Epoch 400/400: 100%|██████████| 400/400 [00:58<00:00,  6.84it/s, v_num=1, train_loss_step=5.65e+3, train_loss_epoch=5.11e+3]\n",
      "\u001B[34mINFO    \u001B[0m Creating doublets, preparing SOLO model.                                                                  \n"
     ]
    },
    {
     "name": "stderr",
     "output_type": "stream",
     "text": [
      "GPU available: True (cuda), used: True\n",
      "TPU available: False, using: 0 TPU cores\n",
      "IPU available: False, using: 0 IPUs\n",
      "HPU available: False, using: 0 HPUs\n",
      "LOCAL_RANK: 0 - CUDA_VISIBLE_DEVICES: [0]\n"
     ]
    },
    {
     "name": "stdout",
     "output_type": "stream",
     "text": [
      "Epoch 400/400: 100%|██████████| 400/400 [00:30<00:00, 14.92it/s, v_num=1, train_loss_step=0.366, train_loss_epoch=0.253]"
     ]
    },
    {
     "name": "stderr",
     "output_type": "stream",
     "text": [
      "`Trainer.fit` stopped: `max_epochs=400` reached.\n"
     ]
    },
    {
     "name": "stdout",
     "output_type": "stream",
     "text": [
      "Epoch 400/400: 100%|██████████| 400/400 [00:30<00:00, 13.32it/s, v_num=1, train_loss_step=0.366, train_loss_epoch=0.253]\n"
     ]
    },
    {
     "name": "stderr",
     "output_type": "stream",
     "text": [
      "C:\\Users\\25363\\anaconda3\\envs\\scVI\\lib\\site-packages\\seaborn\\axisgrid.py:118: UserWarning: The figure layout has changed to tight\n",
      "  self._figure.tight_layout(*args, **kwargs)\n",
      "C:\\Users\\25363\\anaconda3\\envs\\scVI\\lib\\site-packages\\anndata\\_core\\anndata.py:1830: UserWarning: Observation names are not unique. To make them unique, call `.obs_names_make_unique`.\n",
      "  utils.warn_names_duplicates(\"obs\")\n",
      "C:\\Users\\25363\\AppData\\Local\\Temp\\ipykernel_3288\\3247757311.py:43: ImplicitModificationWarning: Trying to modify attribute `.var` of view, initializing view as actual.\n",
      "  adata1.var['mt'] = adata1.var.index.str.startswith('MT-')  # annotate the group of mitochondrial genes as 'mt'\n"
     ]
    },
    {
     "data": {
      "text/plain": "<Figure size 500x500 with 1 Axes>",
      "image/png": "[encoded data removed]"
     },
     "metadata": {},
     "output_type": "display_data"
    },
    {
     "data": {
      "text/plain": "<Figure size 500x500 with 1 Axes>",
      "image/png": "[encoded data removed]"
     },
     "metadata": {},
     "output_type": "display_data"
    }
   ],
   "source": [
    "out = []\n",
    "for file in os.listdir(file_path):\n",
    "    out.append(pp(file_path + file))"
   ],
   "metadata": {
    "collapsed": false,
    "ExecuteTime": {
     "end_time": "2023-07-18T08:27:19.026581900Z",
     "start_time": "2023-07-18T08:24:25.031308100Z"
    }
   }
  },
  {
   "cell_type": "code",
   "execution_count": 21,
   "outputs": [
    {
     "data": {
      "text/plain": "[View of AnnData object with n_obs × n_vars = 761 × 14878\n     obs: 'Sample', 'doublet', 'n_genes_by_counts', 'total_counts', 'total_counts_mt', 'pct_counts_mt', 'total_counts_ribo', 'pct_counts_ribo'\n     var: 'mt', 'ribo', 'n_cells_by_counts', 'mean_counts', 'pct_dropout_by_counts', 'total_counts',\n View of AnnData object with n_obs × n_vars = 951 × 14878\n     obs: 'Sample', 'doublet', 'n_genes_by_counts', 'total_counts', 'total_counts_mt', 'pct_counts_mt', 'total_counts_ribo', 'pct_counts_ribo'\n     var: 'mt', 'ribo', 'n_cells_by_counts', 'mean_counts', 'pct_dropout_by_counts', 'total_counts']"
     },
     "execution_count": 21,
     "metadata": {},
     "output_type": "execute_result"
    }
   ],
   "source": [
    "out"
   ],
   "metadata": {
    "collapsed": false,
    "ExecuteTime": {
     "end_time": "2023-07-18T08:27:19.073461400Z",
     "start_time": "2023-07-18T08:27:19.026581900Z"
    }
   }
  },
  {
   "cell_type": "code",
   "execution_count": 22,
   "outputs": [
    {
     "data": {
      "text/plain": "AnnData object with n_obs × n_vars = 1712 × 14878\n    obs: 'Sample', 'doublet', 'n_genes_by_counts', 'total_counts', 'total_counts_mt', 'pct_counts_mt', 'total_counts_ribo', 'pct_counts_ribo'"
     },
     "execution_count": 22,
     "metadata": {},
     "output_type": "execute_result"
    }
   ],
   "source": [
    "# adata3 = sc.concat(out)\n",
    "adata3 = sc.concat(out, axis=0)\n",
    "# adata3 = out[1]\n",
    "adata3"
   ],
   "metadata": {
    "collapsed": false,
    "ExecuteTime": {
     "end_time": "2023-07-18T08:27:19.104713100Z",
     "start_time": "2023-07-18T08:27:19.042208600Z"
    }
   }
  },
  {
   "cell_type": "code",
   "execution_count": 23,
   "outputs": [],
   "source": [
    "# 给每个区分了名称的细胞标签重新打上标签\n",
    "cell_label = adata3.obs.index.str.split('#').str[0]\n",
    "adata3.obs['cell_label'] = cell_label"
   ],
   "metadata": {
    "collapsed": false,
    "ExecuteTime": {
     "end_time": "2023-07-18T08:27:19.120338700Z",
     "start_time": "2023-07-18T08:27:19.104713100Z"
    }
   }
  },
  {
   "cell_type": "code",
   "execution_count": 24,
   "outputs": [
    {
     "data": {
      "text/plain": "                             Sample  doublet  n_genes_by_counts  total_counts  \\\ndelta#1-1                GSM2230761    False               2548        7640.0   \nbeta#1-1                 GSM2230761    False               2828       11616.0   \nbeta#1-2                 GSM2230761    False               2534        9066.0   \nductal#1-1               GSM2230761    False               2863        7054.0   \nductal#1-2               GSM2230761    False               2837        7175.0   \n...                             ...      ...                ...           ...   \nbeta#2-549               GSM2230762    False                805        2115.0   \nbeta#2-550               GSM2230762    False                778        1864.0   \nductal#2-37              GSM2230762    False               1010        1714.0   \nquiescent_stellate#2-17  GSM2230762    False                888        1502.0   \nductal#2-38              GSM2230762    False                860        1591.0   \n\n                         total_counts_mt  pct_counts_mt  total_counts_ribo  \\\ndelta#1-1                            0.0            0.0                0.0   \nbeta#1-1                             0.0            0.0                0.0   \nbeta#1-2                             0.0            0.0                0.0   \nductal#1-1                           0.0            0.0                0.0   \nductal#1-2                           0.0            0.0                0.0   \n...                                  ...            ...                ...   \nbeta#2-549                           0.0            0.0                0.0   \nbeta#2-550                           0.0            0.0                0.0   \nductal#2-37                          0.0            0.0                0.0   \nquiescent_stellate#2-17              0.0            0.0                0.0   \nductal#2-38                          0.0            0.0                0.0   \n\n                         pct_counts_ribo          cell_label  \ndelta#1-1                            0.0               delta  \nbeta#1-1                             0.0                beta  \nbeta#1-2                             0.0                beta  \nductal#1-1                           0.0              ductal  \nductal#1-2                           0.0              ductal  \n...                                  ...                 ...  \nbeta#2-549                           0.0                beta  \nbeta#2-550                           0.0                beta  \nductal#2-37                          0.0              ductal  \nquiescent_stellate#2-17              0.0  quiescent_stellate  \nductal#2-38                          0.0              ductal  \n\n[1712 rows x 9 columns]",
      "text/html": "<div>\n<style scoped>\n    .dataframe tbody tr th:only-of-type {\n        vertical-align: middle;\n    }\n\n    .dataframe tbody tr th {\n        vertical-align: top;\n    }\n\n    .dataframe thead th {\n        text-align: right;\n    }\n</style>\n<table border=\"1\" class=\"dataframe\">\n  <thead>\n    <tr style=\"text-align: right;\">\n      <th></th>\n      <th>Sample</th>\n      <th>doublet</th>\n      <th>n_genes_by_counts</th>\n      <th>total_counts</th>\n      <th>total_counts_mt</th>\n      <th>pct_counts_mt</th>\n      <th>total_counts_ribo</th>\n      <th>pct_counts_ribo</th>\n      <th>cell_label</th>\n    </tr>\n  </thead>\n  <tbody>\n    <tr>\n      <th>delta#1-1</th>\n      <td>GSM2230761</td>\n      <td>False</td>\n      <td>2548</td>\n      <td>7640.0</td>\n      <td>0.0</td>\n      <td>0.0</td>\n      <td>0.0</td>\n      <td>0.0</td>\n      <td>delta</td>\n    </tr>\n    <tr>\n      <th>beta#1-1</th>\n      <td>GSM2230761</td>\n      <td>False</td>\n      <td>2828</td>\n      <td>11616.0</td>\n      <td>0.0</td>\n      <td>0.0</td>\n      <td>0.0</td>\n      <td>0.0</td>\n      <td>beta</td>\n    </tr>\n    <tr>\n      <th>beta#1-2</th>\n      <td>GSM2230761</td>\n      <td>False</td>\n      <td>2534</td>\n      <td>9066.0</td>\n      <td>0.0</td>\n      <td>0.0</td>\n      <td>0.0</td>\n      <td>0.0</td>\n      <td>beta</td>\n    </tr>\n    <tr>\n      <th>ductal#1-1</th>\n      <td>GSM2230761</td>\n      <td>False</td>\n      <td>2863</td>\n      <td>7054.0</td>\n      <td>0.0</td>\n      <td>0.0</td>\n      <td>0.0</td>\n      <td>0.0</td>\n      <td>ductal</td>\n    </tr>\n    <tr>\n      <th>ductal#1-2</th>\n      <td>GSM2230761</td>\n      <td>False</td>\n      <td>2837</td>\n      <td>7175.0</td>\n      <td>0.0</td>\n      <td>0.0</td>\n      <td>0.0</td>\n      <td>0.0</td>\n      <td>ductal</td>\n    </tr>\n    <tr>\n      <th>...</th>\n      <td>...</td>\n      <td>...</td>\n      <td>...</td>\n      <td>...</td>\n      <td>...</td>\n      <td>...</td>\n      <td>...</td>\n      <td>...</td>\n      <td>...</td>\n    </tr>\n    <tr>\n      <th>beta#2-549</th>\n      <td>GSM2230762</td>\n      <td>False</td>\n      <td>805</td>\n      <td>2115.0</td>\n      <td>0.0</td>\n      <td>0.0</td>\n      <td>0.0</td>\n      <td>0.0</td>\n      <td>beta</td>\n    </tr>\n    <tr>\n      <th>beta#2-550</th>\n      <td>GSM2230762</td>\n      <td>False</td>\n      <td>778</td>\n      <td>1864.0</td>\n      <td>0.0</td>\n      <td>0.0</td>\n      <td>0.0</td>\n      <td>0.0</td>\n      <td>beta</td>\n    </tr>\n    <tr>\n      <th>ductal#2-37</th>\n      <td>GSM2230762</td>\n      <td>False</td>\n      <td>1010</td>\n      <td>1714.0</td>\n      <td>0.0</td>\n      <td>0.0</td>\n      <td>0.0</td>\n      <td>0.0</td>\n      <td>ductal</td>\n    </tr>\n    <tr>\n      <th>quiescent_stellate#2-17</th>\n      <td>GSM2230762</td>\n      <td>False</td>\n      <td>888</td>\n      <td>1502.0</td>\n      <td>0.0</td>\n      <td>0.0</td>\n      <td>0.0</td>\n      <td>0.0</td>\n      <td>quiescent_stellate</td>\n    </tr>\n    <tr>\n      <th>ductal#2-38</th>\n      <td>GSM2230762</td>\n      <td>False</td>\n      <td>860</td>\n      <td>1591.0</td>\n      <td>0.0</td>\n      <td>0.0</td>\n      <td>0.0</td>\n      <td>0.0</td>\n      <td>ductal</td>\n    </tr>\n  </tbody>\n</table>\n<p>1712 rows × 9 columns</p>\n</div>"
     },
     "execution_count": 24,
     "metadata": {},
     "output_type": "execute_result"
    }
   ],
   "source": [
    "adata3.obs"
   ],
   "metadata": {
    "collapsed": false,
    "ExecuteTime": {
     "end_time": "2023-07-18T08:27:19.135964700Z",
     "start_time": "2023-07-18T08:27:19.120338700Z"
    }
   }
  },
  {
   "cell_type": "code",
   "execution_count": 25,
   "outputs": [
    {
     "data": {
      "text/plain": "Empty DataFrame\nColumns: []\nIndex: [0610007P14Rik, 0610009B22Rik, 0610009E02Rik, 0610009L18Rik, 0610009O20Rik, 0610010F05Rik, 0610010K14Rik, 0610011F06Rik, 0610012G03Rik, 0610025J13Rik, 0610030E20Rik, 0610037L13Rik, 0610040B10Rik, 0610040J01Rik, 1010001N08Rik, 1110001J03Rik, 1110002L01Rik, 1110004E09Rik, 1110004F10Rik, 1110008F13Rik, 1110008L16Rik, 1110008P14Rik, 1110012L19Rik, 1110017D15Rik, 1110019D14Rik, 1110020A21Rik, 1110032A03Rik, 1110032F04Rik, 1110034G24Rik, 1110037F02Rik, 1110038B12Rik, 1110038F14Rik, 1110046J04Rik, 1110051M20Rik, 1110059E24Rik, 1110059G10Rik, 1110065P20Rik, 1190002N15Rik, 1190005I06Rik, 1190007I07Rik, 1200007C13Rik, 1300002E11Rik, 1500002F19Rik, 1500004A13Rik, 1500009L16Rik, 1500011B03Rik, 1500011K16Rik, 1500015A07Rik, 1500026H17Rik, 1520401A03Rik, 1600002H07Rik, 1600002K03Rik, 1600012H06Rik, 1600014C10Rik, 1600014C23Rik, 1600020E01Rik, 1600029O15Rik, 1700001C02Rik, 1700001C19Rik, 1700001G01Rik, 1700001G11Rik, 1700001J03Rik, 1700001L05Rik, 1700001L19Rik, 1700001O22Rik, 1700003E16Rik, 1700003F12Rik, 1700007K13Rik, 1700007L15Rik, 1700008O03Rik, 1700010I14Rik, 1700011H14Rik, 1700013F07Rik, 1700015F17Rik, 1700016K19Rik, 1700016P03Rik, 1700017B05Rik, 1700019D03Rik, 1700019G17Rik, 1700020D05Rik, 1700020I14Rik, 1700020L24Rik, 1700021F05Rik, 1700022N22Rik, 1700023F06Rik, 1700023H06Rik, 1700025G04Rik, 1700026J14Rik, 1700027I24Rik, 1700028B04Rik, 1700028E10Rik, 1700028I16Rik, 1700028J19Rik, 1700028K03Rik, 1700028N14Rik, 1700029I15Rik, 1700029J07Rik, 1700030C10Rik, 1700030J22Rik, 1700030K09Rik, ...]\n\n[14878 rows x 0 columns]",
      "text/html": "<div>\n<style scoped>\n    .dataframe tbody tr th:only-of-type {\n        vertical-align: middle;\n    }\n\n    .dataframe tbody tr th {\n        vertical-align: top;\n    }\n\n    .dataframe thead th {\n        text-align: right;\n    }\n</style>\n<table border=\"1\" class=\"dataframe\">\n  <thead>\n    <tr style=\"text-align: right;\">\n      <th></th>\n    </tr>\n  </thead>\n  <tbody>\n    <tr>\n      <th>0610007P14Rik</th>\n    </tr>\n    <tr>\n      <th>0610009B22Rik</th>\n    </tr>\n    <tr>\n      <th>0610009E02Rik</th>\n    </tr>\n    <tr>\n      <th>0610009L18Rik</th>\n    </tr>\n    <tr>\n      <th>0610009O20Rik</th>\n    </tr>\n    <tr>\n      <th>...</th>\n    </tr>\n    <tr>\n      <th>Zyg11b</th>\n    </tr>\n    <tr>\n      <th>Zyx</th>\n    </tr>\n    <tr>\n      <th>Zzef1</th>\n    </tr>\n    <tr>\n      <th>Zzz3</th>\n    </tr>\n    <tr>\n      <th>l7Rn6</th>\n    </tr>\n  </tbody>\n</table>\n<p>14878 rows × 0 columns</p>\n</div>"
     },
     "execution_count": 25,
     "metadata": {},
     "output_type": "execute_result"
    }
   ],
   "source": [
    "adata3.var"
   ],
   "metadata": {
    "collapsed": false,
    "ExecuteTime": {
     "end_time": "2023-07-18T08:27:19.198469Z",
     "start_time": "2023-07-18T08:27:19.135964700Z"
    }
   }
  },
  {
   "cell_type": "code",
   "execution_count": 26,
   "outputs": [],
   "source": [
    "adata3.write_h5ad(save_path + 'pre-read/combined-no-filtration.h5ad')"
   ],
   "metadata": {
    "collapsed": false,
    "ExecuteTime": {
     "end_time": "2023-07-18T08:27:19.307850100Z",
     "start_time": "2023-07-18T08:27:19.151590Z"
    }
   }
  },
  {
   "cell_type": "markdown",
   "source": [
    "# 重载数据"
   ],
   "metadata": {
    "collapsed": false
   }
  },
  {
   "cell_type": "code",
   "execution_count": 27,
   "outputs": [],
   "source": [
    "adata3 = sc.read_h5ad(save_path + '/pre-read/combined-no-filtration.h5ad')"
   ],
   "metadata": {
    "collapsed": false,
    "ExecuteTime": {
     "end_time": "2023-07-18T08:27:19.386777800Z",
     "start_time": "2023-07-18T08:27:19.292224Z"
    }
   }
  },
  {
   "cell_type": "code",
   "execution_count": 28,
   "outputs": [
    {
     "data": {
      "text/plain": "<1712x14878 sparse matrix of type '<class 'numpy.float32'>'\n\twith 2619121 stored elements in Compressed Sparse Row format>"
     },
     "execution_count": 28,
     "metadata": {},
     "output_type": "execute_result"
    }
   ],
   "source": [
    "# 稀疏矩阵存储\n",
    "from scipy.sparse import csr_matrix\n",
    "\n",
    "adata3.X = csr_matrix(adata3.X)\n",
    "adata3.X"
   ],
   "metadata": {
    "collapsed": false,
    "ExecuteTime": {
     "end_time": "2023-07-18T08:27:19.668062200Z",
     "start_time": "2023-07-18T08:27:19.386777800Z"
    }
   }
  },
  {
   "cell_type": "code",
   "execution_count": 29,
   "outputs": [
    {
     "data": {
      "text/plain": "                             Sample  doublet  n_genes_by_counts  total_counts  \\\ndelta#1-1                GSM2230761    False               2548        7640.0   \nbeta#1-1                 GSM2230761    False               2828       11616.0   \nbeta#1-2                 GSM2230761    False               2534        9066.0   \nductal#1-1               GSM2230761    False               2863        7054.0   \nductal#1-2               GSM2230761    False               2837        7175.0   \n...                             ...      ...                ...           ...   \nbeta#2-549               GSM2230762    False                805        2115.0   \nbeta#2-550               GSM2230762    False                778        1864.0   \nductal#2-37              GSM2230762    False               1010        1714.0   \nquiescent_stellate#2-17  GSM2230762    False                888        1502.0   \nductal#2-38              GSM2230762    False                860        1591.0   \n\n                         total_counts_mt  pct_counts_mt  total_counts_ribo  \\\ndelta#1-1                            0.0            0.0                0.0   \nbeta#1-1                             0.0            0.0                0.0   \nbeta#1-2                             0.0            0.0                0.0   \nductal#1-1                           0.0            0.0                0.0   \nductal#1-2                           0.0            0.0                0.0   \n...                                  ...            ...                ...   \nbeta#2-549                           0.0            0.0                0.0   \nbeta#2-550                           0.0            0.0                0.0   \nductal#2-37                          0.0            0.0                0.0   \nquiescent_stellate#2-17              0.0            0.0                0.0   \nductal#2-38                          0.0            0.0                0.0   \n\n                         pct_counts_ribo          cell_label  \ndelta#1-1                            0.0               delta  \nbeta#1-1                             0.0                beta  \nbeta#1-2                             0.0                beta  \nductal#1-1                           0.0              ductal  \nductal#1-2                           0.0              ductal  \n...                                  ...                 ...  \nbeta#2-549                           0.0                beta  \nbeta#2-550                           0.0                beta  \nductal#2-37                          0.0              ductal  \nquiescent_stellate#2-17              0.0  quiescent_stellate  \nductal#2-38                          0.0              ductal  \n\n[1712 rows x 9 columns]",
      "text/html": "<div>\n<style scoped>\n    .dataframe tbody tr th:only-of-type {\n        vertical-align: middle;\n    }\n\n    .dataframe tbody tr th {\n        vertical-align: top;\n    }\n\n    .dataframe thead th {\n        text-align: right;\n    }\n</style>\n<table border=\"1\" class=\"dataframe\">\n  <thead>\n    <tr style=\"text-align: right;\">\n      <th></th>\n      <th>Sample</th>\n      <th>doublet</th>\n      <th>n_genes_by_counts</th>\n      <th>total_counts</th>\n      <th>total_counts_mt</th>\n      <th>pct_counts_mt</th>\n      <th>total_counts_ribo</th>\n      <th>pct_counts_ribo</th>\n      <th>cell_label</th>\n    </tr>\n  </thead>\n  <tbody>\n    <tr>\n      <th>delta#1-1</th>\n      <td>GSM2230761</td>\n      <td>False</td>\n      <td>2548</td>\n      <td>7640.0</td>\n      <td>0.0</td>\n      <td>0.0</td>\n      <td>0.0</td>\n      <td>0.0</td>\n      <td>delta</td>\n    </tr>\n    <tr>\n      <th>beta#1-1</th>\n      <td>GSM2230761</td>\n      <td>False</td>\n      <td>2828</td>\n      <td>11616.0</td>\n      <td>0.0</td>\n      <td>0.0</td>\n      <td>0.0</td>\n      <td>0.0</td>\n      <td>beta</td>\n    </tr>\n    <tr>\n      <th>beta#1-2</th>\n      <td>GSM2230761</td>\n      <td>False</td>\n      <td>2534</td>\n      <td>9066.0</td>\n      <td>0.0</td>\n      <td>0.0</td>\n      <td>0.0</td>\n      <td>0.0</td>\n      <td>beta</td>\n    </tr>\n    <tr>\n      <th>ductal#1-1</th>\n      <td>GSM2230761</td>\n      <td>False</td>\n      <td>2863</td>\n      <td>7054.0</td>\n      <td>0.0</td>\n      <td>0.0</td>\n      <td>0.0</td>\n      <td>0.0</td>\n      <td>ductal</td>\n    </tr>\n    <tr>\n      <th>ductal#1-2</th>\n      <td>GSM2230761</td>\n      <td>False</td>\n      <td>2837</td>\n      <td>7175.0</td>\n      <td>0.0</td>\n      <td>0.0</td>\n      <td>0.0</td>\n      <td>0.0</td>\n      <td>ductal</td>\n    </tr>\n    <tr>\n      <th>...</th>\n      <td>...</td>\n      <td>...</td>\n      <td>...</td>\n      <td>...</td>\n      <td>...</td>\n      <td>...</td>\n      <td>...</td>\n      <td>...</td>\n      <td>...</td>\n    </tr>\n    <tr>\n      <th>beta#2-549</th>\n      <td>GSM2230762</td>\n      <td>False</td>\n      <td>805</td>\n      <td>2115.0</td>\n      <td>0.0</td>\n      <td>0.0</td>\n      <td>0.0</td>\n      <td>0.0</td>\n      <td>beta</td>\n    </tr>\n    <tr>\n      <th>beta#2-550</th>\n      <td>GSM2230762</td>\n      <td>False</td>\n      <td>778</td>\n      <td>1864.0</td>\n      <td>0.0</td>\n      <td>0.0</td>\n      <td>0.0</td>\n      <td>0.0</td>\n      <td>beta</td>\n    </tr>\n    <tr>\n      <th>ductal#2-37</th>\n      <td>GSM2230762</td>\n      <td>False</td>\n      <td>1010</td>\n      <td>1714.0</td>\n      <td>0.0</td>\n      <td>0.0</td>\n      <td>0.0</td>\n      <td>0.0</td>\n      <td>ductal</td>\n    </tr>\n    <tr>\n      <th>quiescent_stellate#2-17</th>\n      <td>GSM2230762</td>\n      <td>False</td>\n      <td>888</td>\n      <td>1502.0</td>\n      <td>0.0</td>\n      <td>0.0</td>\n      <td>0.0</td>\n      <td>0.0</td>\n      <td>quiescent_stellate</td>\n    </tr>\n    <tr>\n      <th>ductal#2-38</th>\n      <td>GSM2230762</td>\n      <td>False</td>\n      <td>860</td>\n      <td>1591.0</td>\n      <td>0.0</td>\n      <td>0.0</td>\n      <td>0.0</td>\n      <td>0.0</td>\n      <td>ductal</td>\n    </tr>\n  </tbody>\n</table>\n<p>1712 rows × 9 columns</p>\n</div>"
     },
     "execution_count": 29,
     "metadata": {},
     "output_type": "execute_result"
    }
   ],
   "source": [
    "adata3.obs"
   ],
   "metadata": {
    "collapsed": false,
    "ExecuteTime": {
     "end_time": "2023-07-18T08:27:19.714940400Z",
     "start_time": "2023-07-18T08:27:19.668062200Z"
    }
   }
  },
  {
   "cell_type": "code",
   "execution_count": 30,
   "outputs": [
    {
     "data": {
      "text/plain": "Empty DataFrame\nColumns: []\nIndex: [0610007P14Rik, 0610009B22Rik, 0610009E02Rik, 0610009L18Rik, 0610009O20Rik, 0610010F05Rik, 0610010K14Rik, 0610011F06Rik, 0610012G03Rik, 0610025J13Rik, 0610030E20Rik, 0610037L13Rik, 0610040B10Rik, 0610040J01Rik, 1010001N08Rik, 1110001J03Rik, 1110002L01Rik, 1110004E09Rik, 1110004F10Rik, 1110008F13Rik, 1110008L16Rik, 1110008P14Rik, 1110012L19Rik, 1110017D15Rik, 1110019D14Rik, 1110020A21Rik, 1110032A03Rik, 1110032F04Rik, 1110034G24Rik, 1110037F02Rik, 1110038B12Rik, 1110038F14Rik, 1110046J04Rik, 1110051M20Rik, 1110059E24Rik, 1110059G10Rik, 1110065P20Rik, 1190002N15Rik, 1190005I06Rik, 1190007I07Rik, 1200007C13Rik, 1300002E11Rik, 1500002F19Rik, 1500004A13Rik, 1500009L16Rik, 1500011B03Rik, 1500011K16Rik, 1500015A07Rik, 1500026H17Rik, 1520401A03Rik, 1600002H07Rik, 1600002K03Rik, 1600012H06Rik, 1600014C10Rik, 1600014C23Rik, 1600020E01Rik, 1600029O15Rik, 1700001C02Rik, 1700001C19Rik, 1700001G01Rik, 1700001G11Rik, 1700001J03Rik, 1700001L05Rik, 1700001L19Rik, 1700001O22Rik, 1700003E16Rik, 1700003F12Rik, 1700007K13Rik, 1700007L15Rik, 1700008O03Rik, 1700010I14Rik, 1700011H14Rik, 1700013F07Rik, 1700015F17Rik, 1700016K19Rik, 1700016P03Rik, 1700017B05Rik, 1700019D03Rik, 1700019G17Rik, 1700020D05Rik, 1700020I14Rik, 1700020L24Rik, 1700021F05Rik, 1700022N22Rik, 1700023F06Rik, 1700023H06Rik, 1700025G04Rik, 1700026J14Rik, 1700027I24Rik, 1700028B04Rik, 1700028E10Rik, 1700028I16Rik, 1700028J19Rik, 1700028K03Rik, 1700028N14Rik, 1700029I15Rik, 1700029J07Rik, 1700030C10Rik, 1700030J22Rik, 1700030K09Rik, ...]\n\n[14878 rows x 0 columns]",
      "text/html": "<div>\n<style scoped>\n    .dataframe tbody tr th:only-of-type {\n        vertical-align: middle;\n    }\n\n    .dataframe tbody tr th {\n        vertical-align: top;\n    }\n\n    .dataframe thead th {\n        text-align: right;\n    }\n</style>\n<table border=\"1\" class=\"dataframe\">\n  <thead>\n    <tr style=\"text-align: right;\">\n      <th></th>\n    </tr>\n  </thead>\n  <tbody>\n    <tr>\n      <th>0610007P14Rik</th>\n    </tr>\n    <tr>\n      <th>0610009B22Rik</th>\n    </tr>\n    <tr>\n      <th>0610009E02Rik</th>\n    </tr>\n    <tr>\n      <th>0610009L18Rik</th>\n    </tr>\n    <tr>\n      <th>0610009O20Rik</th>\n    </tr>\n    <tr>\n      <th>...</th>\n    </tr>\n    <tr>\n      <th>Zyg11b</th>\n    </tr>\n    <tr>\n      <th>Zyx</th>\n    </tr>\n    <tr>\n      <th>Zzef1</th>\n    </tr>\n    <tr>\n      <th>Zzz3</th>\n    </tr>\n    <tr>\n      <th>l7Rn6</th>\n    </tr>\n  </tbody>\n</table>\n<p>14878 rows × 0 columns</p>\n</div>"
     },
     "execution_count": 30,
     "metadata": {},
     "output_type": "execute_result"
    }
   ],
   "source": [
    "adata3.var"
   ],
   "metadata": {
    "collapsed": false,
    "ExecuteTime": {
     "end_time": "2023-07-18T08:27:19.746192100Z",
     "start_time": "2023-07-18T08:27:19.683688100Z"
    }
   }
  },
  {
   "cell_type": "code",
   "execution_count": 31,
   "outputs": [
    {
     "data": {
      "text/plain": "AnnData object with n_obs × n_vars = 1712 × 10327\n    obs: 'Sample', 'doublet', 'n_genes_by_counts', 'total_counts', 'total_counts_mt', 'pct_counts_mt', 'total_counts_ribo', 'pct_counts_ribo', 'cell_label'\n    var: 'n_cells'"
     },
     "execution_count": 31,
     "metadata": {},
     "output_type": "execute_result"
    }
   ],
   "source": [
    "adata3.obs.groupby('Sample').count()\n",
    "sc.pp.filter_genes(adata3, min_cells=30)\n",
    "adata3"
   ],
   "metadata": {
    "collapsed": false,
    "ExecuteTime": {
     "end_time": "2023-07-18T08:27:19.793070500Z",
     "start_time": "2023-07-18T08:27:19.699314200Z"
    }
   }
  },
  {
   "cell_type": "code",
   "execution_count": 32,
   "outputs": [
    {
     "data": {
      "text/plain": "AnnData object with n_obs × n_vars = 1712 × 10327\n    obs: 'Sample', 'doublet', 'n_genes_by_counts', 'total_counts', 'total_counts_mt', 'pct_counts_mt', 'total_counts_ribo', 'pct_counts_ribo', 'cell_label'\n    var: 'n_cells'\n    layers: 'counts'"
     },
     "execution_count": 32,
     "metadata": {},
     "output_type": "execute_result"
    }
   ],
   "source": [
    "# layers里的counts存储的是X的数值备份\n",
    "adata3.layers['counts'] = adata3.X.copy()\n",
    "# adata3.layers['counts']\n",
    "adata3"
   ],
   "metadata": {
    "collapsed": false,
    "ExecuteTime": {
     "end_time": "2023-07-18T08:27:19.793070500Z",
     "start_time": "2023-07-18T08:27:19.761817900Z"
    }
   }
  },
  {
   "cell_type": "code",
   "execution_count": 33,
   "outputs": [
    {
     "data": {
      "text/plain": "AnnData object with n_obs × n_vars = 1712 × 10327\n    obs: 'Sample', 'doublet', 'n_genes_by_counts', 'total_counts', 'total_counts_mt', 'pct_counts_mt', 'total_counts_ribo', 'pct_counts_ribo', 'cell_label'\n    var: 'n_cells'\n    uns: 'log1p'\n    layers: 'counts'"
     },
     "execution_count": 33,
     "metadata": {},
     "output_type": "execute_result"
    }
   ],
   "source": [
    "sc.pp.normalize_total(adata3, target_sum=1e4)\n",
    "sc.pp.log1p(adata3)\n",
    "adata3.raw = adata3\n",
    "adata3"
   ],
   "metadata": {
    "collapsed": false,
    "ExecuteTime": {
     "end_time": "2023-07-18T08:27:19.918078900Z",
     "start_time": "2023-07-18T08:27:19.777444300Z"
    }
   }
  },
  {
   "cell_type": "code",
   "execution_count": 34,
   "outputs": [
    {
     "data": {
      "text/plain": "matrix([[2858.0647],\n        [2667.3164],\n        [2708.1562],\n        ...,\n        [2173.4744],\n        [2001.0315],\n        [1953.1965]], dtype=float32)"
     },
     "execution_count": 34,
     "metadata": {},
     "output_type": "execute_result"
    }
   ],
   "source": [
    "adata3.X.sum(axis=1)"
   ],
   "metadata": {
    "collapsed": false,
    "ExecuteTime": {
     "end_time": "2023-07-18T08:27:19.918078900Z",
     "start_time": "2023-07-18T08:27:19.839948Z"
    }
   }
  },
  {
   "cell_type": "code",
   "execution_count": 35,
   "outputs": [
    {
     "data": {
      "text/plain": "<1712x10327 sparse matrix of type '<class 'numpy.float32'>'\n\twith 2572478 stored elements in Compressed Sparse Row format>"
     },
     "execution_count": 35,
     "metadata": {},
     "output_type": "execute_result"
    }
   ],
   "source": [
    "adata3.layers[\"counts\"]"
   ],
   "metadata": {
    "collapsed": false,
    "ExecuteTime": {
     "end_time": "2023-07-18T08:27:19.918078900Z",
     "start_time": "2023-07-18T08:27:19.855574700Z"
    }
   }
  },
  {
   "cell_type": "code",
   "execution_count": 36,
   "outputs": [
    {
     "data": {
      "text/plain": "<anndata._core.raw.Raw at 0x1a60549a4c0>"
     },
     "execution_count": 36,
     "metadata": {},
     "output_type": "execute_result"
    }
   ],
   "source": [
    "adata3.raw"
   ],
   "metadata": {
    "collapsed": false,
    "ExecuteTime": {
     "end_time": "2023-07-18T08:27:19.918078900Z",
     "start_time": "2023-07-18T08:27:19.871201200Z"
    }
   }
  },
  {
   "cell_type": "code",
   "execution_count": 37,
   "outputs": [
    {
     "data": {
      "text/plain": "                             Sample  doublet  n_genes_by_counts  total_counts  \\\ndelta#1-1                GSM2230761    False               2548        7640.0   \nbeta#1-1                 GSM2230761    False               2828       11616.0   \nbeta#1-2                 GSM2230761    False               2534        9066.0   \nductal#1-1               GSM2230761    False               2863        7054.0   \nductal#1-2               GSM2230761    False               2837        7175.0   \n...                             ...      ...                ...           ...   \nbeta#2-549               GSM2230762    False                805        2115.0   \nbeta#2-550               GSM2230762    False                778        1864.0   \nductal#2-37              GSM2230762    False               1010        1714.0   \nquiescent_stellate#2-17  GSM2230762    False                888        1502.0   \nductal#2-38              GSM2230762    False                860        1591.0   \n\n                         total_counts_mt  pct_counts_mt  total_counts_ribo  \\\ndelta#1-1                            0.0            0.0                0.0   \nbeta#1-1                             0.0            0.0                0.0   \nbeta#1-2                             0.0            0.0                0.0   \nductal#1-1                           0.0            0.0                0.0   \nductal#1-2                           0.0            0.0                0.0   \n...                                  ...            ...                ...   \nbeta#2-549                           0.0            0.0                0.0   \nbeta#2-550                           0.0            0.0                0.0   \nductal#2-37                          0.0            0.0                0.0   \nquiescent_stellate#2-17              0.0            0.0                0.0   \nductal#2-38                          0.0            0.0                0.0   \n\n                         pct_counts_ribo          cell_label  \ndelta#1-1                            0.0               delta  \nbeta#1-1                             0.0                beta  \nbeta#1-2                             0.0                beta  \nductal#1-1                           0.0              ductal  \nductal#1-2                           0.0              ductal  \n...                                  ...                 ...  \nbeta#2-549                           0.0                beta  \nbeta#2-550                           0.0                beta  \nductal#2-37                          0.0              ductal  \nquiescent_stellate#2-17              0.0  quiescent_stellate  \nductal#2-38                          0.0              ductal  \n\n[1712 rows x 9 columns]",
      "text/html": "<div>\n<style scoped>\n    .dataframe tbody tr th:only-of-type {\n        vertical-align: middle;\n    }\n\n    .dataframe tbody tr th {\n        vertical-align: top;\n    }\n\n    .dataframe thead th {\n        text-align: right;\n    }\n</style>\n<table border=\"1\" class=\"dataframe\">\n  <thead>\n    <tr style=\"text-align: right;\">\n      <th></th>\n      <th>Sample</th>\n      <th>doublet</th>\n      <th>n_genes_by_counts</th>\n      <th>total_counts</th>\n      <th>total_counts_mt</th>\n      <th>pct_counts_mt</th>\n      <th>total_counts_ribo</th>\n      <th>pct_counts_ribo</th>\n      <th>cell_label</th>\n    </tr>\n  </thead>\n  <tbody>\n    <tr>\n      <th>delta#1-1</th>\n      <td>GSM2230761</td>\n      <td>False</td>\n      <td>2548</td>\n      <td>7640.0</td>\n      <td>0.0</td>\n      <td>0.0</td>\n      <td>0.0</td>\n      <td>0.0</td>\n      <td>delta</td>\n    </tr>\n    <tr>\n      <th>beta#1-1</th>\n      <td>GSM2230761</td>\n      <td>False</td>\n      <td>2828</td>\n      <td>11616.0</td>\n      <td>0.0</td>\n      <td>0.0</td>\n      <td>0.0</td>\n      <td>0.0</td>\n      <td>beta</td>\n    </tr>\n    <tr>\n      <th>beta#1-2</th>\n      <td>GSM2230761</td>\n      <td>False</td>\n      <td>2534</td>\n      <td>9066.0</td>\n      <td>0.0</td>\n      <td>0.0</td>\n      <td>0.0</td>\n      <td>0.0</td>\n      <td>beta</td>\n    </tr>\n    <tr>\n      <th>ductal#1-1</th>\n      <td>GSM2230761</td>\n      <td>False</td>\n      <td>2863</td>\n      <td>7054.0</td>\n      <td>0.0</td>\n      <td>0.0</td>\n      <td>0.0</td>\n      <td>0.0</td>\n      <td>ductal</td>\n    </tr>\n    <tr>\n      <th>ductal#1-2</th>\n      <td>GSM2230761</td>\n      <td>False</td>\n      <td>2837</td>\n      <td>7175.0</td>\n      <td>0.0</td>\n      <td>0.0</td>\n      <td>0.0</td>\n      <td>0.0</td>\n      <td>ductal</td>\n    </tr>\n    <tr>\n      <th>...</th>\n      <td>...</td>\n      <td>...</td>\n      <td>...</td>\n      <td>...</td>\n      <td>...</td>\n      <td>...</td>\n      <td>...</td>\n      <td>...</td>\n      <td>...</td>\n    </tr>\n    <tr>\n      <th>beta#2-549</th>\n      <td>GSM2230762</td>\n      <td>False</td>\n      <td>805</td>\n      <td>2115.0</td>\n      <td>0.0</td>\n      <td>0.0</td>\n      <td>0.0</td>\n      <td>0.0</td>\n      <td>beta</td>\n    </tr>\n    <tr>\n      <th>beta#2-550</th>\n      <td>GSM2230762</td>\n      <td>False</td>\n      <td>778</td>\n      <td>1864.0</td>\n      <td>0.0</td>\n      <td>0.0</td>\n      <td>0.0</td>\n      <td>0.0</td>\n      <td>beta</td>\n    </tr>\n    <tr>\n      <th>ductal#2-37</th>\n      <td>GSM2230762</td>\n      <td>False</td>\n      <td>1010</td>\n      <td>1714.0</td>\n      <td>0.0</td>\n      <td>0.0</td>\n      <td>0.0</td>\n      <td>0.0</td>\n      <td>ductal</td>\n    </tr>\n    <tr>\n      <th>quiescent_stellate#2-17</th>\n      <td>GSM2230762</td>\n      <td>False</td>\n      <td>888</td>\n      <td>1502.0</td>\n      <td>0.0</td>\n      <td>0.0</td>\n      <td>0.0</td>\n      <td>0.0</td>\n      <td>quiescent_stellate</td>\n    </tr>\n    <tr>\n      <th>ductal#2-38</th>\n      <td>GSM2230762</td>\n      <td>False</td>\n      <td>860</td>\n      <td>1591.0</td>\n      <td>0.0</td>\n      <td>0.0</td>\n      <td>0.0</td>\n      <td>0.0</td>\n      <td>ductal</td>\n    </tr>\n  </tbody>\n</table>\n<p>1712 rows × 9 columns</p>\n</div>"
     },
     "execution_count": 37,
     "metadata": {},
     "output_type": "execute_result"
    }
   ],
   "source": [
    "adata3.obs"
   ],
   "metadata": {
    "collapsed": false,
    "ExecuteTime": {
     "end_time": "2023-07-18T08:27:19.918078900Z",
     "start_time": "2023-07-18T08:27:19.886827500Z"
    }
   }
  },
  {
   "cell_type": "code",
   "execution_count": 38,
   "outputs": [
    {
     "name": "stderr",
     "output_type": "stream",
     "text": [
      "GPU available: True (cuda), used: True\n",
      "TPU available: False, using: 0 TPU cores\n",
      "IPU available: False, using: 0 IPUs\n",
      "HPU available: False, using: 0 HPUs\n",
      "LOCAL_RANK: 0 - CUDA_VISIBLE_DEVICES: [0]\n"
     ]
    },
    {
     "name": "stdout",
     "output_type": "stream",
     "text": [
      "Epoch 400/400: 100%|██████████| 400/400 [01:21<00:00,  5.38it/s, v_num=1, train_loss_step=4.51e+3, train_loss_epoch=4.72e+3]"
     ]
    },
    {
     "name": "stderr",
     "output_type": "stream",
     "text": [
      "`Trainer.fit` stopped: `max_epochs=400` reached.\n"
     ]
    },
    {
     "name": "stdout",
     "output_type": "stream",
     "text": [
      "Epoch 400/400: 100%|██████████| 400/400 [01:21<00:00,  4.91it/s, v_num=1, train_loss_step=4.51e+3, train_loss_epoch=4.72e+3]\n"
     ]
    }
   ],
   "source": [
    "scvi.model.SCVI.setup_anndata(adata3, layer=\"counts\",\n",
    "                              categorical_covariate_keys=[\"Sample\"],\n",
    "                              continuous_covariate_keys=['pct_counts_mt', 'total_counts', 'pct_counts_ribo'])\n",
    "# scvi.model.SCVI.setup_anndata(adata3)\n",
    "model = scvi.model.SCVI(adata3)\n",
    "model.train()"
   ],
   "metadata": {
    "collapsed": false,
    "ExecuteTime": {
     "end_time": "2023-07-18T08:28:41.537228900Z",
     "start_time": "2023-07-18T08:27:19.902452300Z"
    }
   }
  },
  {
   "cell_type": "code",
   "execution_count": 39,
   "outputs": [],
   "source": [
    "# 潜在的低维表示\n",
    "adata3.obsm['X_scVI'] = model.get_latent_representation()\n",
    "# 获取正则化后的表达\n",
    "adata3.layers['scvi_normalized'] = model.get_normalized_expression(library_size=1e4)"
   ],
   "metadata": {
    "collapsed": false,
    "ExecuteTime": {
     "end_time": "2023-07-18T08:28:41.788455700Z",
     "start_time": "2023-07-18T08:28:41.537228900Z"
    }
   }
  },
  {
   "cell_type": "code",
   "execution_count": 40,
   "outputs": [
    {
     "data": {
      "text/plain": "array([[ 0.9145378 , -2.6127145 ,  1.6962485 , ..., -0.9457644 ,\n         0.20227838,  2.3744335 ],\n       [-1.785511  ,  1.6887118 ,  2.8549347 , ...,  2.488152  ,\n         1.0684826 ,  0.7214409 ],\n       [-1.7149239 ,  0.8974848 ,  0.67479825, ..., -1.703937  ,\n         0.63801205,  0.5369009 ],\n       ...,\n       [-2.1082258 ,  3.3243248 ,  0.8842559 , ..., -0.42742372,\n         1.158363  ,  1.0393018 ],\n       [ 0.65050566,  1.9255508 , -0.3466506 , ...,  2.8278985 ,\n        -2.2720275 , -0.274109  ],\n       [-1.8966384 ,  1.1537211 , -0.72027284, ...,  2.4997048 ,\n        -2.066842  , -3.4001322 ]], dtype=float32)"
     },
     "execution_count": 40,
     "metadata": {},
     "output_type": "execute_result"
    }
   ],
   "source": [
    "adata3.obsm['X_scVI']"
   ],
   "metadata": {
    "collapsed": false,
    "ExecuteTime": {
     "end_time": "2023-07-18T08:28:41.806980500Z",
     "start_time": "2023-07-18T08:28:41.788455700Z"
    }
   }
  },
  {
   "cell_type": "code",
   "execution_count": 41,
   "outputs": [],
   "source": [
    "adata3.obsm['scvi_normalized'] = adata3.layers['scvi_normalized']"
   ],
   "metadata": {
    "collapsed": false,
    "ExecuteTime": {
     "end_time": "2023-07-18T08:28:41.832357900Z",
     "start_time": "2023-07-18T08:28:41.806980500Z"
    }
   }
  },
  {
   "cell_type": "code",
   "execution_count": 42,
   "outputs": [
    {
     "data": {
      "text/plain": "array([10000.   ,  9999.999, 10000.   , ..., 10000.   , 10000.001,\n       10000.   ], dtype=float32)"
     },
     "execution_count": 42,
     "metadata": {},
     "output_type": "execute_result"
    }
   ],
   "source": [
    "adata3.obsm['scvi_normalized'].sum(axis=1)"
   ],
   "metadata": {
    "collapsed": false,
    "ExecuteTime": {
     "end_time": "2023-07-18T08:28:41.881261900Z",
     "start_time": "2023-07-18T08:28:41.820510600Z"
    }
   }
  },
  {
   "cell_type": "code",
   "execution_count": 43,
   "outputs": [
    {
     "name": "stderr",
     "output_type": "stream",
     "text": [
      "C:\\Users\\25363\\anaconda3\\envs\\scVI\\lib\\site-packages\\umap\\distances.py:1063: NumbaDeprecationWarning: \u001B[1mThe 'nopython' keyword argument was not supplied to the 'numba.jit' decorator. The implicit default value for this argument is currently False, but it will be changed to True in Numba 0.59.0. See https://numba.readthedocs.io/en/stable/reference/deprecation.html#deprecation-of-object-mode-fall-back-behaviour-when-using-jit for details.\u001B[0m\n",
      "  @numba.jit()\n",
      "C:\\Users\\25363\\anaconda3\\envs\\scVI\\lib\\site-packages\\umap\\distances.py:1071: NumbaDeprecationWarning: \u001B[1mThe 'nopython' keyword argument was not supplied to the 'numba.jit' decorator. The implicit default value for this argument is currently False, but it will be changed to True in Numba 0.59.0. See https://numba.readthedocs.io/en/stable/reference/deprecation.html#deprecation-of-object-mode-fall-back-behaviour-when-using-jit for details.\u001B[0m\n",
      "  @numba.jit()\n",
      "C:\\Users\\25363\\anaconda3\\envs\\scVI\\lib\\site-packages\\umap\\distances.py:1086: NumbaDeprecationWarning: \u001B[1mThe 'nopython' keyword argument was not supplied to the 'numba.jit' decorator. The implicit default value for this argument is currently False, but it will be changed to True in Numba 0.59.0. See https://numba.readthedocs.io/en/stable/reference/deprecation.html#deprecation-of-object-mode-fall-back-behaviour-when-using-jit for details.\u001B[0m\n",
      "  @numba.jit()\n",
      "C:\\Users\\25363\\anaconda3\\envs\\scVI\\lib\\site-packages\\umap\\umap_.py:660: NumbaDeprecationWarning: \u001B[1mThe 'nopython' keyword argument was not supplied to the 'numba.jit' decorator. The implicit default value for this argument is currently False, but it will be changed to True in Numba 0.59.0. See https://numba.readthedocs.io/en/stable/reference/deprecation.html#deprecation-of-object-mode-fall-back-behaviour-when-using-jit for details.\u001B[0m\n",
      "  @numba.jit()\n"
     ]
    }
   ],
   "source": [
    "# use_rep参数使用 X或者任何 .obsm的键都有效\n",
    "sc.pp.neighbors(adata3, use_rep='X_scVI')\n",
    "# sc.pp.neighbors(adata3, use_rep='scvi_normalized')\n",
    "# sc.pp.neighbors(adata3, use_rep='X')"
   ],
   "metadata": {
    "collapsed": false,
    "ExecuteTime": {
     "end_time": "2023-07-18T08:28:48.612029500Z",
     "start_time": "2023-07-18T08:28:41.858411500Z"
    }
   }
  },
  {
   "cell_type": "code",
   "execution_count": 44,
   "outputs": [
    {
     "data": {
      "text/plain": "                             Sample  doublet  n_genes_by_counts  total_counts  \\\ndelta#1-1                GSM2230761    False               2548        7640.0   \nbeta#1-1                 GSM2230761    False               2828       11616.0   \nbeta#1-2                 GSM2230761    False               2534        9066.0   \nductal#1-1               GSM2230761    False               2863        7054.0   \nductal#1-2               GSM2230761    False               2837        7175.0   \n...                             ...      ...                ...           ...   \nbeta#2-549               GSM2230762    False                805        2115.0   \nbeta#2-550               GSM2230762    False                778        1864.0   \nductal#2-37              GSM2230762    False               1010        1714.0   \nquiescent_stellate#2-17  GSM2230762    False                888        1502.0   \nductal#2-38              GSM2230762    False                860        1591.0   \n\n                         total_counts_mt  pct_counts_mt  total_counts_ribo  \\\ndelta#1-1                            0.0            0.0                0.0   \nbeta#1-1                             0.0            0.0                0.0   \nbeta#1-2                             0.0            0.0                0.0   \nductal#1-1                           0.0            0.0                0.0   \nductal#1-2                           0.0            0.0                0.0   \n...                                  ...            ...                ...   \nbeta#2-549                           0.0            0.0                0.0   \nbeta#2-550                           0.0            0.0                0.0   \nductal#2-37                          0.0            0.0                0.0   \nquiescent_stellate#2-17              0.0            0.0                0.0   \nductal#2-38                          0.0            0.0                0.0   \n\n                         pct_counts_ribo          cell_label  _scvi_batch  \\\ndelta#1-1                            0.0               delta            0   \nbeta#1-1                             0.0                beta            0   \nbeta#1-2                             0.0                beta            0   \nductal#1-1                           0.0              ductal            0   \nductal#1-2                           0.0              ductal            0   \n...                                  ...                 ...          ...   \nbeta#2-549                           0.0                beta            0   \nbeta#2-550                           0.0                beta            0   \nductal#2-37                          0.0              ductal            0   \nquiescent_stellate#2-17              0.0  quiescent_stellate            0   \nductal#2-38                          0.0              ductal            0   \n\n                         _scvi_labels  \ndelta#1-1                           0  \nbeta#1-1                            0  \nbeta#1-2                            0  \nductal#1-1                          0  \nductal#1-2                          0  \n...                               ...  \nbeta#2-549                          0  \nbeta#2-550                          0  \nductal#2-37                         0  \nquiescent_stellate#2-17             0  \nductal#2-38                         0  \n\n[1712 rows x 11 columns]",
      "text/html": "<div>\n<style scoped>\n    .dataframe tbody tr th:only-of-type {\n        vertical-align: middle;\n    }\n\n    .dataframe tbody tr th {\n        vertical-align: top;\n    }\n\n    .dataframe thead th {\n        text-align: right;\n    }\n</style>\n<table border=\"1\" class=\"dataframe\">\n  <thead>\n    <tr style=\"text-align: right;\">\n      <th></th>\n      <th>Sample</th>\n      <th>doublet</th>\n      <th>n_genes_by_counts</th>\n      <th>total_counts</th>\n      <th>total_counts_mt</th>\n      <th>pct_counts_mt</th>\n      <th>total_counts_ribo</th>\n      <th>pct_counts_ribo</th>\n      <th>cell_label</th>\n      <th>_scvi_batch</th>\n      <th>_scvi_labels</th>\n    </tr>\n  </thead>\n  <tbody>\n    <tr>\n      <th>delta#1-1</th>\n      <td>GSM2230761</td>\n      <td>False</td>\n      <td>2548</td>\n      <td>7640.0</td>\n      <td>0.0</td>\n      <td>0.0</td>\n      <td>0.0</td>\n      <td>0.0</td>\n      <td>delta</td>\n      <td>0</td>\n      <td>0</td>\n    </tr>\n    <tr>\n      <th>beta#1-1</th>\n      <td>GSM2230761</td>\n      <td>False</td>\n      <td>2828</td>\n      <td>11616.0</td>\n      <td>0.0</td>\n      <td>0.0</td>\n      <td>0.0</td>\n      <td>0.0</td>\n      <td>beta</td>\n      <td>0</td>\n      <td>0</td>\n    </tr>\n    <tr>\n      <th>beta#1-2</th>\n      <td>GSM2230761</td>\n      <td>False</td>\n      <td>2534</td>\n      <td>9066.0</td>\n      <td>0.0</td>\n      <td>0.0</td>\n      <td>0.0</td>\n      <td>0.0</td>\n      <td>beta</td>\n      <td>0</td>\n      <td>0</td>\n    </tr>\n    <tr>\n      <th>ductal#1-1</th>\n      <td>GSM2230761</td>\n      <td>False</td>\n      <td>2863</td>\n      <td>7054.0</td>\n      <td>0.0</td>\n      <td>0.0</td>\n      <td>0.0</td>\n      <td>0.0</td>\n      <td>ductal</td>\n      <td>0</td>\n      <td>0</td>\n    </tr>\n    <tr>\n      <th>ductal#1-2</th>\n      <td>GSM2230761</td>\n      <td>False</td>\n      <td>2837</td>\n      <td>7175.0</td>\n      <td>0.0</td>\n      <td>0.0</td>\n      <td>0.0</td>\n      <td>0.0</td>\n      <td>ductal</td>\n      <td>0</td>\n      <td>0</td>\n    </tr>\n    <tr>\n      <th>...</th>\n      <td>...</td>\n      <td>...</td>\n      <td>...</td>\n      <td>...</td>\n      <td>...</td>\n      <td>...</td>\n      <td>...</td>\n      <td>...</td>\n      <td>...</td>\n      <td>...</td>\n      <td>...</td>\n    </tr>\n    <tr>\n      <th>beta#2-549</th>\n      <td>GSM2230762</td>\n      <td>False</td>\n      <td>805</td>\n      <td>2115.0</td>\n      <td>0.0</td>\n      <td>0.0</td>\n      <td>0.0</td>\n      <td>0.0</td>\n      <td>beta</td>\n      <td>0</td>\n      <td>0</td>\n    </tr>\n    <tr>\n      <th>beta#2-550</th>\n      <td>GSM2230762</td>\n      <td>False</td>\n      <td>778</td>\n      <td>1864.0</td>\n      <td>0.0</td>\n      <td>0.0</td>\n      <td>0.0</td>\n      <td>0.0</td>\n      <td>beta</td>\n      <td>0</td>\n      <td>0</td>\n    </tr>\n    <tr>\n      <th>ductal#2-37</th>\n      <td>GSM2230762</td>\n      <td>False</td>\n      <td>1010</td>\n      <td>1714.0</td>\n      <td>0.0</td>\n      <td>0.0</td>\n      <td>0.0</td>\n      <td>0.0</td>\n      <td>ductal</td>\n      <td>0</td>\n      <td>0</td>\n    </tr>\n    <tr>\n      <th>quiescent_stellate#2-17</th>\n      <td>GSM2230762</td>\n      <td>False</td>\n      <td>888</td>\n      <td>1502.0</td>\n      <td>0.0</td>\n      <td>0.0</td>\n      <td>0.0</td>\n      <td>0.0</td>\n      <td>quiescent_stellate</td>\n      <td>0</td>\n      <td>0</td>\n    </tr>\n    <tr>\n      <th>ductal#2-38</th>\n      <td>GSM2230762</td>\n      <td>False</td>\n      <td>860</td>\n      <td>1591.0</td>\n      <td>0.0</td>\n      <td>0.0</td>\n      <td>0.0</td>\n      <td>0.0</td>\n      <td>ductal</td>\n      <td>0</td>\n      <td>0</td>\n    </tr>\n  </tbody>\n</table>\n<p>1712 rows × 11 columns</p>\n</div>"
     },
     "execution_count": 44,
     "metadata": {},
     "output_type": "execute_result"
    }
   ],
   "source": [
    "adata3.obs"
   ],
   "metadata": {
    "collapsed": false,
    "ExecuteTime": {
     "end_time": "2023-07-18T08:28:48.643281900Z",
     "start_time": "2023-07-18T08:28:48.612029500Z"
    }
   }
  },
  {
   "cell_type": "code",
   "execution_count": 45,
   "outputs": [
    {
     "name": "stdout",
     "output_type": "stream",
     "text": [
      "WARNING: You’re trying to run this on 10327 dimensions of `.X`, if you really want this, set `use_rep='X'`.\n",
      "         Falling back to preprocessing with `sc.pp.pca` and default params.\n"
     ]
    },
    {
     "name": "stderr",
     "output_type": "stream",
     "text": [
      "C:\\Users\\25363\\anaconda3\\envs\\scVI\\lib\\site-packages\\scanpy\\plotting\\_tools\\scatterplots.py:392: UserWarning: No data for colormapping provided via 'c'. Parameters 'cmap' will be ignored\n",
      "  cax = scatter(\n"
     ]
    },
    {
     "data": {
      "text/plain": "<Figure size 640x480 with 1 Axes>",
      "image/png": "[encoded data removed]"
     },
     "metadata": {},
     "output_type": "display_data"
    }
   ],
   "source": [
    "# tsne降维做聚类\n",
    "sc.tl.tsne(adata3)\n",
    "# sc.tl.leiden(adata3, resolution=1)\n",
    "sc.pl.tsne(adata3, color=['cell_label'], frameon=False)"
   ],
   "metadata": {
    "collapsed": false,
    "ExecuteTime": {
     "end_time": "2023-07-18T08:28:56.988625900Z",
     "start_time": "2023-07-18T08:28:48.643281900Z"
    }
   }
  },
  {
   "cell_type": "code",
   "execution_count": 46,
   "outputs": [
    {
     "data": {
      "text/plain": "array([[ 35.693737 ,   4.5445094],\n       [-20.305834 , -20.156519 ],\n       [-20.472551 , -18.385815 ],\n       ...,\n       [-48.575592 ,   8.181451 ],\n       [-29.341682 ,  21.085535 ],\n       [-50.694202 ,  -2.7687242]], dtype=float32)"
     },
     "execution_count": 46,
     "metadata": {},
     "output_type": "execute_result"
    }
   ],
   "source": [
    "adata3.obsm['X_tsne']"
   ],
   "metadata": {
    "collapsed": false,
    "ExecuteTime": {
     "end_time": "2023-07-18T08:28:56.988625900Z",
     "start_time": "2023-07-18T08:28:56.894872800Z"
    }
   }
  },
  {
   "cell_type": "code",
   "execution_count": 47,
   "outputs": [],
   "source": [
    "tsne_0 = adata3.obsm['X_tsne'][:, 0]\n",
    "tsne_1 = adata3.obsm['X_tsne'][:, 1]"
   ],
   "metadata": {
    "collapsed": false,
    "ExecuteTime": {
     "end_time": "2023-07-18T08:28:57.004252400Z",
     "start_time": "2023-07-18T08:28:56.910497500Z"
    }
   }
  },
  {
   "cell_type": "code",
   "execution_count": 48,
   "outputs": [],
   "source": [
    "adata3.obs['tsne_0'] = tsne_0\n",
    "adata3.obs['tsne_1'] = tsne_1"
   ],
   "metadata": {
    "collapsed": false,
    "ExecuteTime": {
     "end_time": "2023-07-18T08:28:57.004252400Z",
     "start_time": "2023-07-18T08:28:56.926122Z"
    }
   }
  },
  {
   "cell_type": "markdown",
   "source": [
    "# Find markers/ label cell types"
   ],
   "metadata": {
    "collapsed": false
   }
  },
  {
   "cell_type": "code",
   "execution_count": 49,
   "outputs": [
    {
     "name": "stdout",
     "output_type": "stream",
     "text": [
      "WARNING: Default of the method has been changed to 't-test' from 't-test_overestim_var'\n"
     ]
    },
    {
     "ename": "ValueError",
     "evalue": "Could not calculate statistics for groups schwann since they only contain one sample.",
     "output_type": "error",
     "traceback": [
      "\u001B[1;31m---------------------------------------------------------------------------\u001B[0m",
      "\u001B[1;31mValueError\u001B[0m                                Traceback (most recent call last)",
      "Cell \u001B[1;32mIn[49], line 2\u001B[0m\n\u001B[0;32m      1\u001B[0m \u001B[38;5;66;03m# sc.tl.leiden(adata3, resolution=1)\u001B[39;00m\n\u001B[1;32m----> 2\u001B[0m \u001B[43msc\u001B[49m\u001B[38;5;241;43m.\u001B[39;49m\u001B[43mtl\u001B[49m\u001B[38;5;241;43m.\u001B[39;49m\u001B[43mrank_genes_groups\u001B[49m\u001B[43m(\u001B[49m\u001B[43madata3\u001B[49m\u001B[43m,\u001B[49m\u001B[43m \u001B[49m\u001B[38;5;124;43m'\u001B[39;49m\u001B[38;5;124;43mcell_label\u001B[39;49m\u001B[38;5;124;43m'\u001B[39;49m\u001B[43m)\u001B[49m\n",
      "File \u001B[1;32m~\\anaconda3\\envs\\scVI\\lib\\site-packages\\scanpy\\tools\\_rank_genes_groups.py:590\u001B[0m, in \u001B[0;36mrank_genes_groups\u001B[1;34m(adata, groupby, use_raw, groups, reference, n_genes, rankby_abs, pts, key_added, copy, method, corr_method, tie_correct, layer, **kwds)\u001B[0m\n\u001B[0;32m    580\u001B[0m adata\u001B[38;5;241m.\u001B[39muns[key_added] \u001B[38;5;241m=\u001B[39m {}\n\u001B[0;32m    581\u001B[0m adata\u001B[38;5;241m.\u001B[39muns[key_added][\u001B[38;5;124m'\u001B[39m\u001B[38;5;124mparams\u001B[39m\u001B[38;5;124m'\u001B[39m] \u001B[38;5;241m=\u001B[39m \u001B[38;5;28mdict\u001B[39m(\n\u001B[0;32m    582\u001B[0m     groupby\u001B[38;5;241m=\u001B[39mgroupby,\n\u001B[0;32m    583\u001B[0m     reference\u001B[38;5;241m=\u001B[39mreference,\n\u001B[1;32m   (...)\u001B[0m\n\u001B[0;32m    587\u001B[0m     corr_method\u001B[38;5;241m=\u001B[39mcorr_method,\n\u001B[0;32m    588\u001B[0m )\n\u001B[1;32m--> 590\u001B[0m test_obj \u001B[38;5;241m=\u001B[39m \u001B[43m_RankGenes\u001B[49m\u001B[43m(\u001B[49m\u001B[43madata\u001B[49m\u001B[43m,\u001B[49m\u001B[43m \u001B[49m\u001B[43mgroups_order\u001B[49m\u001B[43m,\u001B[49m\u001B[43m \u001B[49m\u001B[43mgroupby\u001B[49m\u001B[43m,\u001B[49m\u001B[43m \u001B[49m\u001B[43mreference\u001B[49m\u001B[43m,\u001B[49m\u001B[43m \u001B[49m\u001B[43muse_raw\u001B[49m\u001B[43m,\u001B[49m\u001B[43m \u001B[49m\u001B[43mlayer\u001B[49m\u001B[43m,\u001B[49m\u001B[43m \u001B[49m\u001B[43mpts\u001B[49m\u001B[43m)\u001B[49m\n\u001B[0;32m    592\u001B[0m \u001B[38;5;28;01mif\u001B[39;00m check_nonnegative_integers(test_obj\u001B[38;5;241m.\u001B[39mX) \u001B[38;5;129;01mand\u001B[39;00m method \u001B[38;5;241m!=\u001B[39m \u001B[38;5;124m'\u001B[39m\u001B[38;5;124mlogreg\u001B[39m\u001B[38;5;124m'\u001B[39m:\n\u001B[0;32m    593\u001B[0m     logg\u001B[38;5;241m.\u001B[39mwarning(\n\u001B[0;32m    594\u001B[0m         \u001B[38;5;124m\"\u001B[39m\u001B[38;5;124mIt seems you use rank_genes_groups on the raw count data. \u001B[39m\u001B[38;5;124m\"\u001B[39m\n\u001B[0;32m    595\u001B[0m         \u001B[38;5;124m\"\u001B[39m\u001B[38;5;124mPlease logarithmize your data before calling rank_genes_groups.\u001B[39m\u001B[38;5;124m\"\u001B[39m\n\u001B[0;32m    596\u001B[0m     )\n",
      "File \u001B[1;32m~\\anaconda3\\envs\\scVI\\lib\\site-packages\\scanpy\\tools\\_rank_genes_groups.py:108\u001B[0m, in \u001B[0;36m_RankGenes.__init__\u001B[1;34m(self, adata, groups, groupby, reference, use_raw, layer, comp_pts)\u001B[0m\n\u001B[0;32m    103\u001B[0m invalid_groups_selected \u001B[38;5;241m=\u001B[39m \u001B[38;5;28mset\u001B[39m(\u001B[38;5;28mself\u001B[39m\u001B[38;5;241m.\u001B[39mgroups_order) \u001B[38;5;241m&\u001B[39m \u001B[38;5;28mset\u001B[39m(\n\u001B[0;32m    104\u001B[0m     adata\u001B[38;5;241m.\u001B[39mobs[groupby]\u001B[38;5;241m.\u001B[39mvalue_counts()\u001B[38;5;241m.\u001B[39mloc[\u001B[38;5;28;01mlambda\u001B[39;00m x: x \u001B[38;5;241m<\u001B[39m \u001B[38;5;241m2\u001B[39m]\u001B[38;5;241m.\u001B[39mindex\n\u001B[0;32m    105\u001B[0m )\n\u001B[0;32m    107\u001B[0m \u001B[38;5;28;01mif\u001B[39;00m \u001B[38;5;28mlen\u001B[39m(invalid_groups_selected) \u001B[38;5;241m>\u001B[39m \u001B[38;5;241m0\u001B[39m:\n\u001B[1;32m--> 108\u001B[0m     \u001B[38;5;28;01mraise\u001B[39;00m \u001B[38;5;167;01mValueError\u001B[39;00m(\n\u001B[0;32m    109\u001B[0m         \u001B[38;5;124m\"\u001B[39m\u001B[38;5;124mCould not calculate statistics for groups \u001B[39m\u001B[38;5;132;01m{}\u001B[39;00m\u001B[38;5;124m since they only \u001B[39m\u001B[38;5;124m\"\u001B[39m\n\u001B[0;32m    110\u001B[0m         \u001B[38;5;124m\"\u001B[39m\u001B[38;5;124mcontain one sample.\u001B[39m\u001B[38;5;124m\"\u001B[39m\u001B[38;5;241m.\u001B[39mformat(\u001B[38;5;124m'\u001B[39m\u001B[38;5;124m, \u001B[39m\u001B[38;5;124m'\u001B[39m\u001B[38;5;241m.\u001B[39mjoin(invalid_groups_selected))\n\u001B[0;32m    111\u001B[0m     )\n\u001B[0;32m    113\u001B[0m adata_comp \u001B[38;5;241m=\u001B[39m adata\n\u001B[0;32m    114\u001B[0m \u001B[38;5;28;01mif\u001B[39;00m layer \u001B[38;5;129;01mis\u001B[39;00m \u001B[38;5;129;01mnot\u001B[39;00m \u001B[38;5;28;01mNone\u001B[39;00m:\n",
      "\u001B[1;31mValueError\u001B[0m: Could not calculate statistics for groups schwann since they only contain one sample."
     ]
    }
   ],
   "source": [
    "# sc.tl.leiden(adata3, resolution=1)\n",
    "sc.tl.rank_genes_groups(adata3, 'cell_label')"
   ],
   "metadata": {
    "collapsed": false,
    "ExecuteTime": {
     "end_time": "2023-07-18T08:28:57.421943500Z",
     "start_time": "2023-07-18T08:28:56.941748300Z"
    }
   }
  },
  {
   "cell_type": "code",
   "execution_count": null,
   "outputs": [],
   "source": [
    "#sc.pl.rank_genes_groups(adata, n_genes=20, sharey=False)\n",
    "\n",
    "markers = sc.get.rank_genes_groups_df(adata3, None)\n",
    "markers = markers[(markers.pvals_adj < 0.05) & (markers.logfoldchanges > .5)]\n",
    "markers"
   ],
   "metadata": {
    "collapsed": false
   }
  },
  {
   "cell_type": "code",
   "execution_count": null,
   "outputs": [],
   "source": [
    "# markers_scvi = model.differential_expression(groupby = 'leiden')\n",
    "markers_scvi = model.differential_expression(groupby='cell_label')\n",
    "markers_scvi"
   ],
   "metadata": {
    "collapsed": false
   }
  },
  {
   "cell_type": "code",
   "execution_count": null,
   "outputs": [],
   "source": [
    "markers_scvi = markers_scvi[(markers_scvi['is_de_fdr_0.05']) & (markers_scvi.lfc_mean > .5)]\n",
    "markers_scvi"
   ],
   "metadata": {
    "collapsed": false
   }
  },
  {
   "cell_type": "code",
   "execution_count": null,
   "outputs": [],
   "source": [
    "adata3.obs"
   ],
   "metadata": {
    "collapsed": false
   }
  },
  {
   "cell_type": "code",
   "execution_count": null,
   "outputs": [],
   "source": [
    "sc.pl.tsne(adata3, color = ['cell_label', 'Sample'], frameon = False)\n",
    "# , legend_loc = \"on data\""
   ],
   "metadata": {
    "collapsed": false
   }
  },
  {
   "cell_type": "code",
   "execution_count": null,
   "outputs": [],
   "source": [
    "sc.pl.tsne(adata3, color=['cell_label'], frameon=False)"
   ],
   "metadata": {
    "collapsed": false
   }
  },
  {
   "cell_type": "code",
   "execution_count": null,
   "outputs": [],
   "source": [
    "# 将Marker Gene存到数据的uns中，uns是非结构化数据的意思\n",
    "adata3.uns['markers_scvi'] = markers_scvi\n",
    "adata3.uns['markers'] = markers"
   ],
   "metadata": {
    "collapsed": false
   }
  },
  {
   "cell_type": "code",
   "execution_count": null,
   "outputs": [],
   "source": [
    "adata3.write_h5ad(save_path + '/pre-read/integrated-no-filtration.h5ad')"
   ],
   "metadata": {
    "collapsed": false
   }
  },
  {
   "cell_type": "code",
   "execution_count": null,
   "outputs": [],
   "source": [],
   "metadata": {
    "collapsed": false
   }
  }
 ],
 "metadata": {
  "kernelspec": {
   "display_name": "Python 3",
   "language": "python",
   "name": "python3"
  },
  "language_info": {
   "codemirror_mode": {
    "name": "ipython",
    "version": 2
   },
   "file_extension": ".py",
   "mimetype": "text/x-python",
   "name": "python",
   "nbconvert_exporter": "python",
   "pygments_lexer": "ipython2",
   "version": "2.7.6"
  }
 },
 "nbformat": 4,
 "nbformat_minor": 0
}
